{
 "cells": [
  {
   "cell_type": "markdown",
   "metadata": {
    "ExecuteTime": {
     "end_time": "2021-03-27T20:58:22.276780Z",
     "start_time": "2021-03-27T20:58:22.274533Z"
    }
   },
   "source": [
    "# PA005: High Value Customer Identification"
   ]
  },
  {
   "cell_type": "code",
   "execution_count": 106,
   "metadata": {
    "ExecuteTime": {
     "end_time": "2022-05-18T17:15:29.457431Z",
     "start_time": "2022-05-18T17:15:29.453192Z"
    }
   },
   "outputs": [],
   "source": [
    "import os\n",
    "import joblib\n",
    "import re\n",
    "import pickle\n",
    "import s3fs\n",
    "import numpy   as np\n",
    "import pandas  as pd\n",
    "import seaborn as sns\n",
    "\n",
    "import umap.umap_ as umap\n",
    "\n",
    "from matplotlib import pyplot as plt\n",
    "\n",
    "from sklearn import cluster       as c\n",
    "from sklearn import metrics       as m\n",
    "from sklearn import ensemble      as en\n",
    "from sklearn import preprocessing as pp\n",
    "from sklearn import decomposition as dd\n",
    "from sklearn import manifold      as mn\n",
    "from sklearn import mixture       as mx\n",
    "\n",
    "from plotly import express as px\n",
    "from IPython.display import HTML"
   ]
  },
  {
   "cell_type": "code",
   "execution_count": 107,
   "metadata": {
    "ExecuteTime": {
     "end_time": "2022-05-18T17:15:33.746731Z",
     "start_time": "2022-05-18T17:15:33.734706Z"
    }
   },
   "outputs": [
    {
     "name": "stdout",
     "output_type": "stream",
     "text": [
      "%pylab is deprecated, use %matplotlib inline and import the required libraries.\n",
      "Populating the interactive namespace from numpy and matplotlib\n"
     ]
    },
    {
     "data": {
      "text/html": [
       "<style>.container { width:100% !important; }</style>"
      ],
      "text/plain": [
       "<IPython.core.display.HTML object>"
      ]
     },
     "metadata": {},
     "output_type": "display_data"
    }
   ],
   "source": [
    "def jupyter_settings():\n",
    "    %matplotlib inline\n",
    "    %pylab inline\n",
    "    \n",
    "    plt.style.use( 'ggplot')\n",
    "    plt.rcParams['figure.figsize'] = [24, 9]\n",
    "    plt.rcParams['font.size'] = 24\n",
    "    \n",
    "    display( HTML( '<style>.container { width:100% !important; }</style>') )\n",
    "    pd.options.display.max_columns = None\n",
    "    pd.options.display.max_rows = None\n",
    "    pd.set_option( 'display.expand_frame_repr', False )\n",
    "    \n",
    "    sns.set()\n",
    "    \n",
    "jupyter_settings();"
   ]
  },
  {
   "cell_type": "code",
   "execution_count": 2,
   "metadata": {
    "ExecuteTime": {
     "end_time": "2022-05-18T16:28:50.314885Z",
     "start_time": "2022-05-18T16:28:50.312239Z"
    }
   },
   "outputs": [],
   "source": [
    "AWS_ACCESS_KEY_ID = os.environ.get( 'AWS_ACCESS_KEY_ID_CDS' )\n",
    "AWS_SECRET_ACCESS_KEY = os.environ.get( 'AWS_SECRET_ACCESS_KEY_CDS' )"
   ]
  },
  {
   "cell_type": "markdown",
   "metadata": {},
   "source": [
    "## 0.2. Load dataset"
   ]
  },
  {
   "cell_type": "code",
   "execution_count": 3,
   "metadata": {
    "ExecuteTime": {
     "end_time": "2022-05-18T16:29:19.301566Z",
     "start_time": "2022-05-18T16:28:50.316729Z"
    }
   },
   "outputs": [],
   "source": [
    "# load data\n",
    "#path_local = '/Users/brunoschirmer/repos/pa005_insiders_clustering/insiders_clustering/'\n",
    "path_s3 = 's3://insiders-dataset-bs/'\n",
    "df_raw = pd.read_csv( path_s3 + 'Ecommerce.csv', encoding='iso-8859-1', storage_options={'key': AWS_ACCESS_KEY_ID, 'secret': AWS_SECRET_ACCESS_KEY} )\n",
    "\n",
    "# drop extra column\n",
    "df_raw = df_raw.drop( columns=['Unnamed: 8'], axis=1 )"
   ]
  },
  {
   "cell_type": "markdown",
   "metadata": {},
   "source": [
    "# <font color='red'> 1.0. Descrição dos dados </font>"
   ]
  },
  {
   "cell_type": "code",
   "execution_count": 4,
   "metadata": {
    "ExecuteTime": {
     "end_time": "2022-05-18T16:29:19.317397Z",
     "start_time": "2022-05-18T16:29:19.304256Z"
    }
   },
   "outputs": [],
   "source": [
    "df1 = df_raw.copy()"
   ]
  },
  {
   "cell_type": "code",
   "execution_count": 5,
   "metadata": {
    "ExecuteTime": {
     "end_time": "2022-05-18T16:29:19.336334Z",
     "start_time": "2022-05-18T16:29:19.319399Z"
    }
   },
   "outputs": [
    {
     "data": {
      "text/html": [
       "<div>\n",
       "<style scoped>\n",
       "    .dataframe tbody tr th:only-of-type {\n",
       "        vertical-align: middle;\n",
       "    }\n",
       "\n",
       "    .dataframe tbody tr th {\n",
       "        vertical-align: top;\n",
       "    }\n",
       "\n",
       "    .dataframe thead th {\n",
       "        text-align: right;\n",
       "    }\n",
       "</style>\n",
       "<table border=\"1\" class=\"dataframe\">\n",
       "  <thead>\n",
       "    <tr style=\"text-align: right;\">\n",
       "      <th></th>\n",
       "      <th>InvoiceNo</th>\n",
       "      <th>StockCode</th>\n",
       "      <th>Description</th>\n",
       "      <th>Quantity</th>\n",
       "      <th>InvoiceDate</th>\n",
       "      <th>UnitPrice</th>\n",
       "      <th>CustomerID</th>\n",
       "      <th>Country</th>\n",
       "    </tr>\n",
       "  </thead>\n",
       "  <tbody>\n",
       "    <tr>\n",
       "      <th>0</th>\n",
       "      <td>536365</td>\n",
       "      <td>85123A</td>\n",
       "      <td>WHITE HANGING HEART T-LIGHT HOLDER</td>\n",
       "      <td>6</td>\n",
       "      <td>29-Nov-16</td>\n",
       "      <td>2.55</td>\n",
       "      <td>17850.0</td>\n",
       "      <td>United Kingdom</td>\n",
       "    </tr>\n",
       "    <tr>\n",
       "      <th>1</th>\n",
       "      <td>536365</td>\n",
       "      <td>71053</td>\n",
       "      <td>WHITE METAL LANTERN</td>\n",
       "      <td>6</td>\n",
       "      <td>29-Nov-16</td>\n",
       "      <td>3.39</td>\n",
       "      <td>17850.0</td>\n",
       "      <td>United Kingdom</td>\n",
       "    </tr>\n",
       "    <tr>\n",
       "      <th>2</th>\n",
       "      <td>536365</td>\n",
       "      <td>84406B</td>\n",
       "      <td>CREAM CUPID HEARTS COAT HANGER</td>\n",
       "      <td>8</td>\n",
       "      <td>29-Nov-16</td>\n",
       "      <td>2.75</td>\n",
       "      <td>17850.0</td>\n",
       "      <td>United Kingdom</td>\n",
       "    </tr>\n",
       "    <tr>\n",
       "      <th>3</th>\n",
       "      <td>536365</td>\n",
       "      <td>84029G</td>\n",
       "      <td>KNITTED UNION FLAG HOT WATER BOTTLE</td>\n",
       "      <td>6</td>\n",
       "      <td>29-Nov-16</td>\n",
       "      <td>3.39</td>\n",
       "      <td>17850.0</td>\n",
       "      <td>United Kingdom</td>\n",
       "    </tr>\n",
       "    <tr>\n",
       "      <th>4</th>\n",
       "      <td>536365</td>\n",
       "      <td>84029E</td>\n",
       "      <td>RED WOOLLY HOTTIE WHITE HEART.</td>\n",
       "      <td>6</td>\n",
       "      <td>29-Nov-16</td>\n",
       "      <td>3.39</td>\n",
       "      <td>17850.0</td>\n",
       "      <td>United Kingdom</td>\n",
       "    </tr>\n",
       "  </tbody>\n",
       "</table>\n",
       "</div>"
      ],
      "text/plain": [
       "  InvoiceNo StockCode                          Description  Quantity  \\\n",
       "0    536365    85123A   WHITE HANGING HEART T-LIGHT HOLDER         6   \n",
       "1    536365     71053                  WHITE METAL LANTERN         6   \n",
       "2    536365    84406B       CREAM CUPID HEARTS COAT HANGER         8   \n",
       "3    536365    84029G  KNITTED UNION FLAG HOT WATER BOTTLE         6   \n",
       "4    536365    84029E       RED WOOLLY HOTTIE WHITE HEART.         6   \n",
       "\n",
       "  InvoiceDate  UnitPrice  CustomerID         Country  \n",
       "0   29-Nov-16       2.55     17850.0  United Kingdom  \n",
       "1   29-Nov-16       3.39     17850.0  United Kingdom  \n",
       "2   29-Nov-16       2.75     17850.0  United Kingdom  \n",
       "3   29-Nov-16       3.39     17850.0  United Kingdom  \n",
       "4   29-Nov-16       3.39     17850.0  United Kingdom  "
      ]
     },
     "execution_count": 5,
     "metadata": {},
     "output_type": "execute_result"
    }
   ],
   "source": [
    "df1.head()"
   ]
  },
  {
   "cell_type": "markdown",
   "metadata": {},
   "source": [
    "## 1.1. Rename columuns"
   ]
  },
  {
   "cell_type": "code",
   "execution_count": 6,
   "metadata": {
    "ExecuteTime": {
     "end_time": "2022-05-18T16:29:19.342202Z",
     "start_time": "2022-05-18T16:29:19.338785Z"
    }
   },
   "outputs": [],
   "source": [
    "cols_new = ['invoice_no', 'stock_code', 'description', 'quantity', 'invoice_date', 'unit_price', 'customer_id', 'country']\n",
    "df1.columns = cols_new"
   ]
  },
  {
   "cell_type": "markdown",
   "metadata": {},
   "source": [
    "## 1.2. Data dimensions"
   ]
  },
  {
   "cell_type": "code",
   "execution_count": 7,
   "metadata": {
    "ExecuteTime": {
     "end_time": "2022-05-18T16:29:19.347905Z",
     "start_time": "2022-05-18T16:29:19.344353Z"
    }
   },
   "outputs": [
    {
     "name": "stdout",
     "output_type": "stream",
     "text": [
      "Number of rows: 541909\n",
      "Number of cols: 8\n"
     ]
    }
   ],
   "source": [
    "print( 'Number of rows: {}'.format( df1.shape[0] ) )\n",
    "print( 'Number of cols: {}'.format( df1.shape[1] ) )"
   ]
  },
  {
   "cell_type": "markdown",
   "metadata": {},
   "source": [
    "## 1.3. Data types"
   ]
  },
  {
   "cell_type": "code",
   "execution_count": 8,
   "metadata": {
    "ExecuteTime": {
     "end_time": "2022-05-18T16:29:19.355128Z",
     "start_time": "2022-05-18T16:29:19.350307Z"
    }
   },
   "outputs": [
    {
     "data": {
      "text/plain": [
       "invoice_no       object\n",
       "stock_code       object\n",
       "description      object\n",
       "quantity          int64\n",
       "invoice_date     object\n",
       "unit_price      float64\n",
       "customer_id     float64\n",
       "country          object\n",
       "dtype: object"
      ]
     },
     "execution_count": 8,
     "metadata": {},
     "output_type": "execute_result"
    }
   ],
   "source": [
    "df1.dtypes"
   ]
  },
  {
   "cell_type": "markdown",
   "metadata": {},
   "source": [
    "## 1.4. Check NA"
   ]
  },
  {
   "cell_type": "code",
   "execution_count": 9,
   "metadata": {
    "ExecuteTime": {
     "end_time": "2022-05-18T16:29:19.689834Z",
     "start_time": "2022-05-18T16:29:19.356846Z"
    }
   },
   "outputs": [
    {
     "data": {
      "text/plain": [
       "invoice_no           0\n",
       "stock_code           0\n",
       "description       1454\n",
       "quantity             0\n",
       "invoice_date         0\n",
       "unit_price           0\n",
       "customer_id     135080\n",
       "country              0\n",
       "dtype: int64"
      ]
     },
     "execution_count": 9,
     "metadata": {},
     "output_type": "execute_result"
    }
   ],
   "source": [
    "df1.isna().sum()"
   ]
  },
  {
   "cell_type": "markdown",
   "metadata": {},
   "source": [
    "## 1.5. Replace NA"
   ]
  },
  {
   "cell_type": "code",
   "execution_count": 10,
   "metadata": {
    "ExecuteTime": {
     "end_time": "2022-05-18T16:29:19.733556Z",
     "start_time": "2022-05-18T16:29:19.693689Z"
    }
   },
   "outputs": [],
   "source": [
    "df_missing = df1.loc[df1['customer_id'].isna(), :]\n",
    "df_not_missing = df1.loc[~df1['customer_id'].isna(), :]"
   ]
  },
  {
   "cell_type": "code",
   "execution_count": 11,
   "metadata": {
    "ExecuteTime": {
     "end_time": "2022-05-18T16:29:19.921074Z",
     "start_time": "2022-05-18T16:29:19.735370Z"
    }
   },
   "outputs": [],
   "source": [
    "# create reference\n",
    "df_backup = pd.DataFrame( df_missing['invoice_no'].drop_duplicates() )\n",
    "df_backup['customer_id'] = np.arange( 19000, 19000+len( df_backup ), 1)\n",
    "\n",
    "# merge original with reference dataframe\n",
    "df1 = pd.merge( df1, df_backup, on='invoice_no', how='left' )\n",
    "\n",
    "# coalesce \n",
    "df1['customer_id'] = df1['customer_id_x'].combine_first( df1['customer_id_y'] )\n",
    "\n",
    "# drop extra columns\n",
    "df1 = df1.drop( columns=['customer_id_x', 'customer_id_y'], axis=1 )"
   ]
  },
  {
   "cell_type": "code",
   "execution_count": 12,
   "metadata": {
    "ExecuteTime": {
     "end_time": "2022-05-18T16:29:20.226345Z",
     "start_time": "2022-05-18T16:29:19.923142Z"
    }
   },
   "outputs": [
    {
     "data": {
      "text/plain": [
       "invoice_no         0\n",
       "stock_code         0\n",
       "description     1454\n",
       "quantity           0\n",
       "invoice_date       0\n",
       "unit_price         0\n",
       "country            0\n",
       "customer_id        0\n",
       "dtype: int64"
      ]
     },
     "execution_count": 12,
     "metadata": {},
     "output_type": "execute_result"
    }
   ],
   "source": [
    "df1.isna().sum()"
   ]
  },
  {
   "cell_type": "markdown",
   "metadata": {},
   "source": [
    "## 1.6. Change dtypes"
   ]
  },
  {
   "cell_type": "code",
   "execution_count": 13,
   "metadata": {
    "ExecuteTime": {
     "end_time": "2022-05-18T16:29:20.303280Z",
     "start_time": "2022-05-18T16:29:20.227701Z"
    }
   },
   "outputs": [
    {
     "data": {
      "text/html": [
       "<div>\n",
       "<style scoped>\n",
       "    .dataframe tbody tr th:only-of-type {\n",
       "        vertical-align: middle;\n",
       "    }\n",
       "\n",
       "    .dataframe tbody tr th {\n",
       "        vertical-align: top;\n",
       "    }\n",
       "\n",
       "    .dataframe thead th {\n",
       "        text-align: right;\n",
       "    }\n",
       "</style>\n",
       "<table border=\"1\" class=\"dataframe\">\n",
       "  <thead>\n",
       "    <tr style=\"text-align: right;\">\n",
       "      <th></th>\n",
       "      <th>invoice_no</th>\n",
       "      <th>stock_code</th>\n",
       "      <th>description</th>\n",
       "      <th>quantity</th>\n",
       "      <th>invoice_date</th>\n",
       "      <th>unit_price</th>\n",
       "      <th>country</th>\n",
       "      <th>customer_id</th>\n",
       "    </tr>\n",
       "  </thead>\n",
       "  <tbody>\n",
       "    <tr>\n",
       "      <th>0</th>\n",
       "      <td>536365</td>\n",
       "      <td>85123A</td>\n",
       "      <td>WHITE HANGING HEART T-LIGHT HOLDER</td>\n",
       "      <td>6</td>\n",
       "      <td>2016-11-29</td>\n",
       "      <td>2.55</td>\n",
       "      <td>United Kingdom</td>\n",
       "      <td>17850</td>\n",
       "    </tr>\n",
       "    <tr>\n",
       "      <th>1</th>\n",
       "      <td>536365</td>\n",
       "      <td>71053</td>\n",
       "      <td>WHITE METAL LANTERN</td>\n",
       "      <td>6</td>\n",
       "      <td>2016-11-29</td>\n",
       "      <td>3.39</td>\n",
       "      <td>United Kingdom</td>\n",
       "      <td>17850</td>\n",
       "    </tr>\n",
       "    <tr>\n",
       "      <th>2</th>\n",
       "      <td>536365</td>\n",
       "      <td>84406B</td>\n",
       "      <td>CREAM CUPID HEARTS COAT HANGER</td>\n",
       "      <td>8</td>\n",
       "      <td>2016-11-29</td>\n",
       "      <td>2.75</td>\n",
       "      <td>United Kingdom</td>\n",
       "      <td>17850</td>\n",
       "    </tr>\n",
       "    <tr>\n",
       "      <th>3</th>\n",
       "      <td>536365</td>\n",
       "      <td>84029G</td>\n",
       "      <td>KNITTED UNION FLAG HOT WATER BOTTLE</td>\n",
       "      <td>6</td>\n",
       "      <td>2016-11-29</td>\n",
       "      <td>3.39</td>\n",
       "      <td>United Kingdom</td>\n",
       "      <td>17850</td>\n",
       "    </tr>\n",
       "    <tr>\n",
       "      <th>4</th>\n",
       "      <td>536365</td>\n",
       "      <td>84029E</td>\n",
       "      <td>RED WOOLLY HOTTIE WHITE HEART.</td>\n",
       "      <td>6</td>\n",
       "      <td>2016-11-29</td>\n",
       "      <td>3.39</td>\n",
       "      <td>United Kingdom</td>\n",
       "      <td>17850</td>\n",
       "    </tr>\n",
       "  </tbody>\n",
       "</table>\n",
       "</div>"
      ],
      "text/plain": [
       "  invoice_no stock_code                          description  quantity  \\\n",
       "0     536365     85123A   WHITE HANGING HEART T-LIGHT HOLDER         6   \n",
       "1     536365      71053                  WHITE METAL LANTERN         6   \n",
       "2     536365     84406B       CREAM CUPID HEARTS COAT HANGER         8   \n",
       "3     536365     84029G  KNITTED UNION FLAG HOT WATER BOTTLE         6   \n",
       "4     536365     84029E       RED WOOLLY HOTTIE WHITE HEART.         6   \n",
       "\n",
       "  invoice_date  unit_price         country  customer_id  \n",
       "0   2016-11-29        2.55  United Kingdom        17850  \n",
       "1   2016-11-29        3.39  United Kingdom        17850  \n",
       "2   2016-11-29        2.75  United Kingdom        17850  \n",
       "3   2016-11-29        3.39  United Kingdom        17850  \n",
       "4   2016-11-29        3.39  United Kingdom        17850  "
      ]
     },
     "execution_count": 13,
     "metadata": {},
     "output_type": "execute_result"
    }
   ],
   "source": [
    "# invoice date\n",
    "df1['invoice_date'] = pd.to_datetime( df1['invoice_date'], format='%d-%b-%y' )\n",
    "\n",
    "# customer id\n",
    "df1['customer_id'] = df1['customer_id'].astype( int )\n",
    "df1.head()"
   ]
  },
  {
   "cell_type": "code",
   "execution_count": 14,
   "metadata": {
    "ExecuteTime": {
     "end_time": "2022-05-18T16:29:20.310653Z",
     "start_time": "2022-05-18T16:29:20.305435Z"
    }
   },
   "outputs": [
    {
     "data": {
      "text/plain": [
       "invoice_no              object\n",
       "stock_code              object\n",
       "description             object\n",
       "quantity                 int64\n",
       "invoice_date    datetime64[ns]\n",
       "unit_price             float64\n",
       "country                 object\n",
       "customer_id              int64\n",
       "dtype: object"
      ]
     },
     "execution_count": 14,
     "metadata": {},
     "output_type": "execute_result"
    }
   ],
   "source": [
    "df1.dtypes"
   ]
  },
  {
   "cell_type": "markdown",
   "metadata": {},
   "source": [
    "## 1.7. Descriptive Statistics"
   ]
  },
  {
   "cell_type": "code",
   "execution_count": 15,
   "metadata": {
    "ExecuteTime": {
     "end_time": "2022-05-18T16:29:20.316026Z",
     "start_time": "2022-05-18T16:29:20.312604Z"
    }
   },
   "outputs": [],
   "source": [
    "num_attributes = df1.select_dtypes( include=['int64', 'float64'] )\n",
    "cat_attributes = df1.select_dtypes( exclude=['int64', 'float64', 'datetime64[ns]'] )"
   ]
  },
  {
   "cell_type": "markdown",
   "metadata": {},
   "source": [
    "### 1.7.1. Numerical Attributs"
   ]
  },
  {
   "cell_type": "code",
   "execution_count": 16,
   "metadata": {
    "ExecuteTime": {
     "end_time": "2022-05-18T16:29:20.416461Z",
     "start_time": "2022-05-18T16:29:20.317864Z"
    }
   },
   "outputs": [
    {
     "data": {
      "text/html": [
       "<div>\n",
       "<style scoped>\n",
       "    .dataframe tbody tr th:only-of-type {\n",
       "        vertical-align: middle;\n",
       "    }\n",
       "\n",
       "    .dataframe tbody tr th {\n",
       "        vertical-align: top;\n",
       "    }\n",
       "\n",
       "    .dataframe thead th {\n",
       "        text-align: right;\n",
       "    }\n",
       "</style>\n",
       "<table border=\"1\" class=\"dataframe\">\n",
       "  <thead>\n",
       "    <tr style=\"text-align: right;\">\n",
       "      <th></th>\n",
       "      <th>attributes</th>\n",
       "      <th>min</th>\n",
       "      <th>max</th>\n",
       "      <th>range</th>\n",
       "      <th>mean</th>\n",
       "      <th>mediana</th>\n",
       "      <th>std</th>\n",
       "      <th>skew</th>\n",
       "      <th>kurtosis</th>\n",
       "    </tr>\n",
       "  </thead>\n",
       "  <tbody>\n",
       "    <tr>\n",
       "      <th>0</th>\n",
       "      <td>quantity</td>\n",
       "      <td>-80995.00</td>\n",
       "      <td>80995.0</td>\n",
       "      <td>161990.00</td>\n",
       "      <td>9.552250</td>\n",
       "      <td>3.00</td>\n",
       "      <td>218.080957</td>\n",
       "      <td>-0.264076</td>\n",
       "      <td>119769.160031</td>\n",
       "    </tr>\n",
       "    <tr>\n",
       "      <th>1</th>\n",
       "      <td>unit_price</td>\n",
       "      <td>-11062.06</td>\n",
       "      <td>38970.0</td>\n",
       "      <td>50032.06</td>\n",
       "      <td>4.611114</td>\n",
       "      <td>2.08</td>\n",
       "      <td>96.759764</td>\n",
       "      <td>186.506972</td>\n",
       "      <td>59005.719097</td>\n",
       "    </tr>\n",
       "    <tr>\n",
       "      <th>2</th>\n",
       "      <td>customer_id</td>\n",
       "      <td>12346.00</td>\n",
       "      <td>22709.0</td>\n",
       "      <td>10363.00</td>\n",
       "      <td>16688.840453</td>\n",
       "      <td>16249.00</td>\n",
       "      <td>2911.408666</td>\n",
       "      <td>0.487449</td>\n",
       "      <td>-0.804287</td>\n",
       "    </tr>\n",
       "  </tbody>\n",
       "</table>\n",
       "</div>"
      ],
      "text/plain": [
       "    attributes       min      max      range          mean   mediana  \\\n",
       "0     quantity -80995.00  80995.0  161990.00      9.552250      3.00   \n",
       "1   unit_price -11062.06  38970.0   50032.06      4.611114      2.08   \n",
       "2  customer_id  12346.00  22709.0   10363.00  16688.840453  16249.00   \n",
       "\n",
       "           std        skew       kurtosis  \n",
       "0   218.080957   -0.264076  119769.160031  \n",
       "1    96.759764  186.506972   59005.719097  \n",
       "2  2911.408666    0.487449      -0.804287  "
      ]
     },
     "execution_count": 16,
     "metadata": {},
     "output_type": "execute_result"
    }
   ],
   "source": [
    "# central tendency - mean, median\n",
    "ct1 = pd.DataFrame( num_attributes.apply( np.mean ) ).T\n",
    "ct2 = pd.DataFrame( num_attributes.apply( np.median ) ).T\n",
    "             \n",
    "# dispersion - desvio padrão, minimo, maximo, range, skew, kurtosis\n",
    "d1 = pd.DataFrame( num_attributes.apply( np.std ) ).T\n",
    "d2 = pd.DataFrame( num_attributes.apply( np.min ) ).T\n",
    "d3 = pd.DataFrame( num_attributes.apply( np.max ) ).T\n",
    "d4 = pd.DataFrame( num_attributes.apply( lambda x: x.max() - x.min() ) ).T\n",
    "d5 = pd.DataFrame( num_attributes.apply( lambda x: x.skew() ) ).T\n",
    "d6 = pd.DataFrame( num_attributes.apply( lambda x: x.kurtosis() ) ).T\n",
    "\n",
    "# concatenate\n",
    "m1 = pd.concat( [d2, d3, d4, ct1, ct2, d1, d5, d6] ).T.reset_index()\n",
    "m1.columns = ['attributes', 'min', 'max', 'range', 'mean', 'mediana', 'std', 'skew', 'kurtosis']\n",
    "m1"
   ]
  },
  {
   "cell_type": "markdown",
   "metadata": {},
   "source": [
    "### 1.7.2. Categorical Attributs"
   ]
  },
  {
   "cell_type": "markdown",
   "metadata": {},
   "source": [
    "#### Invoice No"
   ]
  },
  {
   "cell_type": "code",
   "execution_count": 17,
   "metadata": {
    "ExecuteTime": {
     "end_time": "2022-05-18T16:29:20.982108Z",
     "start_time": "2022-05-18T16:29:20.418516Z"
    }
   },
   "outputs": [
    {
     "name": "stdout",
     "output_type": "stream",
     "text": [
      "Total number of invoices: 9291\n",
      "Total number of negative quantity: 9288\n"
     ]
    }
   ],
   "source": [
    "# problema: Temos invoice com letras e numeros\n",
    "#df1['invoice_no'].astype( int )\n",
    "\n",
    "# identficacao: \n",
    "df_letter_invoices = df1.loc[df1['invoice_no'].apply( lambda x: bool( re.search( '[^0-9]+', x ) ) ), :]\n",
    "df_letter_invoices.head()\n",
    "\n",
    "print( 'Total number of invoices: {}'.format( len( df_letter_invoices ) ) )\n",
    "print( 'Total number of negative quantity: {}'.format( len( df_letter_invoices[ df_letter_invoices['quantity'] < 0 ] ) ) )"
   ]
  },
  {
   "cell_type": "markdown",
   "metadata": {},
   "source": [
    "#### Stock Code"
   ]
  },
  {
   "cell_type": "code",
   "execution_count": 18,
   "metadata": {
    "ExecuteTime": {
     "end_time": "2022-05-18T16:29:21.503971Z",
     "start_time": "2022-05-18T16:29:20.983886Z"
    }
   },
   "outputs": [
    {
     "data": {
      "text/plain": [
       "array(['POST', 'D', 'DOT', 'M', 'S', 'AMAZONFEE', 'm', 'DCGSSBOY',\n",
       "       'DCGSSGIRL', 'PADS', 'B', 'CRUK'], dtype=object)"
      ]
     },
     "execution_count": 18,
     "metadata": {},
     "output_type": "execute_result"
    }
   ],
   "source": [
    "# check stock codes only characters\n",
    "df1.loc[df1['stock_code'].apply( lambda x: bool( re.search( '^[a-zA-Z]+$', x ) ) ), 'stock_code'].unique()\n",
    "\n",
    "# Acão:\n",
    "## 1. Remove stock_code in ['POST', 'D', 'M', 'PADS', 'DOT', 'CRUK']"
   ]
  },
  {
   "cell_type": "markdown",
   "metadata": {},
   "source": [
    "#### Description"
   ]
  },
  {
   "cell_type": "code",
   "execution_count": 19,
   "metadata": {
    "ExecuteTime": {
     "end_time": "2022-05-18T16:29:21.515074Z",
     "start_time": "2022-05-18T16:29:21.505661Z"
    }
   },
   "outputs": [
    {
     "data": {
      "text/html": [
       "<div>\n",
       "<style scoped>\n",
       "    .dataframe tbody tr th:only-of-type {\n",
       "        vertical-align: middle;\n",
       "    }\n",
       "\n",
       "    .dataframe tbody tr th {\n",
       "        vertical-align: top;\n",
       "    }\n",
       "\n",
       "    .dataframe thead th {\n",
       "        text-align: right;\n",
       "    }\n",
       "</style>\n",
       "<table border=\"1\" class=\"dataframe\">\n",
       "  <thead>\n",
       "    <tr style=\"text-align: right;\">\n",
       "      <th></th>\n",
       "      <th>invoice_no</th>\n",
       "      <th>stock_code</th>\n",
       "      <th>description</th>\n",
       "      <th>quantity</th>\n",
       "      <th>invoice_date</th>\n",
       "      <th>unit_price</th>\n",
       "      <th>country</th>\n",
       "      <th>customer_id</th>\n",
       "    </tr>\n",
       "  </thead>\n",
       "  <tbody>\n",
       "    <tr>\n",
       "      <th>0</th>\n",
       "      <td>536365</td>\n",
       "      <td>85123A</td>\n",
       "      <td>WHITE HANGING HEART T-LIGHT HOLDER</td>\n",
       "      <td>6</td>\n",
       "      <td>2016-11-29</td>\n",
       "      <td>2.55</td>\n",
       "      <td>United Kingdom</td>\n",
       "      <td>17850</td>\n",
       "    </tr>\n",
       "    <tr>\n",
       "      <th>1</th>\n",
       "      <td>536365</td>\n",
       "      <td>71053</td>\n",
       "      <td>WHITE METAL LANTERN</td>\n",
       "      <td>6</td>\n",
       "      <td>2016-11-29</td>\n",
       "      <td>3.39</td>\n",
       "      <td>United Kingdom</td>\n",
       "      <td>17850</td>\n",
       "    </tr>\n",
       "    <tr>\n",
       "      <th>2</th>\n",
       "      <td>536365</td>\n",
       "      <td>84406B</td>\n",
       "      <td>CREAM CUPID HEARTS COAT HANGER</td>\n",
       "      <td>8</td>\n",
       "      <td>2016-11-29</td>\n",
       "      <td>2.75</td>\n",
       "      <td>United Kingdom</td>\n",
       "      <td>17850</td>\n",
       "    </tr>\n",
       "    <tr>\n",
       "      <th>3</th>\n",
       "      <td>536365</td>\n",
       "      <td>84029G</td>\n",
       "      <td>KNITTED UNION FLAG HOT WATER BOTTLE</td>\n",
       "      <td>6</td>\n",
       "      <td>2016-11-29</td>\n",
       "      <td>3.39</td>\n",
       "      <td>United Kingdom</td>\n",
       "      <td>17850</td>\n",
       "    </tr>\n",
       "    <tr>\n",
       "      <th>4</th>\n",
       "      <td>536365</td>\n",
       "      <td>84029E</td>\n",
       "      <td>RED WOOLLY HOTTIE WHITE HEART.</td>\n",
       "      <td>6</td>\n",
       "      <td>2016-11-29</td>\n",
       "      <td>3.39</td>\n",
       "      <td>United Kingdom</td>\n",
       "      <td>17850</td>\n",
       "    </tr>\n",
       "  </tbody>\n",
       "</table>\n",
       "</div>"
      ],
      "text/plain": [
       "  invoice_no stock_code                          description  quantity  \\\n",
       "0     536365     85123A   WHITE HANGING HEART T-LIGHT HOLDER         6   \n",
       "1     536365      71053                  WHITE METAL LANTERN         6   \n",
       "2     536365     84406B       CREAM CUPID HEARTS COAT HANGER         8   \n",
       "3     536365     84029G  KNITTED UNION FLAG HOT WATER BOTTLE         6   \n",
       "4     536365     84029E       RED WOOLLY HOTTIE WHITE HEART.         6   \n",
       "\n",
       "  invoice_date  unit_price         country  customer_id  \n",
       "0   2016-11-29        2.55  United Kingdom        17850  \n",
       "1   2016-11-29        3.39  United Kingdom        17850  \n",
       "2   2016-11-29        2.75  United Kingdom        17850  \n",
       "3   2016-11-29        3.39  United Kingdom        17850  \n",
       "4   2016-11-29        3.39  United Kingdom        17850  "
      ]
     },
     "execution_count": 19,
     "metadata": {},
     "output_type": "execute_result"
    }
   ],
   "source": [
    "df1.head()\n",
    "\n",
    "# Acão: Delete description"
   ]
  },
  {
   "cell_type": "markdown",
   "metadata": {},
   "source": [
    "#### Country"
   ]
  },
  {
   "cell_type": "code",
   "execution_count": 20,
   "metadata": {
    "ExecuteTime": {
     "end_time": "2022-05-18T16:29:21.543872Z",
     "start_time": "2022-05-18T16:29:21.516647Z"
    }
   },
   "outputs": [
    {
     "data": {
      "text/plain": [
       "array(['United Kingdom', 'France', 'Australia', 'Netherlands', 'Germany',\n",
       "       'Norway', 'EIRE', 'Switzerland', 'Spain', 'Poland', 'Portugal',\n",
       "       'Italy', 'Belgium', 'Lithuania', 'Japan', 'Iceland',\n",
       "       'Channel Islands', 'Denmark', 'Cyprus', 'Sweden', 'Austria',\n",
       "       'Israel', 'Finland', 'Bahrain', 'Greece', 'Hong Kong', 'Singapore',\n",
       "       'Lebanon', 'United Arab Emirates', 'Saudi Arabia',\n",
       "       'Czech Republic', 'Canada', 'Unspecified', 'Brazil', 'USA',\n",
       "       'European Community', 'Malta', 'RSA'], dtype=object)"
      ]
     },
     "execution_count": 20,
     "metadata": {},
     "output_type": "execute_result"
    }
   ],
   "source": [
    "df1['country'].unique()"
   ]
  },
  {
   "cell_type": "code",
   "execution_count": 21,
   "metadata": {
    "ExecuteTime": {
     "end_time": "2022-05-18T16:29:21.581178Z",
     "start_time": "2022-05-18T16:29:21.545709Z"
    }
   },
   "outputs": [
    {
     "data": {
      "text/plain": [
       "United Kingdom    0.914320\n",
       "Germany           0.017521\n",
       "France            0.015790\n",
       "EIRE              0.015124\n",
       "Spain             0.004674\n",
       "Name: country, dtype: float64"
      ]
     },
     "execution_count": 21,
     "metadata": {},
     "output_type": "execute_result"
    }
   ],
   "source": [
    "df1['country'].value_counts( normalize=True ).head()"
   ]
  },
  {
   "cell_type": "code",
   "execution_count": 22,
   "metadata": {
    "ExecuteTime": {
     "end_time": "2022-05-18T16:29:21.656587Z",
     "start_time": "2022-05-18T16:29:21.583456Z"
    }
   },
   "outputs": [
    {
     "data": {
      "text/html": [
       "<div>\n",
       "<style scoped>\n",
       "    .dataframe tbody tr th:only-of-type {\n",
       "        vertical-align: middle;\n",
       "    }\n",
       "\n",
       "    .dataframe tbody tr th {\n",
       "        vertical-align: top;\n",
       "    }\n",
       "\n",
       "    .dataframe thead th {\n",
       "        text-align: right;\n",
       "    }\n",
       "</style>\n",
       "<table border=\"1\" class=\"dataframe\">\n",
       "  <thead>\n",
       "    <tr style=\"text-align: right;\">\n",
       "      <th></th>\n",
       "      <th>country</th>\n",
       "      <th>customer_id</th>\n",
       "    </tr>\n",
       "  </thead>\n",
       "  <tbody>\n",
       "    <tr>\n",
       "      <th>36</th>\n",
       "      <td>United Kingdom</td>\n",
       "      <td>7587</td>\n",
       "    </tr>\n",
       "    <tr>\n",
       "      <th>14</th>\n",
       "      <td>Germany</td>\n",
       "      <td>95</td>\n",
       "    </tr>\n",
       "    <tr>\n",
       "      <th>13</th>\n",
       "      <td>France</td>\n",
       "      <td>90</td>\n",
       "    </tr>\n",
       "    <tr>\n",
       "      <th>10</th>\n",
       "      <td>EIRE</td>\n",
       "      <td>44</td>\n",
       "    </tr>\n",
       "    <tr>\n",
       "      <th>31</th>\n",
       "      <td>Spain</td>\n",
       "      <td>31</td>\n",
       "    </tr>\n",
       "  </tbody>\n",
       "</table>\n",
       "</div>"
      ],
      "text/plain": [
       "           country  customer_id\n",
       "36  United Kingdom         7587\n",
       "14         Germany           95\n",
       "13          France           90\n",
       "10            EIRE           44\n",
       "31           Spain           31"
      ]
     },
     "execution_count": 22,
     "metadata": {},
     "output_type": "execute_result"
    }
   ],
   "source": [
    "df1[['customer_id', 'country']].drop_duplicates().groupby( 'country' ).count().reset_index().sort_values( 'customer_id', ascending=False).head()"
   ]
  },
  {
   "cell_type": "markdown",
   "metadata": {},
   "source": [
    "# <font color='red'> 2.0. Filtragem de Variáveis </font>"
   ]
  },
  {
   "cell_type": "code",
   "execution_count": 23,
   "metadata": {
    "ExecuteTime": {
     "end_time": "2022-05-18T16:29:21.679706Z",
     "start_time": "2022-05-18T16:29:21.658873Z"
    }
   },
   "outputs": [],
   "source": [
    "df2 = df1.copy()"
   ]
  },
  {
   "cell_type": "code",
   "execution_count": 24,
   "metadata": {
    "ExecuteTime": {
     "end_time": "2022-05-18T16:29:21.687364Z",
     "start_time": "2022-05-18T16:29:21.681803Z"
    }
   },
   "outputs": [
    {
     "data": {
      "text/plain": [
       "invoice_no              object\n",
       "stock_code              object\n",
       "description             object\n",
       "quantity                 int64\n",
       "invoice_date    datetime64[ns]\n",
       "unit_price             float64\n",
       "country                 object\n",
       "customer_id              int64\n",
       "dtype: object"
      ]
     },
     "execution_count": 24,
     "metadata": {},
     "output_type": "execute_result"
    }
   ],
   "source": [
    "df2.dtypes"
   ]
  },
  {
   "cell_type": "code",
   "execution_count": 25,
   "metadata": {
    "ExecuteTime": {
     "end_time": "2022-05-18T16:29:21.951127Z",
     "start_time": "2022-05-18T16:29:21.689850Z"
    }
   },
   "outputs": [],
   "source": [
    "# === Numerical attributes ====\n",
    "df2 = df2.loc[df2['unit_price'] >= 0.04, :]\n",
    "\n",
    "# === Categorical attributes ====\n",
    "df2 = df2[~df2['stock_code'].isin( ['POST', 'D', 'DOT', 'M', 'S', 'AMAZONFEE', 'm', 'DCGSSBOY', 'DCGSSGIRL', 'PADS', 'B', 'CRUK'] ) ]\n",
    "\n",
    "# description\n",
    "df2 = df2.drop( columns='description', axis=1 )\n",
    "\n",
    "# map -  \n",
    "df2 = df2[~df2['country'].isin( ['European Community', 'Unspecified' ] ) ]\n",
    "\n",
    "# bad users\n",
    "df2 = df2[~df2['customer_id'].isin( [16446] )]\n",
    "\n",
    "# quantity\n",
    "df2_returns = df2.loc[df1['quantity'] < 0, :]\n",
    "df2_purchases = df2.loc[df1['quantity'] >= 0, :]"
   ]
  },
  {
   "cell_type": "markdown",
   "metadata": {},
   "source": [
    "# <font color='red'> 3.0. Feature Engineering </font>"
   ]
  },
  {
   "cell_type": "code",
   "execution_count": 26,
   "metadata": {
    "ExecuteTime": {
     "end_time": "2022-05-18T16:29:21.970110Z",
     "start_time": "2022-05-18T16:29:21.952947Z"
    }
   },
   "outputs": [],
   "source": [
    "df3 = df2.copy()"
   ]
  },
  {
   "cell_type": "markdown",
   "metadata": {},
   "source": [
    "## 3.1. Feature Creation"
   ]
  },
  {
   "cell_type": "code",
   "execution_count": 27,
   "metadata": {
    "ExecuteTime": {
     "end_time": "2022-05-18T16:29:22.001039Z",
     "start_time": "2022-05-18T16:29:21.971989Z"
    }
   },
   "outputs": [],
   "source": [
    "# data reference\n",
    "df_ref = df3.drop( ['invoice_no', 'stock_code', 'quantity', 'invoice_date', 'unit_price', 'country'], axis=1 ).drop_duplicates( ignore_index=True )"
   ]
  },
  {
   "cell_type": "code",
   "execution_count": 28,
   "metadata": {
    "ExecuteTime": {
     "end_time": "2022-05-18T16:29:22.012293Z",
     "start_time": "2022-05-18T16:29:22.008584Z"
    }
   },
   "outputs": [
    {
     "data": {
      "text/plain": [
       "(5786, 1)"
      ]
     },
     "execution_count": 28,
     "metadata": {},
     "output_type": "execute_result"
    }
   ],
   "source": [
    "df_ref.shape"
   ]
  },
  {
   "cell_type": "markdown",
   "metadata": {},
   "source": [
    "### 3.1.1. Gross Revenue"
   ]
  },
  {
   "cell_type": "code",
   "execution_count": 29,
   "metadata": {
    "ExecuteTime": {
     "end_time": "2022-05-18T16:29:22.307080Z",
     "start_time": "2022-05-18T16:29:22.014316Z"
    }
   },
   "outputs": [
    {
     "name": "stderr",
     "output_type": "stream",
     "text": [
      "/var/folders/04/fz9wjmrx1fvgdw9ycmx8w0cr0000gn/T/ipykernel_50188/206990356.py:2: SettingWithCopyWarning: \n",
      "A value is trying to be set on a copy of a slice from a DataFrame.\n",
      "Try using .loc[row_indexer,col_indexer] = value instead\n",
      "\n",
      "See the caveats in the documentation: https://pandas.pydata.org/pandas-docs/stable/user_guide/indexing.html#returning-a-view-versus-a-copy\n",
      "  df2_purchases.loc[:, 'gross_revenue'] = df2_purchases.loc[:, 'quantity'] * df2_purchases.loc[:, 'unit_price']\n"
     ]
    },
    {
     "data": {
      "text/plain": [
       "customer_id       0\n",
       "gross_revenue    91\n",
       "dtype: int64"
      ]
     },
     "execution_count": 29,
     "metadata": {},
     "output_type": "execute_result"
    }
   ],
   "source": [
    "# Gross Revenue ( Faturamento ) quantity * price\n",
    "df2_purchases.loc[:, 'gross_revenue'] = df2_purchases.loc[:, 'quantity'] * df2_purchases.loc[:, 'unit_price']\n",
    "\n",
    "# Monetary\n",
    "df_monetary = df2_purchases.loc[:, ['customer_id', 'gross_revenue']].groupby( 'customer_id' ).sum().reset_index()\n",
    "df_ref = pd.merge( df_ref, df_monetary, on='customer_id', how='left' )\n",
    "df_ref.isna().sum()"
   ]
  },
  {
   "cell_type": "markdown",
   "metadata": {},
   "source": [
    "### 3.1.2. Recency - Day from last purchase"
   ]
  },
  {
   "cell_type": "code",
   "execution_count": 30,
   "metadata": {
    "ExecuteTime": {
     "end_time": "2022-05-18T16:29:22.345545Z",
     "start_time": "2022-05-18T16:29:22.308862Z"
    }
   },
   "outputs": [
    {
     "data": {
      "text/plain": [
       "customer_id       0\n",
       "gross_revenue    91\n",
       "recency_days     91\n",
       "dtype: int64"
      ]
     },
     "execution_count": 30,
     "metadata": {},
     "output_type": "execute_result"
    }
   ],
   "source": [
    "# Recency - Last day purchase\n",
    "df_recency = df2_purchases.loc[:, ['customer_id', 'invoice_date']].groupby( 'customer_id' ).max().reset_index()\n",
    "df_recency['recency_days'] = ( df2['invoice_date'].max() - df_recency['invoice_date'] ).dt.days\n",
    "df_recency = df_recency[['customer_id', 'recency_days']].copy()\n",
    "df_ref = pd.merge( df_ref, df_recency, on='customer_id', how='left' )\n",
    "df_ref.isna().sum()"
   ]
  },
  {
   "cell_type": "markdown",
   "metadata": {},
   "source": [
    "### 3.1.3. Quantity of purchased "
   ]
  },
  {
   "cell_type": "code",
   "execution_count": 31,
   "metadata": {
    "ExecuteTime": {
     "end_time": "2022-05-18T16:29:22.438020Z",
     "start_time": "2022-05-18T16:29:22.347369Z"
    }
   },
   "outputs": [
    {
     "data": {
      "text/plain": [
       "customer_id       0\n",
       "gross_revenue    91\n",
       "recency_days     91\n",
       "qtde_invoices    91\n",
       "dtype: int64"
      ]
     },
     "execution_count": 31,
     "metadata": {},
     "output_type": "execute_result"
    }
   ],
   "source": [
    "# Numero de produtos\n",
    "df_freq = (df2_purchases.loc[:, ['customer_id', 'invoice_no']].drop_duplicates()\n",
    "                                                             .groupby( 'customer_id' )\n",
    "                                                             .count()\n",
    "                                                             .reset_index()\n",
    "                                                             .rename( columns={'invoice_no': 'qtde_invoices'}) )\n",
    "df_ref = pd.merge( df_ref, df_freq, on='customer_id', how='left' )\n",
    "df_ref.isna().sum()"
   ]
  },
  {
   "cell_type": "markdown",
   "metadata": {},
   "source": [
    "### 3.1.4. Quantity total of items purchased "
   ]
  },
  {
   "cell_type": "code",
   "execution_count": 32,
   "metadata": {
    "ExecuteTime": {
     "end_time": "2022-05-18T16:29:22.484567Z",
     "start_time": "2022-05-18T16:29:22.440241Z"
    }
   },
   "outputs": [
    {
     "data": {
      "text/plain": [
       "customer_id       0\n",
       "gross_revenue    91\n",
       "recency_days     91\n",
       "qtde_invoices    91\n",
       "qtde_items       91\n",
       "dtype: int64"
      ]
     },
     "execution_count": 32,
     "metadata": {},
     "output_type": "execute_result"
    }
   ],
   "source": [
    "# Numero de produtos\n",
    "df_freq = (df2_purchases.loc[:, ['customer_id', 'quantity']].groupby( 'customer_id' ).sum()\n",
    "                                                           .reset_index()\n",
    "                                                           .rename( columns={'quantity': 'qtde_items'} ) )\n",
    "df_ref = pd.merge( df_ref, df_freq, on='customer_id', how='left' )\n",
    "df_ref.isna().sum()"
   ]
  },
  {
   "cell_type": "markdown",
   "metadata": {},
   "source": [
    "### 3.1.5. Quantity of products purchased "
   ]
  },
  {
   "cell_type": "code",
   "execution_count": 33,
   "metadata": {
    "ExecuteTime": {
     "end_time": "2022-05-18T16:29:22.591508Z",
     "start_time": "2022-05-18T16:29:22.486534Z"
    }
   },
   "outputs": [
    {
     "data": {
      "text/plain": [
       "customer_id       0\n",
       "gross_revenue    91\n",
       "recency_days     91\n",
       "qtde_invoices    91\n",
       "qtde_items       91\n",
       "qtde_products    91\n",
       "dtype: int64"
      ]
     },
     "execution_count": 33,
     "metadata": {},
     "output_type": "execute_result"
    }
   ],
   "source": [
    "# Numero de produtos\n",
    "df_freq = (df2_purchases.loc[:, ['customer_id', 'stock_code']].groupby( 'customer_id' ).count()\n",
    "                                                           .reset_index()\n",
    "                                                           .rename( columns={'stock_code': 'qtde_products'} ) )\n",
    "df_ref = pd.merge( df_ref, df_freq, on='customer_id', how='left' )\n",
    "df_ref.isna().sum()"
   ]
  },
  {
   "cell_type": "markdown",
   "metadata": {},
   "source": [
    "### 3.1.8. Frequency Purchase "
   ]
  },
  {
   "cell_type": "code",
   "execution_count": 34,
   "metadata": {
    "ExecuteTime": {
     "end_time": "2022-05-18T16:29:23.667520Z",
     "start_time": "2022-05-18T16:29:22.592865Z"
    }
   },
   "outputs": [
    {
     "data": {
      "text/plain": [
       "customer_id       0\n",
       "gross_revenue    91\n",
       "recency_days     91\n",
       "qtde_invoices    91\n",
       "qtde_items       91\n",
       "qtde_products    91\n",
       "frequency        91\n",
       "dtype: int64"
      ]
     },
     "execution_count": 34,
     "metadata": {},
     "output_type": "execute_result"
    }
   ],
   "source": [
    "df_aux = ( df2_purchases[['customer_id', 'invoice_no', 'invoice_date']].drop_duplicates()\n",
    "                                                             .groupby( 'customer_id')\n",
    "                                                             .agg( max_ = ( 'invoice_date', 'max' ), \n",
    "                                                                   min_ = ( 'invoice_date', 'min' ),\n",
    "                                                                   days_= ( 'invoice_date', lambda x: ( ( x.max() - x.min() ).days ) + 1 ),\n",
    "                                                                   buy_ = ( 'invoice_no', 'count' ) ) ).reset_index()\n",
    "# Frequency\n",
    "df_aux['frequency'] = df_aux[['buy_', 'days_']].apply( lambda x: x['buy_'] / x['days_'] if  x['days_'] != 0 else 0, axis=1 )\n",
    "\n",
    "# Merge\n",
    "df_ref = pd.merge( df_ref, df_aux[['customer_id', 'frequency']], on='customer_id', how='left' )\n",
    "\n",
    "df_ref.isna().sum()"
   ]
  },
  {
   "cell_type": "markdown",
   "metadata": {},
   "source": [
    "### 3.1.9. Number of Returns "
   ]
  },
  {
   "cell_type": "code",
   "execution_count": 35,
   "metadata": {
    "ExecuteTime": {
     "end_time": "2022-05-18T16:29:23.683143Z",
     "start_time": "2022-05-18T16:29:23.669412Z"
    }
   },
   "outputs": [
    {
     "data": {
      "text/plain": [
       "customer_id       0\n",
       "gross_revenue    91\n",
       "recency_days     91\n",
       "qtde_invoices    91\n",
       "qtde_items       91\n",
       "qtde_products    91\n",
       "frequency        91\n",
       "qtde_returns      0\n",
       "dtype: int64"
      ]
     },
     "execution_count": 35,
     "metadata": {},
     "output_type": "execute_result"
    }
   ],
   "source": [
    "# Number of Returns\n",
    "df_returns = df2_returns[['customer_id', 'quantity']].groupby( 'customer_id' ).sum().reset_index().rename( columns={'quantity':'qtde_returns'} )\n",
    "df_returns['qtde_returns'] = df_returns['qtde_returns'] * -1\n",
    "\n",
    "df_ref = pd.merge( df_ref, df_returns, how='left', on='customer_id' )\n",
    "df_ref.loc[df_ref['qtde_returns'].isna(), 'qtde_returns'] = 0\n",
    "\n",
    "df_ref.isna().sum()"
   ]
  },
  {
   "cell_type": "code",
   "execution_count": 36,
   "metadata": {
    "ExecuteTime": {
     "end_time": "2022-05-18T16:29:23.697615Z",
     "start_time": "2022-05-18T16:29:23.685238Z"
    }
   },
   "outputs": [
    {
     "data": {
      "text/html": [
       "<div>\n",
       "<style scoped>\n",
       "    .dataframe tbody tr th:only-of-type {\n",
       "        vertical-align: middle;\n",
       "    }\n",
       "\n",
       "    .dataframe tbody tr th {\n",
       "        vertical-align: top;\n",
       "    }\n",
       "\n",
       "    .dataframe thead th {\n",
       "        text-align: right;\n",
       "    }\n",
       "</style>\n",
       "<table border=\"1\" class=\"dataframe\">\n",
       "  <thead>\n",
       "    <tr style=\"text-align: right;\">\n",
       "      <th></th>\n",
       "      <th>customer_id</th>\n",
       "      <th>gross_revenue</th>\n",
       "      <th>recency_days</th>\n",
       "      <th>qtde_invoices</th>\n",
       "      <th>qtde_items</th>\n",
       "      <th>qtde_products</th>\n",
       "      <th>frequency</th>\n",
       "      <th>qtde_returns</th>\n",
       "    </tr>\n",
       "  </thead>\n",
       "  <tbody>\n",
       "    <tr>\n",
       "      <th>0</th>\n",
       "      <td>17850</td>\n",
       "      <td>5391.21</td>\n",
       "      <td>372.0</td>\n",
       "      <td>34.0</td>\n",
       "      <td>1733.0</td>\n",
       "      <td>297.0</td>\n",
       "      <td>17.000000</td>\n",
       "      <td>40.0</td>\n",
       "    </tr>\n",
       "    <tr>\n",
       "      <th>1</th>\n",
       "      <td>13047</td>\n",
       "      <td>3232.59</td>\n",
       "      <td>56.0</td>\n",
       "      <td>9.0</td>\n",
       "      <td>1390.0</td>\n",
       "      <td>171.0</td>\n",
       "      <td>0.028302</td>\n",
       "      <td>35.0</td>\n",
       "    </tr>\n",
       "    <tr>\n",
       "      <th>2</th>\n",
       "      <td>12583</td>\n",
       "      <td>6705.38</td>\n",
       "      <td>2.0</td>\n",
       "      <td>15.0</td>\n",
       "      <td>5028.0</td>\n",
       "      <td>232.0</td>\n",
       "      <td>0.040323</td>\n",
       "      <td>50.0</td>\n",
       "    </tr>\n",
       "    <tr>\n",
       "      <th>3</th>\n",
       "      <td>13748</td>\n",
       "      <td>948.25</td>\n",
       "      <td>95.0</td>\n",
       "      <td>5.0</td>\n",
       "      <td>439.0</td>\n",
       "      <td>28.0</td>\n",
       "      <td>0.017921</td>\n",
       "      <td>0.0</td>\n",
       "    </tr>\n",
       "    <tr>\n",
       "      <th>4</th>\n",
       "      <td>15100</td>\n",
       "      <td>876.00</td>\n",
       "      <td>333.0</td>\n",
       "      <td>3.0</td>\n",
       "      <td>80.0</td>\n",
       "      <td>3.0</td>\n",
       "      <td>0.073171</td>\n",
       "      <td>22.0</td>\n",
       "    </tr>\n",
       "  </tbody>\n",
       "</table>\n",
       "</div>"
      ],
      "text/plain": [
       "   customer_id  gross_revenue  recency_days  qtde_invoices  qtde_items  \\\n",
       "0        17850        5391.21         372.0           34.0      1733.0   \n",
       "1        13047        3232.59          56.0            9.0      1390.0   \n",
       "2        12583        6705.38           2.0           15.0      5028.0   \n",
       "3        13748         948.25          95.0            5.0       439.0   \n",
       "4        15100         876.00         333.0            3.0        80.0   \n",
       "\n",
       "   qtde_products  frequency  qtde_returns  \n",
       "0          297.0  17.000000          40.0  \n",
       "1          171.0   0.028302          35.0  \n",
       "2          232.0   0.040323          50.0  \n",
       "3           28.0   0.017921           0.0  \n",
       "4            3.0   0.073171          22.0  "
      ]
     },
     "execution_count": 36,
     "metadata": {},
     "output_type": "execute_result"
    }
   ],
   "source": [
    "df_ref.head()"
   ]
  },
  {
   "cell_type": "markdown",
   "metadata": {},
   "source": [
    "### 3.1.6. Average Ticket Value "
   ]
  },
  {
   "cell_type": "code",
   "execution_count": 37,
   "metadata": {
    "ExecuteTime": {
     "end_time": "2022-05-18T16:29:35.865067Z",
     "start_time": "2022-05-18T16:29:35.826790Z"
    }
   },
   "outputs": [
    {
     "data": {
      "text/plain": [
       "customer_id       0\n",
       "gross_revenue    91\n",
       "recency_days     91\n",
       "qtde_invoices    91\n",
       "qtde_items       91\n",
       "qtde_products    91\n",
       "frequency        91\n",
       "qtde_returns      0\n",
       "avg_ticket       91\n",
       "dtype: int64"
      ]
     },
     "execution_count": 37,
     "metadata": {},
     "output_type": "execute_result"
    }
   ],
   "source": [
    "# Avg Ticket\n",
    "df_avg_ticket = df2_purchases.loc[:, ['customer_id', 'gross_revenue']].groupby( 'customer_id' ).mean().reset_index().rename( columns={'gross_revenue':'avg_ticket'} )\n",
    "df_ref = pd.merge( df_ref, df_avg_ticket, on='customer_id', how='left')\n",
    "df_ref.isna().sum()"
   ]
  },
  {
   "cell_type": "markdown",
   "metadata": {},
   "source": [
    "### 3.1.7. Average Recency Days "
   ]
  },
  {
   "cell_type": "code",
   "execution_count": 40,
   "metadata": {
    "ExecuteTime": {
     "end_time": "2022-05-18T16:30:07.752601Z",
     "start_time": "2022-05-18T16:30:07.207313Z"
    }
   },
   "outputs": [
    {
     "data": {
      "text/plain": [
       "customer_id            0\n",
       "gross_revenue         91\n",
       "recency_days          91\n",
       "qtde_invoices         91\n",
       "qtde_items            91\n",
       "qtde_products         91\n",
       "frequency             91\n",
       "qtde_returns           0\n",
       "avg_ticket            91\n",
       "avg_recency_days    2816\n",
       "dtype: int64"
      ]
     },
     "execution_count": 40,
     "metadata": {},
     "output_type": "execute_result"
    }
   ],
   "source": [
    "# Average recency days\n",
    "df_aux = df2[['customer_id', 'invoice_date']].drop_duplicates().sort_values( ['customer_id', 'invoice_date'], ascending=[False, False] )\n",
    "df_aux['next_customer_id'] = df_aux['customer_id'].shift() # next customer\n",
    "df_aux['previous_date'] = df_aux['invoice_date'].shift() # next invoince date\n",
    "\n",
    "df_aux['avg_recency_days'] = df_aux.apply( lambda x: ( x['invoice_date'] - x['previous_date'] ).days if x['customer_id'] == x['next_customer_id'] else np.nan, axis=1 )\n",
    "\n",
    "df_aux = df_aux.drop( ['invoice_date', 'next_customer_id', 'previous_date'], axis=1 ).dropna()\n",
    "\n",
    "# average recency \n",
    "df_avg_recency_days = df_aux.groupby( 'customer_id' ).mean().reset_index()\n",
    "\n",
    "# merge\n",
    "df_ref = pd.merge( df_ref, df_avg_recency_days, on='customer_id', how='left' )\n",
    "df_ref.isna().sum()"
   ]
  },
  {
   "cell_type": "markdown",
   "metadata": {},
   "source": [
    "# <font color='red'> 4.0. EDA ( Exploratory Data Analysis ) </font>"
   ]
  },
  {
   "cell_type": "code",
   "execution_count": 41,
   "metadata": {
    "ExecuteTime": {
     "end_time": "2022-05-18T16:30:15.203413Z",
     "start_time": "2022-05-18T16:30:15.198623Z"
    }
   },
   "outputs": [],
   "source": [
    "df4 = df_ref.dropna()"
   ]
  },
  {
   "cell_type": "markdown",
   "metadata": {},
   "source": [
    "## 4.3. Estudo do Espaço"
   ]
  },
  {
   "cell_type": "code",
   "execution_count": 42,
   "metadata": {
    "ExecuteTime": {
     "end_time": "2022-05-18T16:30:16.358605Z",
     "start_time": "2022-05-18T16:30:16.355000Z"
    }
   },
   "outputs": [],
   "source": [
    "# selected dataset\n",
    "cols_selected = ['customer_id', 'gross_revenue', 'recency_days', 'qtde_products', 'frequency', 'qtde_returns']\n",
    "df43 = df4[ cols_selected ].copy() "
   ]
  },
  {
   "cell_type": "code",
   "execution_count": 43,
   "metadata": {
    "ExecuteTime": {
     "end_time": "2022-05-18T16:30:35.861614Z",
     "start_time": "2022-05-18T16:30:33.272861Z"
    }
   },
   "outputs": [],
   "source": [
    "mm = pp.MinMaxScaler()\n",
    "fs = s3fs.S3FileSystem( anon=False, key=AWS_ACCESS_KEY_ID, secret=AWS_SECRET_ACCESS_KEY )\n",
    "\n",
    "df43['gross_revenue']  = mm.fit_transform( df43[['gross_revenue']] )\n",
    "pickle.dump( mm , open( '../src/features/gross_revenue_scaler.pkl', 'wb'), protocol=pickle.HIGHEST_PROTOCOL )\n",
    "pickle.dump( mm, fs.open( 's3://insiders-dataset-bs/gross_revenue_scaler.pkl', 'wb' ), protocol=pickle.HIGHEST_PROTOCOL )\n",
    "\n",
    "\n",
    "df43['recency_days']   = mm.fit_transform( df43[['recency_days']] )\n",
    "pickle.dump( mm, open( '../src/features/recency_days_scaler.pkl', 'wb'), protocol=pickle.HIGHEST_PROTOCOL )\n",
    "pickle.dump( mm, fs.open( 's3://insiders-dataset-bs/recency_days_scaler.pkl', 'wb' ), protocol=pickle.HIGHEST_PROTOCOL )\n",
    "\n",
    "df43['qtde_products']  = mm.fit_transform( df43[['qtde_products']])\n",
    "pickle.dump( mm, open( '../src/features/qtde_products_scaler.pkl', 'wb'), protocol=pickle.HIGHEST_PROTOCOL )\n",
    "pickle.dump( mm, fs.open( 's3://insiders-dataset-bs/qtde_products_scaler.pkl', 'wb' ), protocol=pickle.HIGHEST_PROTOCOL )\n",
    "\n",
    "df43['frequency']      = mm.fit_transform( df43[['frequency']])\n",
    "pickle.dump( mm, open( '../src/features/frequency_scaler.pkl', 'wb'), protocol=pickle.HIGHEST_PROTOCOL )\n",
    "pickle.dump( mm, fs.open( 's3://insiders-dataset-bs/frequency_scaler.pkl', 'wb' ), protocol=pickle.HIGHEST_PROTOCOL )\n",
    "\n",
    "df43['qtde_returns']   = mm.fit_transform( df43[['qtde_returns']])\n",
    "pickle.dump( mm, open( '../src/features/qtde_returns_scaler.pkl', 'wb'), protocol=pickle.HIGHEST_PROTOCOL )\n",
    "pickle.dump( mm, fs.open( 's3://insiders-dataset-bs/qtde_returns_scaler.pkl', 'wb' ), protocol=pickle.HIGHEST_PROTOCOL )"
   ]
  },
  {
   "cell_type": "markdown",
   "metadata": {},
   "source": [
    "### 4.3.4. Tree-Based Embedding"
   ]
  },
  {
   "cell_type": "code",
   "execution_count": 44,
   "metadata": {
    "ExecuteTime": {
     "end_time": "2022-05-18T16:31:04.031547Z",
     "start_time": "2022-05-18T16:30:41.626977Z"
    }
   },
   "outputs": [],
   "source": [
    "# training dataset\n",
    "X = df43.drop( columns=['customer_id', 'gross_revenue'], axis=1 )\n",
    "y = df43['gross_revenue']\n",
    "\n",
    "# model definition\n",
    "rf_model = en.RandomForestRegressor( n_estimators=100, random_state=42 )\n",
    "\n",
    "# model training\n",
    "rf_model.fit( X, y )\n",
    "\n",
    "pickle.dump( rf_model, open( '../src/models/rf_model.pkl', 'wb' ), protocol=pickle.HIGHEST_PROTOCOL )\n",
    "pickle.dump( rf_model, fs.open( 's3://insiders-dataset-bs/rf_model.pkl', 'wb' ), protocol=pickle.HIGHEST_PROTOCOL )\n",
    "\n",
    "# Leaf \n",
    "df_leaf = pd.DataFrame( rf_model.apply( X ) )\n",
    "\n",
    "# dataframe Leaf"
   ]
  },
  {
   "cell_type": "code",
   "execution_count": 45,
   "metadata": {
    "ExecuteTime": {
     "end_time": "2022-05-18T16:36:27.114900Z",
     "start_time": "2022-05-18T16:36:08.039283Z"
    }
   },
   "outputs": [
    {
     "name": "stderr",
     "output_type": "stream",
     "text": [
      "OMP: Info #276: omp_set_nested routine deprecated, please use omp_set_max_active_levels instead.\n"
     ]
    },
    {
     "data": {
      "text/plain": [
       "<AxesSubplot:xlabel='embedding_x', ylabel='embedding_y'>"
      ]
     },
     "execution_count": 45,
     "metadata": {},
     "output_type": "execute_result"
    },
    {
     "data": {
      "image/png": "[encoded data removed]",
      "text/plain": [
       "<Figure size 432x288 with 1 Axes>"
      ]
     },
     "metadata": {
      "needs_background": "light"
     },
     "output_type": "display_data"
    }
   ],
   "source": [
    "# Reduzer dimensionality\n",
    "reducer = umap.UMAP( random_state=42 )\n",
    "embedding = reducer.fit_transform( df_leaf )\n",
    "\n",
    "pickle.dump( reducer, open( '../src/features/umap_reducer.pkl', 'wb'), protocol=pickle.HIGHEST_PROTOCOL )\n",
    "pickle.dump( reducer, fs.open( 's3://insiders-dataset-bs/umap_reducer.pkl', 'wb' ), protocol=pickle.HIGHEST_PROTOCOL )\n",
    "\n",
    "# embedding\n",
    "df_tree = pd.DataFrame()\n",
    "df_tree['embedding_x'] = embedding[:, 0]\n",
    "df_tree['embedding_y'] = embedding[:, 1]\n",
    "\n",
    "# plot UMAP\n",
    "sns.scatterplot( x='embedding_x', \n",
    "                 y='embedding_y', \n",
    "                 data=df_tree )"
   ]
  },
  {
   "cell_type": "markdown",
   "metadata": {},
   "source": [
    "# <font color='red'> 7.0. Hyperparameter Fine-Tunning </font>"
   ]
  },
  {
   "cell_type": "code",
   "execution_count": 51,
   "metadata": {
    "ExecuteTime": {
     "end_time": "2022-05-18T16:42:27.767324Z",
     "start_time": "2022-05-18T16:42:27.764439Z"
    }
   },
   "outputs": [],
   "source": [
    "X = df_tree.copy()"
   ]
  },
  {
   "cell_type": "code",
   "execution_count": 52,
   "metadata": {
    "ExecuteTime": {
     "end_time": "2022-05-18T16:42:28.675527Z",
     "start_time": "2022-05-18T16:42:28.669573Z"
    }
   },
   "outputs": [
    {
     "data": {
      "text/html": [
       "<div>\n",
       "<style scoped>\n",
       "    .dataframe tbody tr th:only-of-type {\n",
       "        vertical-align: middle;\n",
       "    }\n",
       "\n",
       "    .dataframe tbody tr th {\n",
       "        vertical-align: top;\n",
       "    }\n",
       "\n",
       "    .dataframe thead th {\n",
       "        text-align: right;\n",
       "    }\n",
       "</style>\n",
       "<table border=\"1\" class=\"dataframe\">\n",
       "  <thead>\n",
       "    <tr style=\"text-align: right;\">\n",
       "      <th></th>\n",
       "      <th>embedding_x</th>\n",
       "      <th>embedding_y</th>\n",
       "    </tr>\n",
       "  </thead>\n",
       "  <tbody>\n",
       "    <tr>\n",
       "      <th>0</th>\n",
       "      <td>15.560184</td>\n",
       "      <td>16.666283</td>\n",
       "    </tr>\n",
       "    <tr>\n",
       "      <th>1</th>\n",
       "      <td>7.864362</td>\n",
       "      <td>12.984395</td>\n",
       "    </tr>\n",
       "    <tr>\n",
       "      <th>2</th>\n",
       "      <td>15.208161</td>\n",
       "      <td>17.554064</td>\n",
       "    </tr>\n",
       "    <tr>\n",
       "      <th>3</th>\n",
       "      <td>-0.136980</td>\n",
       "      <td>4.524095</td>\n",
       "    </tr>\n",
       "    <tr>\n",
       "      <th>4</th>\n",
       "      <td>-5.493024</td>\n",
       "      <td>9.555084</td>\n",
       "    </tr>\n",
       "  </tbody>\n",
       "</table>\n",
       "</div>"
      ],
      "text/plain": [
       "   embedding_x  embedding_y\n",
       "0    15.560184    16.666283\n",
       "1     7.864362    12.984395\n",
       "2    15.208161    17.554064\n",
       "3    -0.136980     4.524095\n",
       "4    -5.493024     9.555084"
      ]
     },
     "execution_count": 52,
     "metadata": {},
     "output_type": "execute_result"
    }
   ],
   "source": [
    "X.head()"
   ]
  },
  {
   "cell_type": "markdown",
   "metadata": {},
   "source": [
    "# <font color='red'> 8.0. Model Training </font>"
   ]
  },
  {
   "cell_type": "code",
   "execution_count": 81,
   "metadata": {
    "ExecuteTime": {
     "end_time": "2022-05-18T17:07:57.803088Z",
     "start_time": "2022-05-18T17:07:57.800271Z"
    }
   },
   "outputs": [],
   "source": [
    "clusters = np.arange( 2, 25, 1)"
   ]
  },
  {
   "cell_type": "code",
   "execution_count": 82,
   "metadata": {
    "ExecuteTime": {
     "end_time": "2022-05-18T17:08:26.220926Z",
     "start_time": "2022-05-18T17:07:58.436869Z"
    }
   },
   "outputs": [],
   "source": [
    "kmeans_list = []\n",
    "for k in clusters:\n",
    "    # model definition\n",
    "    kmeans_model = c.KMeans( n_clusters=k, n_init=100, random_state=42 )\n",
    "\n",
    "    # model training\n",
    "    kmeans_model.fit( X )\n",
    "\n",
    "    # model predict\n",
    "    labels = kmeans_model.predict( X )\n",
    "\n",
    "    # model performance\n",
    "    sil = m.silhouette_score( X, labels, metric='euclidean' )\n",
    "    kmeans_list.append( sil )"
   ]
  },
  {
   "cell_type": "code",
   "execution_count": 83,
   "metadata": {
    "ExecuteTime": {
     "end_time": "2022-05-18T17:08:26.352453Z",
     "start_time": "2022-05-18T17:08:26.223667Z"
    }
   },
   "outputs": [
    {
     "data": {
      "image/png": "[encoded data removed]",
      "text/plain": [
       "<Figure size 432x288 with 1 Axes>"
      ]
     },
     "metadata": {
      "needs_background": "light"
     },
     "output_type": "display_data"
    }
   ],
   "source": [
    "plt.plot( clusters, kmeans_list, linestyle='--', marker='o', color='b' )\n",
    "plt.xlabel( 'K' );\n",
    "plt.ylabel( 'Silhouette Score' );\n",
    "plt.title( 'Silhouette Score x K' ); "
   ]
  },
  {
   "cell_type": "markdown",
   "metadata": {},
   "source": [
    "## GMM"
   ]
  },
  {
   "cell_type": "code",
   "execution_count": 84,
   "metadata": {
    "ExecuteTime": {
     "end_time": "2022-05-18T17:08:32.642839Z",
     "start_time": "2022-05-18T17:08:26.354586Z"
    }
   },
   "outputs": [],
   "source": [
    "gmm_list = []\n",
    "for k in clusters:\n",
    "    # model definition\n",
    "    gmm_model = mx.GaussianMixture( n_components=k )\n",
    "\n",
    "    # model training\n",
    "    gmm_model.fit( X )\n",
    "\n",
    "    # model predict\n",
    "    labels = gmm_model.predict( X )\n",
    "\n",
    "    # model performance\n",
    "    sil = m.silhouette_score( X, labels, metric='euclidean' )\n",
    "    gmm_list.append( sil )"
   ]
  },
  {
   "cell_type": "code",
   "execution_count": 108,
   "metadata": {
    "ExecuteTime": {
     "end_time": "2022-05-18T17:15:44.270372Z",
     "start_time": "2022-05-18T17:15:44.069339Z"
    }
   },
   "outputs": [
    {
     "data": {
      "image/png": "[encoded data removed]",
      "text/plain": [
       "<Figure size 1728x648 with 1 Axes>"
      ]
     },
     "metadata": {},
     "output_type": "display_data"
    }
   ],
   "source": [
    "plt.plot( clusters, gmm_list, linestyle='--', marker='o', color='b' )\n",
    "plt.xlabel( 'k');\n",
    "plt.ylabel( 'Silhouette Score');\n",
    "plt.title( 'Sil x K');"
   ]
  },
  {
   "cell_type": "markdown",
   "metadata": {},
   "source": [
    "## Hierarchical Clustering"
   ]
  },
  {
   "cell_type": "code",
   "execution_count": 86,
   "metadata": {
    "ExecuteTime": {
     "end_time": "2022-05-18T17:08:33.015151Z",
     "start_time": "2022-05-18T17:08:32.845339Z"
    }
   },
   "outputs": [],
   "source": [
    "from scipy.cluster import hierarchy as hc\n",
    "\n",
    "# model definition and training\n",
    "hc_model = hc.linkage( X, 'ward' )"
   ]
  },
  {
   "cell_type": "code",
   "execution_count": 109,
   "metadata": {
    "ExecuteTime": {
     "end_time": "2022-05-18T17:16:00.105211Z",
     "start_time": "2022-05-18T17:15:50.314222Z"
    }
   },
   "outputs": [
    {
     "data": {
      "image/png": "[encoded data removed]",
      "text/plain": [
       "<Figure size 1728x648 with 1 Axes>"
      ]
     },
     "metadata": {},
     "output_type": "display_data"
    }
   ],
   "source": [
    "hc.dendrogram( \n",
    "   hc_model,\n",
    "   truncate_mode='lastp',\n",
    "   p=12,\n",
    "   leaf_rotation=90,\n",
    "   leaf_font_size=8,\n",
    "   show_contracted=True\n",
    ")\n",
    "\n",
    "plt.show()"
   ]
  },
  {
   "cell_type": "code",
   "execution_count": 88,
   "metadata": {
    "ExecuteTime": {
     "end_time": "2022-05-18T17:08:49.320121Z",
     "start_time": "2022-05-18T17:08:43.164137Z"
    }
   },
   "outputs": [],
   "source": [
    "hc_list = []\n",
    "for k in clusters:\n",
    "    # model definition & training\n",
    "    hc_model = hc.linkage( X, 'ward' )\n",
    "\n",
    "    # model predict\n",
    "    labels = hc.fcluster( hc_model, k, criterion='maxclust' )\n",
    "\n",
    "    # metrics\n",
    "    sil = m.silhouette_score( X, labels, metric='euclidean' )\n",
    "    hc_list.append( sil )"
   ]
  },
  {
   "cell_type": "code",
   "execution_count": 110,
   "metadata": {
    "ExecuteTime": {
     "end_time": "2022-05-18T17:16:00.308101Z",
     "start_time": "2022-05-18T17:16:00.107249Z"
    }
   },
   "outputs": [
    {
     "data": {
      "text/plain": [
       "[<matplotlib.lines.Line2D at 0x15690f190>]"
      ]
     },
     "execution_count": 110,
     "metadata": {},
     "output_type": "execute_result"
    },
    {
     "data": {
      "image/png": "[encoded data removed]",
      "text/plain": [
       "<Figure size 1728x648 with 1 Axes>"
      ]
     },
     "metadata": {},
     "output_type": "display_data"
    }
   ],
   "source": [
    "plt.plot( clusters,  hc_list, linestyle='--', marker='o', color='b' )"
   ]
  },
  {
   "cell_type": "markdown",
   "metadata": {},
   "source": [
    "## SS RESULTS"
   ]
  },
  {
   "cell_type": "code",
   "execution_count": 90,
   "metadata": {
    "ExecuteTime": {
     "end_time": "2022-05-18T17:08:49.563221Z",
     "start_time": "2022-05-18T17:08:49.534630Z"
    }
   },
   "outputs": [
    {
     "data": {
      "text/html": [
       "<style type=\"text/css\">\n",
       "#T_fc072_row0_col9, #T_fc072_row1_col9, #T_fc072_row2_col9 {\n",
       "  background-color: lightgreen;\n",
       "}\n",
       "</style>\n",
       "<table id=\"T_fc072\">\n",
       "  <thead>\n",
       "    <tr>\n",
       "      <th class=\"blank level0\" >&nbsp;</th>\n",
       "      <th id=\"T_fc072_level0_col0\" class=\"col_heading level0 col0\" >2</th>\n",
       "      <th id=\"T_fc072_level0_col1\" class=\"col_heading level0 col1\" >3</th>\n",
       "      <th id=\"T_fc072_level0_col2\" class=\"col_heading level0 col2\" >4</th>\n",
       "      <th id=\"T_fc072_level0_col3\" class=\"col_heading level0 col3\" >5</th>\n",
       "      <th id=\"T_fc072_level0_col4\" class=\"col_heading level0 col4\" >6</th>\n",
       "      <th id=\"T_fc072_level0_col5\" class=\"col_heading level0 col5\" >7</th>\n",
       "      <th id=\"T_fc072_level0_col6\" class=\"col_heading level0 col6\" >8</th>\n",
       "      <th id=\"T_fc072_level0_col7\" class=\"col_heading level0 col7\" >9</th>\n",
       "      <th id=\"T_fc072_level0_col8\" class=\"col_heading level0 col8\" >10</th>\n",
       "      <th id=\"T_fc072_level0_col9\" class=\"col_heading level0 col9\" >11</th>\n",
       "      <th id=\"T_fc072_level0_col10\" class=\"col_heading level0 col10\" >12</th>\n",
       "      <th id=\"T_fc072_level0_col11\" class=\"col_heading level0 col11\" >13</th>\n",
       "      <th id=\"T_fc072_level0_col12\" class=\"col_heading level0 col12\" >14</th>\n",
       "      <th id=\"T_fc072_level0_col13\" class=\"col_heading level0 col13\" >15</th>\n",
       "      <th id=\"T_fc072_level0_col14\" class=\"col_heading level0 col14\" >16</th>\n",
       "      <th id=\"T_fc072_level0_col15\" class=\"col_heading level0 col15\" >17</th>\n",
       "      <th id=\"T_fc072_level0_col16\" class=\"col_heading level0 col16\" >18</th>\n",
       "      <th id=\"T_fc072_level0_col17\" class=\"col_heading level0 col17\" >19</th>\n",
       "      <th id=\"T_fc072_level0_col18\" class=\"col_heading level0 col18\" >20</th>\n",
       "      <th id=\"T_fc072_level0_col19\" class=\"col_heading level0 col19\" >21</th>\n",
       "      <th id=\"T_fc072_level0_col20\" class=\"col_heading level0 col20\" >22</th>\n",
       "      <th id=\"T_fc072_level0_col21\" class=\"col_heading level0 col21\" >23</th>\n",
       "      <th id=\"T_fc072_level0_col22\" class=\"col_heading level0 col22\" >24</th>\n",
       "    </tr>\n",
       "  </thead>\n",
       "  <tbody>\n",
       "    <tr>\n",
       "      <th id=\"T_fc072_level0_row0\" class=\"row_heading level0 row0\" >KMeans</th>\n",
       "      <td id=\"T_fc072_row0_col0\" class=\"data row0 col0\" >0.410669</td>\n",
       "      <td id=\"T_fc072_row0_col1\" class=\"data row0 col1\" >0.486445</td>\n",
       "      <td id=\"T_fc072_row0_col2\" class=\"data row0 col2\" >0.547682</td>\n",
       "      <td id=\"T_fc072_row0_col3\" class=\"data row0 col3\" >0.561129</td>\n",
       "      <td id=\"T_fc072_row0_col4\" class=\"data row0 col4\" >0.577574</td>\n",
       "      <td id=\"T_fc072_row0_col5\" class=\"data row0 col5\" >0.589761</td>\n",
       "      <td id=\"T_fc072_row0_col6\" class=\"data row0 col6\" >0.612008</td>\n",
       "      <td id=\"T_fc072_row0_col7\" class=\"data row0 col7\" >0.645634</td>\n",
       "      <td id=\"T_fc072_row0_col8\" class=\"data row0 col8\" >0.667600</td>\n",
       "      <td id=\"T_fc072_row0_col9\" class=\"data row0 col9\" >0.683010</td>\n",
       "      <td id=\"T_fc072_row0_col10\" class=\"data row0 col10\" >0.676945</td>\n",
       "      <td id=\"T_fc072_row0_col11\" class=\"data row0 col11\" >0.676839</td>\n",
       "      <td id=\"T_fc072_row0_col12\" class=\"data row0 col12\" >0.669050</td>\n",
       "      <td id=\"T_fc072_row0_col13\" class=\"data row0 col13\" >0.655975</td>\n",
       "      <td id=\"T_fc072_row0_col14\" class=\"data row0 col14\" >0.623240</td>\n",
       "      <td id=\"T_fc072_row0_col15\" class=\"data row0 col15\" >0.643276</td>\n",
       "      <td id=\"T_fc072_row0_col16\" class=\"data row0 col16\" >0.617937</td>\n",
       "      <td id=\"T_fc072_row0_col17\" class=\"data row0 col17\" >0.614976</td>\n",
       "      <td id=\"T_fc072_row0_col18\" class=\"data row0 col18\" >0.631369</td>\n",
       "      <td id=\"T_fc072_row0_col19\" class=\"data row0 col19\" >0.641965</td>\n",
       "      <td id=\"T_fc072_row0_col20\" class=\"data row0 col20\" >0.632392</td>\n",
       "      <td id=\"T_fc072_row0_col21\" class=\"data row0 col21\" >0.634408</td>\n",
       "      <td id=\"T_fc072_row0_col22\" class=\"data row0 col22\" >0.632772</td>\n",
       "    </tr>\n",
       "    <tr>\n",
       "      <th id=\"T_fc072_level0_row1\" class=\"row_heading level0 row1\" >GMM</th>\n",
       "      <td id=\"T_fc072_row1_col0\" class=\"data row1 col0\" >0.412200</td>\n",
       "      <td id=\"T_fc072_row1_col1\" class=\"data row1 col1\" >0.467117</td>\n",
       "      <td id=\"T_fc072_row1_col2\" class=\"data row1 col2\" >0.547682</td>\n",
       "      <td id=\"T_fc072_row1_col3\" class=\"data row1 col3\" >0.582837</td>\n",
       "      <td id=\"T_fc072_row1_col4\" class=\"data row1 col4\" >0.555147</td>\n",
       "      <td id=\"T_fc072_row1_col5\" class=\"data row1 col5\" >0.572088</td>\n",
       "      <td id=\"T_fc072_row1_col6\" class=\"data row1 col6\" >0.582570</td>\n",
       "      <td id=\"T_fc072_row1_col7\" class=\"data row1 col7\" >0.636960</td>\n",
       "      <td id=\"T_fc072_row1_col8\" class=\"data row1 col8\" >0.620521</td>\n",
       "      <td id=\"T_fc072_row1_col9\" class=\"data row1 col9\" >0.684546</td>\n",
       "      <td id=\"T_fc072_row1_col10\" class=\"data row1 col10\" >0.677596</td>\n",
       "      <td id=\"T_fc072_row1_col11\" class=\"data row1 col11\" >0.663803</td>\n",
       "      <td id=\"T_fc072_row1_col12\" class=\"data row1 col12\" >0.662879</td>\n",
       "      <td id=\"T_fc072_row1_col13\" class=\"data row1 col13\" >0.656081</td>\n",
       "      <td id=\"T_fc072_row1_col14\" class=\"data row1 col14\" >0.656690</td>\n",
       "      <td id=\"T_fc072_row1_col15\" class=\"data row1 col15\" >0.631455</td>\n",
       "      <td id=\"T_fc072_row1_col16\" class=\"data row1 col16\" >0.640737</td>\n",
       "      <td id=\"T_fc072_row1_col17\" class=\"data row1 col17\" >0.603245</td>\n",
       "      <td id=\"T_fc072_row1_col18\" class=\"data row1 col18\" >0.606915</td>\n",
       "      <td id=\"T_fc072_row1_col19\" class=\"data row1 col19\" >0.611753</td>\n",
       "      <td id=\"T_fc072_row1_col20\" class=\"data row1 col20\" >0.612057</td>\n",
       "      <td id=\"T_fc072_row1_col21\" class=\"data row1 col21\" >0.574949</td>\n",
       "      <td id=\"T_fc072_row1_col22\" class=\"data row1 col22\" >0.626881</td>\n",
       "    </tr>\n",
       "    <tr>\n",
       "      <th id=\"T_fc072_level0_row2\" class=\"row_heading level0 row2\" >HC</th>\n",
       "      <td id=\"T_fc072_row2_col0\" class=\"data row2 col0\" >0.407787</td>\n",
       "      <td id=\"T_fc072_row2_col1\" class=\"data row2 col1\" >0.455681</td>\n",
       "      <td id=\"T_fc072_row2_col2\" class=\"data row2 col2\" >0.525006</td>\n",
       "      <td id=\"T_fc072_row2_col3\" class=\"data row2 col3\" >0.539482</td>\n",
       "      <td id=\"T_fc072_row2_col4\" class=\"data row2 col4\" >0.598216</td>\n",
       "      <td id=\"T_fc072_row2_col5\" class=\"data row2 col5\" >0.612613</td>\n",
       "      <td id=\"T_fc072_row2_col6\" class=\"data row2 col6\" >0.632185</td>\n",
       "      <td id=\"T_fc072_row2_col7\" class=\"data row2 col7\" >0.645463</td>\n",
       "      <td id=\"T_fc072_row2_col8\" class=\"data row2 col8\" >0.669137</td>\n",
       "      <td id=\"T_fc072_row2_col9\" class=\"data row2 col9\" >0.684546</td>\n",
       "      <td id=\"T_fc072_row2_col10\" class=\"data row2 col10\" >0.677596</td>\n",
       "      <td id=\"T_fc072_row2_col11\" class=\"data row2 col11\" >0.675952</td>\n",
       "      <td id=\"T_fc072_row2_col12\" class=\"data row2 col12\" >0.668079</td>\n",
       "      <td id=\"T_fc072_row2_col13\" class=\"data row2 col13\" >0.655005</td>\n",
       "      <td id=\"T_fc072_row2_col14\" class=\"data row2 col14\" >0.637171</td>\n",
       "      <td id=\"T_fc072_row2_col15\" class=\"data row2 col15\" >0.642306</td>\n",
       "      <td id=\"T_fc072_row2_col16\" class=\"data row2 col16\" >0.618639</td>\n",
       "      <td id=\"T_fc072_row2_col17\" class=\"data row2 col17\" >0.623783</td>\n",
       "      <td id=\"T_fc072_row2_col18\" class=\"data row2 col18\" >0.630998</td>\n",
       "      <td id=\"T_fc072_row2_col19\" class=\"data row2 col19\" >0.639150</td>\n",
       "      <td id=\"T_fc072_row2_col20\" class=\"data row2 col20\" >0.648160</td>\n",
       "      <td id=\"T_fc072_row2_col21\" class=\"data row2 col21\" >0.643220</td>\n",
       "      <td id=\"T_fc072_row2_col22\" class=\"data row2 col22\" >0.635818</td>\n",
       "    </tr>\n",
       "  </tbody>\n",
       "</table>\n"
      ],
      "text/plain": [
       "<pandas.io.formats.style.Styler at 0x1563a6460>"
      ]
     },
     "execution_count": 90,
     "metadata": {},
     "output_type": "execute_result"
    }
   ],
   "source": [
    "df_results = pd.DataFrame( \n",
    "    {'KMeans': kmeans_list, \n",
    "     'GMM': gmm_list, \n",
    "     'HC': hc_list}\n",
    ").T\n",
    "\n",
    "df_results.columns = clusters\n",
    "df_results.style.highlight_max( color='lightgreen', axis=1 )"
   ]
  },
  {
   "cell_type": "markdown",
   "metadata": {},
   "source": [
    "## 8.1. Final model"
   ]
  },
  {
   "cell_type": "code",
   "execution_count": 96,
   "metadata": {
    "ExecuteTime": {
     "end_time": "2022-05-18T17:11:48.754331Z",
     "start_time": "2022-05-18T17:11:35.449374Z"
    }
   },
   "outputs": [],
   "source": [
    "# model definition\n",
    "k = 11\n",
    "\n",
    "## model definition\n",
    "gmm_model = mx.GaussianMixture( n_components=k, n_init=300, random_state=32 )\n",
    "\n",
    "# model training\n",
    "gmm_model.fit( X )\n",
    "\n",
    "# model predict\n",
    "labels = gmm_model.predict( X )"
   ]
  },
  {
   "cell_type": "markdown",
   "metadata": {},
   "source": [
    "## 8.2. Cluster Validation"
   ]
  },
  {
   "cell_type": "code",
   "execution_count": 97,
   "metadata": {
    "ExecuteTime": {
     "end_time": "2022-05-18T17:11:52.475577Z",
     "start_time": "2022-05-18T17:11:52.288602Z"
    }
   },
   "outputs": [
    {
     "name": "stdout",
     "output_type": "stream",
     "text": [
      "SS value: 0.6845464110374451\n"
     ]
    }
   ],
   "source": [
    "## WSS ( Within-cluster sum of square)\n",
    "#print( 'WSS value: {}'.format( kmeans.inertia_ ) )\n",
    "\n",
    "## SS ( Silhouette Score )\n",
    "print( 'SS value: {}'.format( m.silhouette_score( X, labels, metric='euclidean' ) ) )"
   ]
  },
  {
   "cell_type": "code",
   "execution_count": 94,
   "metadata": {
    "ExecuteTime": {
     "end_time": "2022-05-18T17:10:56.138953Z",
     "start_time": "2022-05-18T17:10:56.136203Z"
    }
   },
   "outputs": [],
   "source": [
    "from datetime import datetime"
   ]
  },
  {
   "cell_type": "markdown",
   "metadata": {},
   "source": [
    "# <font color='red'> 9.0. Cluster Analysis </font>"
   ]
  },
  {
   "cell_type": "code",
   "execution_count": 102,
   "metadata": {
    "ExecuteTime": {
     "end_time": "2022-05-18T17:13:52.430240Z",
     "start_time": "2022-05-18T17:13:52.427168Z"
    }
   },
   "outputs": [],
   "source": [
    "df9 = X.copy()\n",
    "df9['cluster'] = labels"
   ]
  },
  {
   "cell_type": "code",
   "execution_count": 111,
   "metadata": {
    "ExecuteTime": {
     "end_time": "2022-05-18T17:16:00.777633Z",
     "start_time": "2022-05-18T17:16:00.310012Z"
    }
   },
   "outputs": [
    {
     "data": {
      "text/plain": [
       "<AxesSubplot:xlabel='embedding_x', ylabel='embedding_y'>"
      ]
     },
     "execution_count": 111,
     "metadata": {},
     "output_type": "execute_result"
    },
    {
     "data": {
      "image/png": "[encoded data removed]",
      "text/plain": [
       "<Figure size 1728x648 with 1 Axes>"
      ]
     },
     "metadata": {},
     "output_type": "display_data"
    }
   ],
   "source": [
    "sns.scatterplot( x='embedding_x', y='embedding_y', hue='cluster', data=df9, palette='deep')"
   ]
  },
  {
   "cell_type": "code",
   "execution_count": 98,
   "metadata": {
    "ExecuteTime": {
     "end_time": "2022-05-18T17:12:36.262740Z",
     "start_time": "2022-05-18T17:12:36.255208Z"
    }
   },
   "outputs": [],
   "source": [
    "df92 = df4[ cols_selected ].copy()\n",
    "df92['cluster'] = labels\n",
    "\n",
    "# change dtypes\n",
    "df92['recency_days'] = df92['recency_days'].astype( int )\n",
    "df92['qtde_products'] = df92['qtde_products'].astype( int )\n",
    "df92['qtde_returns'] = df92['qtde_returns'].astype( int )\n",
    "\n",
    "df92['last_training_timestamp'] = datetime.now().strftime( '%Y-%m-%d %H:%M:%S')"
   ]
  },
  {
   "cell_type": "code",
   "execution_count": 99,
   "metadata": {
    "ExecuteTime": {
     "end_time": "2022-05-18T17:12:42.002619Z",
     "start_time": "2022-05-18T17:12:41.993504Z"
    }
   },
   "outputs": [
    {
     "data": {
      "text/html": [
       "<div>\n",
       "<style scoped>\n",
       "    .dataframe tbody tr th:only-of-type {\n",
       "        vertical-align: middle;\n",
       "    }\n",
       "\n",
       "    .dataframe tbody tr th {\n",
       "        vertical-align: top;\n",
       "    }\n",
       "\n",
       "    .dataframe thead th {\n",
       "        text-align: right;\n",
       "    }\n",
       "</style>\n",
       "<table border=\"1\" class=\"dataframe\">\n",
       "  <thead>\n",
       "    <tr style=\"text-align: right;\">\n",
       "      <th></th>\n",
       "      <th>customer_id</th>\n",
       "      <th>gross_revenue</th>\n",
       "      <th>recency_days</th>\n",
       "      <th>qtde_products</th>\n",
       "      <th>frequency</th>\n",
       "      <th>qtde_returns</th>\n",
       "      <th>cluster</th>\n",
       "      <th>last_training_timestamp</th>\n",
       "    </tr>\n",
       "  </thead>\n",
       "  <tbody>\n",
       "    <tr>\n",
       "      <th>0</th>\n",
       "      <td>17850</td>\n",
       "      <td>5391.21</td>\n",
       "      <td>372</td>\n",
       "      <td>297</td>\n",
       "      <td>17.000000</td>\n",
       "      <td>40</td>\n",
       "      <td>10</td>\n",
       "      <td>2022-05-18 14:12:36</td>\n",
       "    </tr>\n",
       "    <tr>\n",
       "      <th>1</th>\n",
       "      <td>13047</td>\n",
       "      <td>3232.59</td>\n",
       "      <td>56</td>\n",
       "      <td>171</td>\n",
       "      <td>0.028302</td>\n",
       "      <td>35</td>\n",
       "      <td>0</td>\n",
       "      <td>2022-05-18 14:12:36</td>\n",
       "    </tr>\n",
       "    <tr>\n",
       "      <th>2</th>\n",
       "      <td>12583</td>\n",
       "      <td>6705.38</td>\n",
       "      <td>2</td>\n",
       "      <td>232</td>\n",
       "      <td>0.040323</td>\n",
       "      <td>50</td>\n",
       "      <td>10</td>\n",
       "      <td>2022-05-18 14:12:36</td>\n",
       "    </tr>\n",
       "    <tr>\n",
       "      <th>3</th>\n",
       "      <td>13748</td>\n",
       "      <td>948.25</td>\n",
       "      <td>95</td>\n",
       "      <td>28</td>\n",
       "      <td>0.017921</td>\n",
       "      <td>0</td>\n",
       "      <td>6</td>\n",
       "      <td>2022-05-18 14:12:36</td>\n",
       "    </tr>\n",
       "    <tr>\n",
       "      <th>4</th>\n",
       "      <td>15100</td>\n",
       "      <td>876.00</td>\n",
       "      <td>333</td>\n",
       "      <td>3</td>\n",
       "      <td>0.073171</td>\n",
       "      <td>22</td>\n",
       "      <td>2</td>\n",
       "      <td>2022-05-18 14:12:36</td>\n",
       "    </tr>\n",
       "  </tbody>\n",
       "</table>\n",
       "</div>"
      ],
      "text/plain": [
       "   customer_id  gross_revenue  recency_days  qtde_products  frequency  \\\n",
       "0        17850        5391.21           372            297  17.000000   \n",
       "1        13047        3232.59            56            171   0.028302   \n",
       "2        12583        6705.38             2            232   0.040323   \n",
       "3        13748         948.25            95             28   0.017921   \n",
       "4        15100         876.00           333              3   0.073171   \n",
       "\n",
       "   qtde_returns  cluster last_training_timestamp  \n",
       "0            40       10     2022-05-18 14:12:36  \n",
       "1            35        0     2022-05-18 14:12:36  \n",
       "2            50       10     2022-05-18 14:12:36  \n",
       "3             0        6     2022-05-18 14:12:36  \n",
       "4            22        2     2022-05-18 14:12:36  "
      ]
     },
     "execution_count": 99,
     "metadata": {},
     "output_type": "execute_result"
    }
   ],
   "source": [
    "df92.head()"
   ]
  },
  {
   "cell_type": "code",
   "execution_count": 100,
   "metadata": {
    "ExecuteTime": {
     "end_time": "2022-05-18T17:12:43.778023Z",
     "start_time": "2022-05-18T17:12:43.743630Z"
    }
   },
   "outputs": [
    {
     "data": {
      "text/html": [
       "<div>\n",
       "<style scoped>\n",
       "    .dataframe tbody tr th:only-of-type {\n",
       "        vertical-align: middle;\n",
       "    }\n",
       "\n",
       "    .dataframe tbody tr th {\n",
       "        vertical-align: top;\n",
       "    }\n",
       "\n",
       "    .dataframe thead th {\n",
       "        text-align: right;\n",
       "    }\n",
       "</style>\n",
       "<table border=\"1\" class=\"dataframe\">\n",
       "  <thead>\n",
       "    <tr style=\"text-align: right;\">\n",
       "      <th></th>\n",
       "      <th>cluster</th>\n",
       "      <th>customer_id</th>\n",
       "      <th>perc_customer</th>\n",
       "      <th>gross_revenue</th>\n",
       "      <th>recency_days</th>\n",
       "      <th>qtde_products</th>\n",
       "      <th>frequency</th>\n",
       "      <th>qtde_returns</th>\n",
       "    </tr>\n",
       "  </thead>\n",
       "  <tbody>\n",
       "    <tr>\n",
       "      <th>10</th>\n",
       "      <td>10</td>\n",
       "      <td>373</td>\n",
       "      <td>12.567385</td>\n",
       "      <td>10503.060483</td>\n",
       "      <td>19.268097</td>\n",
       "      <td>475.581769</td>\n",
       "      <td>0.110615</td>\n",
       "      <td>187.120643</td>\n",
       "    </tr>\n",
       "    <tr>\n",
       "      <th>9</th>\n",
       "      <td>9</td>\n",
       "      <td>133</td>\n",
       "      <td>4.481132</td>\n",
       "      <td>4624.370301</td>\n",
       "      <td>50.406015</td>\n",
       "      <td>101.721805</td>\n",
       "      <td>0.063852</td>\n",
       "      <td>33.323308</td>\n",
       "    </tr>\n",
       "    <tr>\n",
       "      <th>0</th>\n",
       "      <td>0</td>\n",
       "      <td>145</td>\n",
       "      <td>4.885445</td>\n",
       "      <td>3164.253379</td>\n",
       "      <td>34.427586</td>\n",
       "      <td>173.875862</td>\n",
       "      <td>0.060415</td>\n",
       "      <td>23.482759</td>\n",
       "    </tr>\n",
       "    <tr>\n",
       "      <th>7</th>\n",
       "      <td>7</td>\n",
       "      <td>357</td>\n",
       "      <td>12.028302</td>\n",
       "      <td>2400.304454</td>\n",
       "      <td>44.294118</td>\n",
       "      <td>128.084034</td>\n",
       "      <td>0.042262</td>\n",
       "      <td>22.235294</td>\n",
       "    </tr>\n",
       "    <tr>\n",
       "      <th>5</th>\n",
       "      <td>5</td>\n",
       "      <td>95</td>\n",
       "      <td>3.200809</td>\n",
       "      <td>2291.266000</td>\n",
       "      <td>29.957895</td>\n",
       "      <td>222.136842</td>\n",
       "      <td>0.031576</td>\n",
       "      <td>0.663158</td>\n",
       "    </tr>\n",
       "    <tr>\n",
       "      <th>3</th>\n",
       "      <td>3</td>\n",
       "      <td>404</td>\n",
       "      <td>13.611860</td>\n",
       "      <td>1689.182401</td>\n",
       "      <td>54.801980</td>\n",
       "      <td>89.202970</td>\n",
       "      <td>0.050037</td>\n",
       "      <td>11.542079</td>\n",
       "    </tr>\n",
       "    <tr>\n",
       "      <th>1</th>\n",
       "      <td>1</td>\n",
       "      <td>372</td>\n",
       "      <td>12.533693</td>\n",
       "      <td>1237.753145</td>\n",
       "      <td>61.282258</td>\n",
       "      <td>54.357527</td>\n",
       "      <td>0.043705</td>\n",
       "      <td>8.771505</td>\n",
       "    </tr>\n",
       "    <tr>\n",
       "      <th>4</th>\n",
       "      <td>4</td>\n",
       "      <td>322</td>\n",
       "      <td>10.849057</td>\n",
       "      <td>971.025435</td>\n",
       "      <td>75.329193</td>\n",
       "      <td>37.462733</td>\n",
       "      <td>0.074586</td>\n",
       "      <td>6.571429</td>\n",
       "    </tr>\n",
       "    <tr>\n",
       "      <th>6</th>\n",
       "      <td>6</td>\n",
       "      <td>175</td>\n",
       "      <td>5.896226</td>\n",
       "      <td>827.478286</td>\n",
       "      <td>92.022857</td>\n",
       "      <td>26.822857</td>\n",
       "      <td>0.161952</td>\n",
       "      <td>22.868571</td>\n",
       "    </tr>\n",
       "    <tr>\n",
       "      <th>8</th>\n",
       "      <td>8</td>\n",
       "      <td>200</td>\n",
       "      <td>6.738544</td>\n",
       "      <td>647.933500</td>\n",
       "      <td>47.280000</td>\n",
       "      <td>11.510000</td>\n",
       "      <td>0.025991</td>\n",
       "      <td>0.845000</td>\n",
       "    </tr>\n",
       "    <tr>\n",
       "      <th>2</th>\n",
       "      <td>2</td>\n",
       "      <td>392</td>\n",
       "      <td>13.207547</td>\n",
       "      <td>505.728827</td>\n",
       "      <td>149.426020</td>\n",
       "      <td>15.522959</td>\n",
       "      <td>0.426596</td>\n",
       "      <td>9.443878</td>\n",
       "    </tr>\n",
       "  </tbody>\n",
       "</table>\n",
       "</div>"
      ],
      "text/plain": [
       "    cluster  customer_id  perc_customer  gross_revenue  recency_days  \\\n",
       "10       10          373      12.567385   10503.060483     19.268097   \n",
       "9         9          133       4.481132    4624.370301     50.406015   \n",
       "0         0          145       4.885445    3164.253379     34.427586   \n",
       "7         7          357      12.028302    2400.304454     44.294118   \n",
       "5         5           95       3.200809    2291.266000     29.957895   \n",
       "3         3          404      13.611860    1689.182401     54.801980   \n",
       "1         1          372      12.533693    1237.753145     61.282258   \n",
       "4         4          322      10.849057     971.025435     75.329193   \n",
       "6         6          175       5.896226     827.478286     92.022857   \n",
       "8         8          200       6.738544     647.933500     47.280000   \n",
       "2         2          392      13.207547     505.728827    149.426020   \n",
       "\n",
       "    qtde_products  frequency  qtde_returns  \n",
       "10     475.581769   0.110615    187.120643  \n",
       "9      101.721805   0.063852     33.323308  \n",
       "0      173.875862   0.060415     23.482759  \n",
       "7      128.084034   0.042262     22.235294  \n",
       "5      222.136842   0.031576      0.663158  \n",
       "3       89.202970   0.050037     11.542079  \n",
       "1       54.357527   0.043705      8.771505  \n",
       "4       37.462733   0.074586      6.571429  \n",
       "6       26.822857   0.161952     22.868571  \n",
       "8       11.510000   0.025991      0.845000  \n",
       "2       15.522959   0.426596      9.443878  "
      ]
     },
     "execution_count": 100,
     "metadata": {},
     "output_type": "execute_result"
    }
   ],
   "source": [
    "# Number of customer\n",
    "df_cluster = df92[['customer_id', 'cluster']].groupby( 'cluster' ).count().reset_index()\n",
    "df_cluster['perc_customer'] = 100*( df_cluster['customer_id'] / df_cluster['customer_id'].sum() )\n",
    "\n",
    "# Avg Gross revenue\n",
    "df_avg_gross_revenue = df92[['gross_revenue', 'cluster']].groupby( 'cluster' ).mean().reset_index()\n",
    "df_cluster = pd.merge( df_cluster, df_avg_gross_revenue, how='inner', on='cluster' )\n",
    "\n",
    "# Avg recency days\n",
    "df_avg_recency_days = df92[['recency_days', 'cluster']].groupby( 'cluster' ).mean().reset_index()\n",
    "df_cluster = pd.merge( df_cluster, df_avg_recency_days, how='inner', on='cluster' )\n",
    "\n",
    "# Avg invoice_no\n",
    "df_qtde_products = df92[['qtde_products', 'cluster']].groupby( 'cluster' ).mean().reset_index()\n",
    "df_cluster = pd.merge( df_cluster, df_qtde_products, how='inner', on='cluster' )\n",
    "\n",
    "# Frequency\n",
    "df_frequency = df92[['frequency', 'cluster']].groupby( 'cluster' ).mean().reset_index()\n",
    "df_cluster = pd.merge( df_cluster, df_frequency, how='inner', on='cluster' )\n",
    "\n",
    "# Returns\n",
    "df_qtde_returns = df92[['qtde_returns', 'cluster']].groupby( 'cluster' ).mean().reset_index()\n",
    "df_cluster = pd.merge( df_cluster, df_qtde_returns, how='inner', on='cluster' )\n",
    "\n",
    "df_cluster.sort_values( 'gross_revenue', ascending=False )"
   ]
  },
  {
   "cell_type": "code",
   "execution_count": 101,
   "metadata": {
    "ExecuteTime": {
     "end_time": "2022-05-18T17:12:44.940598Z",
     "start_time": "2022-05-18T17:12:44.938103Z"
    }
   },
   "outputs": [],
   "source": [
    "# 4 Cluster Insiders\n",
    "# 2 Cluster More Products\n",
    "# 3 Cluster Spend Money \n",
    "# 1 Cluster Even More Products\n",
    "# 7 Cluster Less Days\n",
    "# 6 Cluster Less 1k\n",
    "# 0 Cluster Stop Returners\n",
    "# 5 Cluster More Buy"
   ]
  },
  {
   "cell_type": "markdown",
   "metadata": {},
   "source": [
    "### Cluster 01:  ( Candidato à Insider )\n",
    "    - Número de customers: 468 (16% do customers )\n",
    "    - Faturamento médio: 8836\n",
    "    - Recência média: 21 dias\n",
    "    - Média de Produtos comprados: 424 produtos\n",
    "    - Frequência de Produtos comprados: 0.09 produtos/dia\n",
    "    - Receita em média: $8836.13,00 dólares\n",
    "        \n",
    "### Cluster 02: \n",
    "    - Número de customers: 31 (0.71 do customers )\n",
    "    - Recência em média: 14 dias\n",
    "    - Compras em média: 53 compras\n",
    "    - Receita em média: $40.543,52 dólares\n",
    "        \n",
    "### Cluster 03: \n",
    "    - Número de customers: 4.335 (99% do customers )\n",
    "    - Recência em média: 92 dias\n",
    "    - Compras em média: 5 compras\n",
    "    - Receita em média: $1.372,57 dólares"
   ]
  },
  {
   "cell_type": "markdown",
   "metadata": {},
   "source": [
    "# <font color='red'> 11.0. Deploy To Production </font>"
   ]
  },
  {
   "cell_type": "code",
   "execution_count": 57,
   "metadata": {
    "ExecuteTime": {
     "end_time": "2021-10-13T17:36:05.324544Z",
     "start_time": "2021-10-13T17:36:05.317219Z"
    }
   },
   "outputs": [
    {
     "data": {
      "text/plain": [
       "customer_id                  int64\n",
       "gross_revenue              float64\n",
       "recency_days                 int64\n",
       "qtde_products                int64\n",
       "frequency                  float64\n",
       "qtde_returns                 int64\n",
       "cluster                      int64\n",
       "last_training_timestamp     object\n",
       "dtype: object"
      ]
     },
     "execution_count": 57,
     "metadata": {},
     "output_type": "execute_result"
    }
   ],
   "source": [
    "df92.dtypes"
   ]
  },
  {
   "cell_type": "markdown",
   "metadata": {},
   "source": [
    "## 11.1. Insert into SQLITE"
   ]
  },
  {
   "cell_type": "code",
   "execution_count": 55,
   "metadata": {
    "ExecuteTime": {
     "end_time": "2021-10-06T15:24:20.248432Z",
     "start_time": "2021-10-06T15:24:20.097497Z"
    }
   },
   "outputs": [],
   "source": [
    "import sqlite3\n",
    "from sqlalchemy import create_engine"
   ]
  },
  {
   "cell_type": "code",
   "execution_count": 56,
   "metadata": {
    "ExecuteTime": {
     "end_time": "2021-10-06T15:24:20.256474Z",
     "start_time": "2021-10-06T15:24:20.250996Z"
    }
   },
   "outputs": [],
   "source": [
    "df92['recency_days'] = df92['recency_days'].astype( int )\n",
    "df92['qtde_products'] = df92['qtde_products'].astype( int )\n",
    "df92['qtde_returns'] = df92['qtde_returns'].astype( int )"
   ]
  },
  {
   "cell_type": "code",
   "execution_count": 57,
   "metadata": {
    "ExecuteTime": {
     "end_time": "2021-10-06T15:24:20.274710Z",
     "start_time": "2021-10-06T15:24:20.258967Z"
    }
   },
   "outputs": [],
   "source": [
    "## create table\n",
    "#query_create_table_insiders = \"\"\"\n",
    "#    CREATE TABLE insiders ( \n",
    "#        customer_id     INTEGER,\n",
    "#        gross_revenue   REAL,\n",
    "#        recency_days    INTEGER,    \n",
    "#        qtde_products   INTEGER,\n",
    "#        frequency       REAL,\n",
    "#        qtde_returns    INTEGER,\n",
    "#        cluster         INTEGER\n",
    "#    )\n",
    "#\"\"\"\n",
    "#\n",
    "#\n",
    "#conn = sqlite3.connect( 'insiders_db.sqlite' )\n",
    "#conn.execute( query_create_table_insiders )\n",
    "#conn.commit()\n",
    "#conn.close()\n",
    "\n",
    "# insert data\n",
    "conn = create_engine( 'sqlite:///insiders_db.sqlite' )\n",
    "#df92.to_sql( 'insiders', con=conn, if_exists='append', index=False )\n",
    "\n",
    "# select data"
   ]
  },
  {
   "cell_type": "code",
   "execution_count": 58,
   "metadata": {
    "ExecuteTime": {
     "end_time": "2021-10-06T15:24:20.357579Z",
     "start_time": "2021-10-06T15:24:20.276474Z"
    }
   },
   "outputs": [],
   "source": [
    "# consulting database\n",
    "query = \"\"\"\n",
    "    SELECT * FROM insiders \n",
    "\"\"\"\n",
    "\n",
    "df = pd.read_sql_query( query, conn )"
   ]
  },
  {
   "cell_type": "code",
   "execution_count": 59,
   "metadata": {
    "ExecuteTime": {
     "end_time": "2021-10-06T15:24:20.371445Z",
     "start_time": "2021-10-06T15:24:20.360295Z"
    }
   },
   "outputs": [
    {
     "data": {
      "text/html": [
       "<div>\n",
       "<style scoped>\n",
       "    .dataframe tbody tr th:only-of-type {\n",
       "        vertical-align: middle;\n",
       "    }\n",
       "\n",
       "    .dataframe tbody tr th {\n",
       "        vertical-align: top;\n",
       "    }\n",
       "\n",
       "    .dataframe thead th {\n",
       "        text-align: right;\n",
       "    }\n",
       "</style>\n",
       "<table border=\"1\" class=\"dataframe\">\n",
       "  <thead>\n",
       "    <tr style=\"text-align: right;\">\n",
       "      <th></th>\n",
       "      <th>customer_id</th>\n",
       "      <th>gross_revenue</th>\n",
       "      <th>recency_days</th>\n",
       "      <th>qtde_products</th>\n",
       "      <th>frequency</th>\n",
       "      <th>qtde_returns</th>\n",
       "      <th>cluster</th>\n",
       "    </tr>\n",
       "  </thead>\n",
       "  <tbody>\n",
       "    <tr>\n",
       "      <th>0</th>\n",
       "      <td>17850</td>\n",
       "      <td>5391.21</td>\n",
       "      <td>372</td>\n",
       "      <td>297</td>\n",
       "      <td>17.000000</td>\n",
       "      <td>40</td>\n",
       "      <td>7</td>\n",
       "    </tr>\n",
       "    <tr>\n",
       "      <th>1</th>\n",
       "      <td>13047</td>\n",
       "      <td>3232.59</td>\n",
       "      <td>56</td>\n",
       "      <td>171</td>\n",
       "      <td>0.028302</td>\n",
       "      <td>35</td>\n",
       "      <td>4</td>\n",
       "    </tr>\n",
       "    <tr>\n",
       "      <th>2</th>\n",
       "      <td>12583</td>\n",
       "      <td>6705.38</td>\n",
       "      <td>2</td>\n",
       "      <td>232</td>\n",
       "      <td>0.040323</td>\n",
       "      <td>50</td>\n",
       "      <td>6</td>\n",
       "    </tr>\n",
       "    <tr>\n",
       "      <th>3</th>\n",
       "      <td>13748</td>\n",
       "      <td>948.25</td>\n",
       "      <td>95</td>\n",
       "      <td>28</td>\n",
       "      <td>0.017921</td>\n",
       "      <td>0</td>\n",
       "      <td>0</td>\n",
       "    </tr>\n",
       "    <tr>\n",
       "      <th>4</th>\n",
       "      <td>15100</td>\n",
       "      <td>876.00</td>\n",
       "      <td>333</td>\n",
       "      <td>3</td>\n",
       "      <td>0.073171</td>\n",
       "      <td>22</td>\n",
       "      <td>0</td>\n",
       "    </tr>\n",
       "  </tbody>\n",
       "</table>\n",
       "</div>"
      ],
      "text/plain": [
       "   customer_id  gross_revenue  recency_days  qtde_products  frequency  \\\n",
       "0        17850        5391.21           372            297  17.000000   \n",
       "1        13047        3232.59            56            171   0.028302   \n",
       "2        12583        6705.38             2            232   0.040323   \n",
       "3        13748         948.25            95             28   0.017921   \n",
       "4        15100         876.00           333              3   0.073171   \n",
       "\n",
       "   qtde_returns  cluster  \n",
       "0            40        7  \n",
       "1            35        4  \n",
       "2            50        6  \n",
       "3             0        0  \n",
       "4            22        0  "
      ]
     },
     "execution_count": 59,
     "metadata": {},
     "output_type": "execute_result"
    }
   ],
   "source": [
    "df.head()"
   ]
  },
  {
   "cell_type": "code",
   "execution_count": 60,
   "metadata": {
    "ExecuteTime": {
     "end_time": "2021-10-06T15:24:20.376114Z",
     "start_time": "2021-10-06T15:24:20.372980Z"
    }
   },
   "outputs": [
    {
     "data": {
      "text/plain": [
       "(17085, 7)"
      ]
     },
     "execution_count": 60,
     "metadata": {},
     "output_type": "execute_result"
    }
   ],
   "source": [
    "df.shape"
   ]
  },
  {
   "cell_type": "code",
   "execution_count": null,
   "metadata": {},
   "outputs": [],
   "source": []
  },
  {
   "cell_type": "code",
   "execution_count": null,
   "metadata": {},
   "outputs": [],
   "source": []
  },
  {
   "cell_type": "code",
   "execution_count": null,
   "metadata": {},
   "outputs": [],
   "source": []
  },
  {
   "cell_type": "code",
   "execution_count": null,
   "metadata": {},
   "outputs": [],
   "source": []
  },
  {
   "cell_type": "code",
   "execution_count": null,
   "metadata": {},
   "outputs": [],
   "source": []
  }
 ],
 "metadata": {
  "kernelspec": {
   "display_name": "Python 3 (ipykernel)",
   "language": "python",
   "name": "python3"
  },
  "language_info": {
   "codemirror_mode": {
    "name": "ipython",
    "version": 3
   },
   "file_extension": ".py",
   "mimetype": "text/x-python",
   "name": "python",
   "nbconvert_exporter": "python",
   "pygments_lexer": "ipython3",
   "version": "3.9.12"
  }
 },
 "nbformat": 4,
 "nbformat_minor": 4
}
