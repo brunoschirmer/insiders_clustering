{
 "cells": [
  {
   "cell_type": "markdown",
   "metadata": {
    "ExecuteTime": {
     "end_time": "2021-03-27T20:58:22.276780Z",
     "start_time": "2021-03-27T20:58:22.274533Z"
    },
    "heading_collapsed": true
   },
   "source": [
    "# PA005: High Value Customer Identification"
   ]
  },
  {
   "cell_type": "markdown",
   "metadata": {
    "hidden": true
   },
   "source": [
    "## <font color='red'> Ciclo 00 - Planejamento - Método IOT </font>"
   ]
  },
  {
   "cell_type": "markdown",
   "metadata": {
    "heading_collapsed": true,
    "hidden": true
   },
   "source": [
    "## <font color='red'> Ciclo 01 - Métricas de Validação de Clusters </font>"
   ]
  },
  {
   "cell_type": "markdown",
   "metadata": {
    "hidden": true
   },
   "source": [
    "1. Feature Engineering\n",
    "    - Recência\n",
    "    - Frequência\n",
    "    - Monetização\n",
    "    \n",
    "    \n",
    "2. Métricas de validação de Clustering\n",
    "    - WSS ( Within-Cluster Sum of Square )  \n",
    "    - SS ( Silhouette Score )\n",
    "    \n",
    "    \n",
    "3. Cluster Analysis\n",
    "    - Plot 3D\n",
    "    - Cluster Profile"
   ]
  },
  {
   "cell_type": "markdown",
   "metadata": {
    "heading_collapsed": true,
    "hidden": true
   },
   "source": [
    "## <font color='red'> Ciclo 02 - Análise de Silhouette </font>"
   ]
  },
  {
   "cell_type": "markdown",
   "metadata": {
    "hidden": true
   },
   "source": [
    "1. Feature Engineering\n",
    "    - Average Ticket\n",
    "    \n",
    "    \n",
    "2. Análise de Silhouette\n",
    "    - Silhouette Analysis  \n",
    "    \n",
    "    \n",
    "3. Cluster Visualization\n",
    "    - UMAP\n",
    "    \n",
    "    \n",
    "4. Cluster Análise de Perfil\n",
    "    - Descrição dos centróides dos cluster"
   ]
  },
  {
   "cell_type": "markdown",
   "metadata": {
    "heading_collapsed": true,
    "hidden": true
   },
   "source": [
    "## <font color='red'> Ciclo 03 - Statistical Descriptive </font>"
   ]
  },
  {
   "cell_type": "markdown",
   "metadata": {
    "hidden": true
   },
   "source": [
    "1. Análise Descritiva\n",
    "    - Atributos numéricos\n",
    "    - Atributos categóricos\n",
    "    \n",
    "    \n",
    "2. Feature Engineering\n",
    "    - Average Recency\n",
    "    - Number of Returns\n",
    "    \n",
    "    \n",
    "2. Data preparation\n",
    "    - Standard Scaler"
   ]
  },
  {
   "cell_type": "markdown",
   "metadata": {
    "heading_collapsed": true
   },
   "source": [
    "# 0.0. Planejamento da Solução ( IOT )"
   ]
  },
  {
   "cell_type": "markdown",
   "metadata": {
    "heading_collapsed": true,
    "hidden": true
   },
   "source": [
    "## Input - Entrada"
   ]
  },
  {
   "cell_type": "markdown",
   "metadata": {
    "heading_collapsed": true,
    "hidden": true
   },
   "source": [
    "### O problema de negócio"
   ]
  },
  {
   "cell_type": "markdown",
   "metadata": {
    "hidden": true
   },
   "source": [
    "1. Selecionar os mais valiosos clientes para formar o programa de fidelidade **\"INSIDERS\"**\n",
    "2. Conjunto de dados com as vendas de produtos durante 1 ano ( Nov 2015 to Dec 2017 )"
   ]
  },
  {
   "cell_type": "markdown",
   "metadata": {
    "heading_collapsed": true,
    "hidden": true
   },
   "source": [
    "## Output - Saída"
   ]
  },
  {
   "cell_type": "markdown",
   "metadata": {
    "hidden": true
   },
   "source": [
    "1. A indicação de pessoas para fazer parte do programa de fidelidade **\"INSIDERS\"**.\n",
    "2. Relatório com as respostas para as seguintes perguntas:\n",
    "    - Quem são as pessoas elegíveis para participar do programa de Insiders ?\n",
    "    - Quantos clientes farão parte do grupo?\n",
    "    - Quais as principais características desses clientes ?\n",
    "    - Qual a porcentagem de contribuição do faturamento, vinda do Insiders ?\n",
    "    - Qual a expectativa de faturamento desse grupo para os próximos meses ?\n",
    "    - Quais as condições para uma pessoa ser elegível ao Insiders ?\n",
    "    - Quais as condições para uma pessoa ser removida do Insiders ?\n",
    "    - Qual a garantia que o programa Insiders é melhor que o restante da base ?\n",
    "    - Quais ações o time de marketing pode realizar para aumentar o faturamento?"
   ]
  },
  {
   "cell_type": "markdown",
   "metadata": {
    "heading_collapsed": true,
    "hidden": true
   },
   "source": [
    "## Tasks - Processo"
   ]
  },
  {
   "cell_type": "markdown",
   "metadata": {
    "hidden": true
   },
   "source": [
    "1. **Quem são as pessoas elegíveis para participar do programa de Insiders ?**\n",
    "    - O que é ser elegível ? O que é um cliente \"valioso\" para a empresa ?\n",
    "        - Faturamento:\n",
    "            - Alto Ticket Médio\n",
    "            - Alto LTV\n",
    "            - Baixa Recência ou Alta Frequência ( tempo entre as compras )\n",
    "            - Alto Basket Size ( quantidade média de produtos comprados )\n",
    "            - Baixa probabilidade de Churn\n",
    "            - Previsão alta de LTV\n",
    "            - Alta propensão de compra\n",
    "\n",
    "        - Custo:\n",
    "            - Baixo número de devoluções\n",
    "\n",
    "        - Experiência:  \n",
    "            - Média alta de avaliações\n",
    "            \n",
    "            \n",
    "2. **Quantos clientes farão parte do grupo?**\n",
    "    - Número de clientes\n",
    "    - % em relação ao total de clients\n",
    "    \n",
    "    \n",
    "3. **Quais as principais características desses clientes ?**\n",
    "    - Escrever os principais atributos dos clientes\n",
    "        - Idade\n",
    "        - País\n",
    "        - Salário\n",
    "        \n",
    "    - Escrever os principais comportamentos de compra dos clients ( métricas de negócio )\n",
    "        - Vide acima\n",
    "    \n",
    "    \n",
    "4. **Qual a porcentagem de contribuição do faturamento, vinda do Insiders ?**\n",
    "    - Calcular o faturamento total da empresa durante o ano.\n",
    "    - Calcular o faturamento (%) apenas do cluster Insiders.\n",
    "    \n",
    "    \n",
    "5. **Qual a expectativa de faturamento desse grupo para os próximos meses ?**\n",
    "    - Cálculo do LTV do grupo Insiders\n",
    "    - Séries Temporais ( ARMA, ARIMA, HoltWinter, etc )\n",
    "    \n",
    "\n",
    "6. **Quais as condições para uma pessoa ser elegível ao Insiders ?**\n",
    "    - Qual o período de avaliação ?\n",
    "    - O \"desempenho\" do cliente está próximo da média do cluster Insiders. \n",
    "    \n",
    "    \n",
    "7. **Quais as condições para uma pessoa ser removida do Insiders ?**\n",
    "    - O \"desempenho\" do cliente não está mais próximo da média do cluster Insiders. \n",
    "    \n",
    "    \n",
    "8. **Qual a garantia que o programa Insiders é melhor que o restante da base ?**\n",
    "    - Teste de Hipóteses\n",
    "    - Teste A/B\n",
    "    \n",
    "    \n",
    "9. **Quais ações o time de marketing pode realizar para aumentar o faturamento?**\n",
    "    - Descontos\n",
    "    - Preferências de escolha\n",
    "    - Produtos exclusivos"
   ]
  },
  {
   "cell_type": "markdown",
   "metadata": {
    "heading_collapsed": true
   },
   "source": [
    "# 0.0. Imports"
   ]
  },
  {
   "cell_type": "code",
   "execution_count": 1,
   "metadata": {
    "ExecuteTime": {
     "end_time": "2022-05-06T20:47:06.236809Z",
     "start_time": "2022-05-06T20:46:58.033758Z"
    },
    "hidden": true
   },
   "outputs": [],
   "source": [
    "import numpy   as np\n",
    "import pandas  as pd\n",
    "import seaborn as sns\n",
    "\n",
    "import umap.umap_ as umap\n",
    "\n",
    "from IPython.display import HTML\n",
    "from matplotlib import pyplot as plt\n",
    "\n",
    "\n",
    "from sklearn import cluster       as c\n",
    "from sklearn import metrics       as m\n",
    "from sklearn import preprocessing as pp\n",
    "\n",
    "from plotly import express as px\n",
    "\n",
    "from yellowbrick.cluster import KElbowVisualizer, SilhouetteVisualizer"
   ]
  },
  {
   "cell_type": "markdown",
   "metadata": {
    "heading_collapsed": true,
    "hidden": true
   },
   "source": [
    "## 0.1. Helper Functions"
   ]
  },
  {
   "cell_type": "code",
   "execution_count": 2,
   "metadata": {
    "ExecuteTime": {
     "end_time": "2022-05-06T20:47:06.250330Z",
     "start_time": "2022-05-06T20:47:06.238459Z"
    },
    "hidden": true
   },
   "outputs": [
    {
     "name": "stdout",
     "output_type": "stream",
     "text": [
      "Populating the interactive namespace from numpy and matplotlib\n"
     ]
    },
    {
     "data": {
      "text/html": [
       "<style>.container { width:100% !important; }</style>"
      ],
      "text/plain": [
       "<IPython.core.display.HTML object>"
      ]
     },
     "metadata": {},
     "output_type": "display_data"
    }
   ],
   "source": [
    "def jupyter_settings():\n",
    "    %matplotlib inline\n",
    "    %pylab inline\n",
    "    \n",
    "    plt.style.use( 'ggplot')\n",
    "    plt.rcParams['figure.figsize'] = [24, 9]\n",
    "    plt.rcParams['font.size'] = 24\n",
    "    \n",
    "    display( HTML( '<style>.container { width:100% !important; }</style>') )\n",
    "    pd.options.display.max_columns = None\n",
    "    pd.options.display.max_rows = None\n",
    "    pd.set_option( 'display.expand_frame_repr', False )\n",
    "    \n",
    "    sns.set()\n",
    "    \n",
    "jupyter_settings()"
   ]
  },
  {
   "cell_type": "markdown",
   "metadata": {
    "heading_collapsed": true,
    "hidden": true
   },
   "source": [
    "## 0.2. Load dataset"
   ]
  },
  {
   "cell_type": "code",
   "execution_count": 3,
   "metadata": {
    "ExecuteTime": {
     "end_time": "2022-05-06T20:47:06.591724Z",
     "start_time": "2022-05-06T20:47:06.251630Z"
    },
    "hidden": true
   },
   "outputs": [
    {
     "ename": "UnicodeDecodeError",
     "evalue": "'utf-8' codec can't decode byte 0xa3 in position 79546: invalid start byte",
     "output_type": "error",
     "traceback": [
      "\u001b[0;31m---------------------------------------------------------------------------\u001b[0m",
      "\u001b[0;31mUnicodeDecodeError\u001b[0m                        Traceback (most recent call last)",
      "\u001b[0;32m/var/folders/04/fz9wjmrx1fvgdw9ycmx8w0cr0000gn/T/ipykernel_43683/2622805319.py\u001b[0m in \u001b[0;36m<module>\u001b[0;34m\u001b[0m\n\u001b[1;32m      1\u001b[0m \u001b[0;31m# load data\u001b[0m\u001b[0;34m\u001b[0m\u001b[0;34m\u001b[0m\u001b[0m\n\u001b[0;32m----> 2\u001b[0;31m \u001b[0mdf_raw\u001b[0m \u001b[0;34m=\u001b[0m \u001b[0mpd\u001b[0m\u001b[0;34m.\u001b[0m\u001b[0mread_csv\u001b[0m\u001b[0;34m(\u001b[0m \u001b[0;34m'../data/raw/Ecommerce.csv'\u001b[0m \u001b[0;34m)\u001b[0m\u001b[0;34m\u001b[0m\u001b[0;34m\u001b[0m\u001b[0m\n\u001b[0m\u001b[1;32m      3\u001b[0m \u001b[0;34m\u001b[0m\u001b[0m\n\u001b[1;32m      4\u001b[0m \u001b[0;31m# drop extra column\u001b[0m\u001b[0;34m\u001b[0m\u001b[0;34m\u001b[0m\u001b[0m\n\u001b[1;32m      5\u001b[0m \u001b[0mdf_raw\u001b[0m \u001b[0;34m=\u001b[0m \u001b[0mdf_raw\u001b[0m\u001b[0;34m.\u001b[0m\u001b[0mdrop\u001b[0m\u001b[0;34m(\u001b[0m \u001b[0mcolumns\u001b[0m\u001b[0;34m=\u001b[0m\u001b[0;34m[\u001b[0m\u001b[0;34m'Unnamed: 8'\u001b[0m\u001b[0;34m]\u001b[0m\u001b[0;34m,\u001b[0m \u001b[0maxis\u001b[0m\u001b[0;34m=\u001b[0m\u001b[0;36m1\u001b[0m \u001b[0;34m)\u001b[0m\u001b[0;34m\u001b[0m\u001b[0;34m\u001b[0m\u001b[0m\n",
      "\u001b[0;32m/usr/local/lib/python3.9/site-packages/pandas/util/_decorators.py\u001b[0m in \u001b[0;36mwrapper\u001b[0;34m(*args, **kwargs)\u001b[0m\n\u001b[1;32m    309\u001b[0m                     \u001b[0mstacklevel\u001b[0m\u001b[0;34m=\u001b[0m\u001b[0mstacklevel\u001b[0m\u001b[0;34m,\u001b[0m\u001b[0;34m\u001b[0m\u001b[0;34m\u001b[0m\u001b[0m\n\u001b[1;32m    310\u001b[0m                 )\n\u001b[0;32m--> 311\u001b[0;31m             \u001b[0;32mreturn\u001b[0m \u001b[0mfunc\u001b[0m\u001b[0;34m(\u001b[0m\u001b[0;34m*\u001b[0m\u001b[0margs\u001b[0m\u001b[0;34m,\u001b[0m \u001b[0;34m**\u001b[0m\u001b[0mkwargs\u001b[0m\u001b[0;34m)\u001b[0m\u001b[0;34m\u001b[0m\u001b[0;34m\u001b[0m\u001b[0m\n\u001b[0m\u001b[1;32m    312\u001b[0m \u001b[0;34m\u001b[0m\u001b[0m\n\u001b[1;32m    313\u001b[0m         \u001b[0;32mreturn\u001b[0m \u001b[0mwrapper\u001b[0m\u001b[0;34m\u001b[0m\u001b[0;34m\u001b[0m\u001b[0m\n",
      "\u001b[0;32m/usr/local/lib/python3.9/site-packages/pandas/io/parsers/readers.py\u001b[0m in \u001b[0;36mread_csv\u001b[0;34m(filepath_or_buffer, sep, delimiter, header, names, index_col, usecols, squeeze, prefix, mangle_dupe_cols, dtype, engine, converters, true_values, false_values, skipinitialspace, skiprows, skipfooter, nrows, na_values, keep_default_na, na_filter, verbose, skip_blank_lines, parse_dates, infer_datetime_format, keep_date_col, date_parser, dayfirst, cache_dates, iterator, chunksize, compression, thousands, decimal, lineterminator, quotechar, quoting, doublequote, escapechar, comment, encoding, encoding_errors, dialect, error_bad_lines, warn_bad_lines, on_bad_lines, delim_whitespace, low_memory, memory_map, float_precision, storage_options)\u001b[0m\n\u001b[1;32m    584\u001b[0m     \u001b[0mkwds\u001b[0m\u001b[0;34m.\u001b[0m\u001b[0mupdate\u001b[0m\u001b[0;34m(\u001b[0m\u001b[0mkwds_defaults\u001b[0m\u001b[0;34m)\u001b[0m\u001b[0;34m\u001b[0m\u001b[0;34m\u001b[0m\u001b[0m\n\u001b[1;32m    585\u001b[0m \u001b[0;34m\u001b[0m\u001b[0m\n\u001b[0;32m--> 586\u001b[0;31m     \u001b[0;32mreturn\u001b[0m \u001b[0m_read\u001b[0m\u001b[0;34m(\u001b[0m\u001b[0mfilepath_or_buffer\u001b[0m\u001b[0;34m,\u001b[0m \u001b[0mkwds\u001b[0m\u001b[0;34m)\u001b[0m\u001b[0;34m\u001b[0m\u001b[0;34m\u001b[0m\u001b[0m\n\u001b[0m\u001b[1;32m    587\u001b[0m \u001b[0;34m\u001b[0m\u001b[0m\n\u001b[1;32m    588\u001b[0m \u001b[0;34m\u001b[0m\u001b[0m\n",
      "\u001b[0;32m/usr/local/lib/python3.9/site-packages/pandas/io/parsers/readers.py\u001b[0m in \u001b[0;36m_read\u001b[0;34m(filepath_or_buffer, kwds)\u001b[0m\n\u001b[1;32m    486\u001b[0m \u001b[0;34m\u001b[0m\u001b[0m\n\u001b[1;32m    487\u001b[0m     \u001b[0;32mwith\u001b[0m \u001b[0mparser\u001b[0m\u001b[0;34m:\u001b[0m\u001b[0;34m\u001b[0m\u001b[0;34m\u001b[0m\u001b[0m\n\u001b[0;32m--> 488\u001b[0;31m         \u001b[0;32mreturn\u001b[0m \u001b[0mparser\u001b[0m\u001b[0;34m.\u001b[0m\u001b[0mread\u001b[0m\u001b[0;34m(\u001b[0m\u001b[0mnrows\u001b[0m\u001b[0;34m)\u001b[0m\u001b[0;34m\u001b[0m\u001b[0;34m\u001b[0m\u001b[0m\n\u001b[0m\u001b[1;32m    489\u001b[0m \u001b[0;34m\u001b[0m\u001b[0m\n\u001b[1;32m    490\u001b[0m \u001b[0;34m\u001b[0m\u001b[0m\n",
      "\u001b[0;32m/usr/local/lib/python3.9/site-packages/pandas/io/parsers/readers.py\u001b[0m in \u001b[0;36mread\u001b[0;34m(self, nrows)\u001b[0m\n\u001b[1;32m   1045\u001b[0m     \u001b[0;32mdef\u001b[0m \u001b[0mread\u001b[0m\u001b[0;34m(\u001b[0m\u001b[0mself\u001b[0m\u001b[0;34m,\u001b[0m \u001b[0mnrows\u001b[0m\u001b[0;34m=\u001b[0m\u001b[0;32mNone\u001b[0m\u001b[0;34m)\u001b[0m\u001b[0;34m:\u001b[0m\u001b[0;34m\u001b[0m\u001b[0;34m\u001b[0m\u001b[0m\n\u001b[1;32m   1046\u001b[0m         \u001b[0mnrows\u001b[0m \u001b[0;34m=\u001b[0m \u001b[0mvalidate_integer\u001b[0m\u001b[0;34m(\u001b[0m\u001b[0;34m\"nrows\"\u001b[0m\u001b[0;34m,\u001b[0m \u001b[0mnrows\u001b[0m\u001b[0;34m)\u001b[0m\u001b[0;34m\u001b[0m\u001b[0;34m\u001b[0m\u001b[0m\n\u001b[0;32m-> 1047\u001b[0;31m         \u001b[0mindex\u001b[0m\u001b[0;34m,\u001b[0m \u001b[0mcolumns\u001b[0m\u001b[0;34m,\u001b[0m \u001b[0mcol_dict\u001b[0m \u001b[0;34m=\u001b[0m \u001b[0mself\u001b[0m\u001b[0;34m.\u001b[0m\u001b[0m_engine\u001b[0m\u001b[0;34m.\u001b[0m\u001b[0mread\u001b[0m\u001b[0;34m(\u001b[0m\u001b[0mnrows\u001b[0m\u001b[0;34m)\u001b[0m\u001b[0;34m\u001b[0m\u001b[0;34m\u001b[0m\u001b[0m\n\u001b[0m\u001b[1;32m   1048\u001b[0m \u001b[0;34m\u001b[0m\u001b[0m\n\u001b[1;32m   1049\u001b[0m         \u001b[0;32mif\u001b[0m \u001b[0mindex\u001b[0m \u001b[0;32mis\u001b[0m \u001b[0;32mNone\u001b[0m\u001b[0;34m:\u001b[0m\u001b[0;34m\u001b[0m\u001b[0;34m\u001b[0m\u001b[0m\n",
      "\u001b[0;32m/usr/local/lib/python3.9/site-packages/pandas/io/parsers/c_parser_wrapper.py\u001b[0m in \u001b[0;36mread\u001b[0;34m(self, nrows)\u001b[0m\n\u001b[1;32m    221\u001b[0m         \u001b[0;32mtry\u001b[0m\u001b[0;34m:\u001b[0m\u001b[0;34m\u001b[0m\u001b[0;34m\u001b[0m\u001b[0m\n\u001b[1;32m    222\u001b[0m             \u001b[0;32mif\u001b[0m \u001b[0mself\u001b[0m\u001b[0;34m.\u001b[0m\u001b[0mlow_memory\u001b[0m\u001b[0;34m:\u001b[0m\u001b[0;34m\u001b[0m\u001b[0;34m\u001b[0m\u001b[0m\n\u001b[0;32m--> 223\u001b[0;31m                 \u001b[0mchunks\u001b[0m \u001b[0;34m=\u001b[0m \u001b[0mself\u001b[0m\u001b[0;34m.\u001b[0m\u001b[0m_reader\u001b[0m\u001b[0;34m.\u001b[0m\u001b[0mread_low_memory\u001b[0m\u001b[0;34m(\u001b[0m\u001b[0mnrows\u001b[0m\u001b[0;34m)\u001b[0m\u001b[0;34m\u001b[0m\u001b[0;34m\u001b[0m\u001b[0m\n\u001b[0m\u001b[1;32m    224\u001b[0m                 \u001b[0;31m# destructive to chunks\u001b[0m\u001b[0;34m\u001b[0m\u001b[0;34m\u001b[0m\u001b[0m\n\u001b[1;32m    225\u001b[0m                 \u001b[0mdata\u001b[0m \u001b[0;34m=\u001b[0m \u001b[0m_concatenate_chunks\u001b[0m\u001b[0;34m(\u001b[0m\u001b[0mchunks\u001b[0m\u001b[0;34m)\u001b[0m\u001b[0;34m\u001b[0m\u001b[0;34m\u001b[0m\u001b[0m\n",
      "\u001b[0;32m/usr/local/lib/python3.9/site-packages/pandas/_libs/parsers.pyx\u001b[0m in \u001b[0;36mpandas._libs.parsers.TextReader.read_low_memory\u001b[0;34m()\u001b[0m\n",
      "\u001b[0;32m/usr/local/lib/python3.9/site-packages/pandas/_libs/parsers.pyx\u001b[0m in \u001b[0;36mpandas._libs.parsers.TextReader._read_rows\u001b[0;34m()\u001b[0m\n",
      "\u001b[0;32m/usr/local/lib/python3.9/site-packages/pandas/_libs/parsers.pyx\u001b[0m in \u001b[0;36mpandas._libs.parsers.TextReader._tokenize_rows\u001b[0;34m()\u001b[0m\n",
      "\u001b[0;32m/usr/local/lib/python3.9/site-packages/pandas/_libs/parsers.pyx\u001b[0m in \u001b[0;36mpandas._libs.parsers.raise_parser_error\u001b[0;34m()\u001b[0m\n",
      "\u001b[0;31mUnicodeDecodeError\u001b[0m: 'utf-8' codec can't decode byte 0xa3 in position 79546: invalid start byte"
     ]
    }
   ],
   "source": [
    "# load data\n",
    "df_raw = pd.read_csv( '../data/raw/Ecommerce.csv' )\n",
    "\n",
    "# drop extra column\n",
    "df_raw = df_raw.drop( columns=['Unnamed: 8'], axis=1 )"
   ]
  },
  {
   "cell_type": "markdown",
   "metadata": {
    "heading_collapsed": true
   },
   "source": [
    "# <font color='red'> 1.0. Descrição dos dados </font>"
   ]
  },
  {
   "cell_type": "code",
   "execution_count": null,
   "metadata": {
    "ExecuteTime": {
     "end_time": "2022-05-06T20:47:06.596234Z",
     "start_time": "2022-05-06T20:47:06.596223Z"
    },
    "hidden": true
   },
   "outputs": [],
   "source": [
    "df1 = df_raw.copy()"
   ]
  },
  {
   "cell_type": "markdown",
   "metadata": {
    "heading_collapsed": true,
    "hidden": true
   },
   "source": [
    "## 1.1. Rename columuns"
   ]
  },
  {
   "cell_type": "code",
   "execution_count": null,
   "metadata": {
    "ExecuteTime": {
     "end_time": "2022-05-06T20:47:06.597528Z",
     "start_time": "2022-05-06T20:47:06.597517Z"
    },
    "hidden": true
   },
   "outputs": [],
   "source": [
    "cols_new = ['invoice_no', 'stock_code', 'description', 'quantity', 'invoice_date', 'unit_price', 'customer_id', 'country']\n",
    "df1.columns = cols_new"
   ]
  },
  {
   "cell_type": "markdown",
   "metadata": {
    "heading_collapsed": true,
    "hidden": true
   },
   "source": [
    "## 1.2. Data dimensions"
   ]
  },
  {
   "cell_type": "code",
   "execution_count": null,
   "metadata": {
    "ExecuteTime": {
     "end_time": "2022-05-06T20:47:06.598605Z",
     "start_time": "2022-05-06T20:47:06.598594Z"
    },
    "hidden": true
   },
   "outputs": [],
   "source": [
    "print( 'Number of rows: {}'.format( df1.shape[0] ) )\n",
    "print( 'Number of cols: {}'.format( df1.shape[1] ) )"
   ]
  },
  {
   "cell_type": "markdown",
   "metadata": {
    "heading_collapsed": true,
    "hidden": true
   },
   "source": [
    "## 1.3. Data types"
   ]
  },
  {
   "cell_type": "code",
   "execution_count": null,
   "metadata": {
    "ExecuteTime": {
     "end_time": "2022-05-06T20:47:06.599529Z",
     "start_time": "2022-05-06T20:47:06.599514Z"
    },
    "hidden": true
   },
   "outputs": [],
   "source": [
    "df1.dtypes"
   ]
  },
  {
   "cell_type": "markdown",
   "metadata": {
    "heading_collapsed": true,
    "hidden": true
   },
   "source": [
    "## 1.4. Check NA"
   ]
  },
  {
   "cell_type": "code",
   "execution_count": null,
   "metadata": {
    "ExecuteTime": {
     "end_time": "2022-05-06T20:47:06.600352Z",
     "start_time": "2022-05-06T20:47:06.600341Z"
    },
    "hidden": true
   },
   "outputs": [],
   "source": [
    "df1.isna().sum()"
   ]
  },
  {
   "cell_type": "markdown",
   "metadata": {
    "heading_collapsed": true,
    "hidden": true
   },
   "source": [
    "## 1.5. Replace NA"
   ]
  },
  {
   "cell_type": "code",
   "execution_count": null,
   "metadata": {
    "ExecuteTime": {
     "end_time": "2022-05-06T20:47:06.601442Z",
     "start_time": "2022-05-06T20:47:06.601429Z"
    },
    "hidden": true
   },
   "outputs": [],
   "source": [
    "# remova na\n",
    "df1 = df1.dropna( subset=['description', 'customer_id'] )\n",
    "print( 'Removed data: {:.2f}'.format( 1-( df1.shape[0] / df_raw.shape[0] ) ) )"
   ]
  },
  {
   "cell_type": "code",
   "execution_count": null,
   "metadata": {
    "ExecuteTime": {
     "end_time": "2022-05-06T20:47:06.602587Z",
     "start_time": "2022-05-06T20:47:06.602573Z"
    },
    "hidden": true
   },
   "outputs": [],
   "source": [
    "df1.isna().sum()"
   ]
  },
  {
   "cell_type": "markdown",
   "metadata": {
    "heading_collapsed": true,
    "hidden": true
   },
   "source": [
    "## 1.6. Change dtypes"
   ]
  },
  {
   "cell_type": "code",
   "execution_count": null,
   "metadata": {
    "ExecuteTime": {
     "end_time": "2022-05-06T20:47:06.603352Z",
     "start_time": "2022-05-06T20:47:06.603341Z"
    },
    "hidden": true
   },
   "outputs": [],
   "source": [
    "# invoice date\n",
    "df1['invoice_date'] = pd.to_datetime( df1['invoice_date'], format='%d-%b-%y' )\n",
    "\n",
    "# customer id\n",
    "df1['customer_id'] = df1['customer_id'].astype( int )\n",
    "df1.head()"
   ]
  },
  {
   "cell_type": "code",
   "execution_count": null,
   "metadata": {
    "ExecuteTime": {
     "end_time": "2022-05-06T20:47:06.604489Z",
     "start_time": "2022-05-06T20:47:06.604478Z"
    },
    "hidden": true
   },
   "outputs": [],
   "source": [
    "df1.dtypes"
   ]
  },
  {
   "cell_type": "markdown",
   "metadata": {
    "heading_collapsed": true,
    "hidden": true
   },
   "source": [
    "## 1.7. Descriptive Statistics"
   ]
  },
  {
   "cell_type": "code",
   "execution_count": null,
   "metadata": {
    "ExecuteTime": {
     "end_time": "2022-05-06T20:47:06.605527Z",
     "start_time": "2022-05-06T20:47:06.605513Z"
    },
    "hidden": true
   },
   "outputs": [],
   "source": [
    "num_attributes = df1.select_dtypes( include=['int64', 'float64'] )\n",
    "cat_attributes = df1.select_dtypes( exclude=['int64', 'float64', 'datetime64[ns]'] )"
   ]
  },
  {
   "cell_type": "markdown",
   "metadata": {
    "heading_collapsed": true,
    "hidden": true
   },
   "source": [
    "### 1.7.1. Numerical Attributs"
   ]
  },
  {
   "cell_type": "code",
   "execution_count": null,
   "metadata": {
    "ExecuteTime": {
     "end_time": "2022-05-06T20:47:06.606492Z",
     "start_time": "2022-05-06T20:47:06.606482Z"
    },
    "hidden": true
   },
   "outputs": [],
   "source": [
    "# central tendency - mean, median\n",
    "ct1 = pd.DataFrame( num_attributes.apply( np.mean ) ).T\n",
    "ct2 = pd.DataFrame( num_attributes.apply( np.median ) ).T\n",
    "             \n",
    "# dispersion - desvio padrão, minimo, maximo, range, skew, kurtosis\n",
    "d1 = pd.DataFrame( num_attributes.apply( np.std ) ).T\n",
    "d2 = pd.DataFrame( num_attributes.apply( np.min ) ).T\n",
    "d3 = pd.DataFrame( num_attributes.apply( np.max ) ).T\n",
    "d4 = pd.DataFrame( num_attributes.apply( lambda x: x.max() - x.min() ) ).T\n",
    "d5 = pd.DataFrame( num_attributes.apply( lambda x: x.skew() ) ).T\n",
    "d6 = pd.DataFrame( num_attributes.apply( lambda x: x.kurtosis() ) ).T\n",
    "\n",
    "# concatenate\n",
    "m = pd.concat( [d2, d3, d4, ct1, ct2, d1, d5, d6] ).T.reset_index()\n",
    "m.columns = ['attributes', 'min', 'max', 'range', 'mean', 'mediana', 'std', 'skew', 'kurtosis']\n",
    "m"
   ]
  },
  {
   "cell_type": "markdown",
   "metadata": {
    "heading_collapsed": true,
    "hidden": true
   },
   "source": [
    "### <font color='red'> 1.7.1.1. Numerical Attributs - Investigating </font>"
   ]
  },
  {
   "cell_type": "markdown",
   "metadata": {
    "ExecuteTime": {
     "end_time": "2021-04-27T23:54:34.339055Z",
     "start_time": "2021-04-27T23:54:34.335055Z"
    },
    "hidden": true
   },
   "source": [
    "1. Quantity negativa ( pode ser devolução )\n",
    "\n",
    "\n",
    "2. Preço unitário igual a zero ( pode ser promoção? )"
   ]
  },
  {
   "cell_type": "markdown",
   "metadata": {
    "heading_collapsed": true,
    "hidden": true
   },
   "source": [
    "### 1.7.2. Categorical Attributs"
   ]
  },
  {
   "cell_type": "markdown",
   "metadata": {
    "heading_collapsed": true,
    "hidden": true
   },
   "source": [
    "#### Invoice No"
   ]
  },
  {
   "cell_type": "code",
   "execution_count": null,
   "metadata": {
    "ExecuteTime": {
     "end_time": "2022-05-06T20:47:06.607264Z",
     "start_time": "2022-05-06T20:47:06.607253Z"
    },
    "hidden": true
   },
   "outputs": [],
   "source": [
    "# problema: Temos invoice com letras e numeros\n",
    "#df1['invoice_no'].astype( int )\n",
    "\n",
    "# identficacao: \n",
    "df_letter_invoices = df1.loc[df1['invoice_no'].apply( lambda x: bool( re.search( '[^0-9]+', x ) ) ), :]\n",
    "df_letter_invoices.head()\n",
    "\n",
    "print( 'Total number of invoices: {}'.format( len( df_letter_invoices ) ) )\n",
    "print( 'Total number of negative quantity: {}'.format( len( df_letter_invoices[ df_letter_invoices['quantity'] < 0 ] ) ) )"
   ]
  },
  {
   "cell_type": "markdown",
   "metadata": {
    "heading_collapsed": true,
    "hidden": true
   },
   "source": [
    "#### Stock Code"
   ]
  },
  {
   "cell_type": "code",
   "execution_count": null,
   "metadata": {
    "ExecuteTime": {
     "end_time": "2022-05-06T20:47:06.608170Z",
     "start_time": "2022-05-06T20:47:06.608154Z"
    },
    "hidden": true
   },
   "outputs": [],
   "source": [
    "# check stock codes only characters\n",
    "df1.loc[df1['stock_code'].apply( lambda x: bool( re.search( '^[a-zA-Z]+$', x ) ) ), 'stock_code'].unique()\n",
    "\n",
    "# Acão:\n",
    "## 1. Remove stock_code in ['POST', 'D', 'M', 'PADS', 'DOT', 'CRUK']"
   ]
  },
  {
   "cell_type": "markdown",
   "metadata": {
    "heading_collapsed": true,
    "hidden": true
   },
   "source": [
    "#### Description"
   ]
  },
  {
   "cell_type": "code",
   "execution_count": null,
   "metadata": {
    "ExecuteTime": {
     "end_time": "2022-05-06T20:47:06.608956Z",
     "start_time": "2022-05-06T20:47:06.608945Z"
    },
    "hidden": true
   },
   "outputs": [],
   "source": [
    "df1.head()\n",
    "\n",
    "# Acão: Delete description"
   ]
  },
  {
   "cell_type": "markdown",
   "metadata": {
    "heading_collapsed": true,
    "hidden": true
   },
   "source": [
    "#### Country"
   ]
  },
  {
   "cell_type": "code",
   "execution_count": null,
   "metadata": {
    "ExecuteTime": {
     "end_time": "2022-05-06T20:47:06.610101Z",
     "start_time": "2022-05-06T20:47:06.610087Z"
    },
    "hidden": true
   },
   "outputs": [],
   "source": [
    "df1['country'].unique()"
   ]
  },
  {
   "cell_type": "code",
   "execution_count": null,
   "metadata": {
    "ExecuteTime": {
     "end_time": "2022-05-06T20:47:06.611126Z",
     "start_time": "2022-05-06T20:47:06.611115Z"
    },
    "hidden": true
   },
   "outputs": [],
   "source": [
    "df1['country'].value_counts( normalize=True ).head()"
   ]
  },
  {
   "cell_type": "code",
   "execution_count": null,
   "metadata": {
    "ExecuteTime": {
     "end_time": "2022-05-06T20:47:06.612327Z",
     "start_time": "2022-05-06T20:47:06.612316Z"
    },
    "hidden": true
   },
   "outputs": [],
   "source": [
    "df1[['customer_id', 'country']].drop_duplicates().groupby( 'country' ).count().reset_index().sort_values( 'customer_id', ascending=False).head()"
   ]
  },
  {
   "cell_type": "markdown",
   "metadata": {
    "heading_collapsed": true
   },
   "source": [
    "# <font color='red'> 2.0. Filtragem de Varivéis </font>"
   ]
  },
  {
   "cell_type": "code",
   "execution_count": null,
   "metadata": {
    "ExecuteTime": {
     "end_time": "2022-05-06T20:47:06.613158Z",
     "start_time": "2022-05-06T20:47:06.613146Z"
    },
    "hidden": true
   },
   "outputs": [],
   "source": [
    "df2 = df1.copy()"
   ]
  },
  {
   "cell_type": "code",
   "execution_count": null,
   "metadata": {
    "ExecuteTime": {
     "end_time": "2022-05-06T20:47:06.614296Z",
     "start_time": "2022-05-06T20:47:06.614281Z"
    },
    "hidden": true
   },
   "outputs": [],
   "source": [
    "df2.dtypes"
   ]
  },
  {
   "cell_type": "code",
   "execution_count": null,
   "metadata": {
    "ExecuteTime": {
     "end_time": "2022-05-06T20:47:06.615206Z",
     "start_time": "2022-05-06T20:47:06.615195Z"
    },
    "hidden": true
   },
   "outputs": [],
   "source": [
    "# === Numerical attributes ====\n",
    "df2 = df2.loc[df2['unit_price'] >= 0.04, :]\n",
    "\n",
    "# === Categorical attributes ====\n",
    "df2 = df2[~df2['stock_code'].isin( ['POST', 'D', 'M', 'PADS', 'DOT', 'CRUK'] )]\n",
    "\n",
    "# description\n",
    "df2 = df2.drop( columns='description', axis=1 )\n",
    "\n",
    "# map \n",
    "df2 = df2[~df2['country'].isin( ['European Community', 'Unspecified' ] ) ]\n",
    "\n",
    "# quantity\n",
    "df2_returns = df2.loc[df1['quantity'] < 0, :]\n",
    "df2_purchases = df2.loc[df1['quantity'] >= 0, :]"
   ]
  },
  {
   "cell_type": "markdown",
   "metadata": {
    "heading_collapsed": true
   },
   "source": [
    "# <font color='red'> 3.0. Feature Engineering </font>"
   ]
  },
  {
   "cell_type": "code",
   "execution_count": null,
   "metadata": {
    "ExecuteTime": {
     "end_time": "2022-05-06T20:47:06.616412Z",
     "start_time": "2022-05-06T20:47:06.616401Z"
    },
    "hidden": true
   },
   "outputs": [],
   "source": [
    "df3 = df2.copy()"
   ]
  },
  {
   "cell_type": "markdown",
   "metadata": {
    "heading_collapsed": true,
    "hidden": true
   },
   "source": [
    "## 3.1. Feature Creation"
   ]
  },
  {
   "cell_type": "code",
   "execution_count": null,
   "metadata": {
    "ExecuteTime": {
     "end_time": "2022-05-06T20:47:06.617456Z",
     "start_time": "2022-05-06T20:47:06.617445Z"
    },
    "hidden": true
   },
   "outputs": [],
   "source": [
    "# data reference\n",
    "df_ref = df3.drop( ['invoice_no', 'stock_code', 'quantity', 'invoice_date', 'unit_price', 'country'], axis=1 ).drop_duplicates( ignore_index=True )"
   ]
  },
  {
   "cell_type": "code",
   "execution_count": null,
   "metadata": {
    "ExecuteTime": {
     "end_time": "2022-05-06T20:47:06.618410Z",
     "start_time": "2022-05-06T20:47:06.618373Z"
    },
    "hidden": true
   },
   "outputs": [],
   "source": [
    "# Gross Revenue ( Faturamento ) quantity * price\n",
    "df2_purchases.loc[:, 'gross_revenue'] = df2_purchases.loc[:, 'quantity'] * df2_purchases.loc[:, 'unit_price']\n",
    "\n",
    "# Monetary\n",
    "df_monetary = df2_purchases.loc[:, ['customer_id', 'gross_revenue']].groupby( 'customer_id' ).sum().reset_index()\n",
    "df_ref = pd.merge( df_ref, df_monetary, on='customer_id', how='left' )\n",
    "df_ref.isna().sum()"
   ]
  },
  {
   "cell_type": "code",
   "execution_count": null,
   "metadata": {
    "ExecuteTime": {
     "end_time": "2022-05-06T20:47:06.619294Z",
     "start_time": "2022-05-06T20:47:06.619283Z"
    },
    "hidden": true
   },
   "outputs": [],
   "source": [
    "# Recency - Last day purchase\n",
    "df_recency = df2_purchases.loc[:, ['customer_id', 'invoice_date']].groupby( 'customer_id' ).max().reset_index()\n",
    "df_recency['recency_days'] = ( df2['invoice_date'].max() - df_recency['invoice_date'] ).dt.days\n",
    "df_recency = df_recency[['customer_id', 'recency_days']].copy()\n",
    "df_ref = pd.merge( df_ref, df_recency, on='customer_id', how='left' )\n",
    "df_ref.isna().sum()"
   ]
  },
  {
   "cell_type": "code",
   "execution_count": null,
   "metadata": {
    "ExecuteTime": {
     "end_time": "2022-05-06T20:47:06.620806Z",
     "start_time": "2022-05-06T20:47:06.620790Z"
    },
    "hidden": true
   },
   "outputs": [],
   "source": [
    "# Frequency\n",
    "df_freq = df2_purchases.loc[:, ['customer_id', 'invoice_no']].drop_duplicates().groupby( 'customer_id' ).count().reset_index()\n",
    "df_ref = pd.merge( df_ref, df_freq, on='customer_id', how='left' )\n",
    "df_ref.isna().sum()"
   ]
  },
  {
   "cell_type": "code",
   "execution_count": null,
   "metadata": {
    "ExecuteTime": {
     "end_time": "2022-05-06T20:47:06.621859Z",
     "start_time": "2022-05-06T20:47:06.621848Z"
    },
    "hidden": true
   },
   "outputs": [],
   "source": [
    "# Avg Ticket\n",
    "df_avg_ticket = df2_purchases.loc[:, ['customer_id', 'gross_revenue']].groupby( 'customer_id' ).mean().reset_index().rename( columns={'gross_revenue':'avg_ticket'} )\n",
    "df_ref = pd.merge( df_ref, df_avg_ticket, on='customer_id', how='left')\n",
    "df_ref.isna().sum()"
   ]
  },
  {
   "cell_type": "code",
   "execution_count": null,
   "metadata": {
    "ExecuteTime": {
     "end_time": "2022-05-06T20:47:06.622748Z",
     "start_time": "2022-05-06T20:47:06.622734Z"
    },
    "hidden": true
   },
   "outputs": [],
   "source": [
    "df_ref.head()"
   ]
  },
  {
   "cell_type": "markdown",
   "metadata": {
    "heading_collapsed": true
   },
   "source": [
    "# <font color='red'> 4.0. EDA ( Exploratory Data Analysis ) </font>"
   ]
  },
  {
   "cell_type": "code",
   "execution_count": null,
   "metadata": {
    "ExecuteTime": {
     "end_time": "2022-05-06T20:47:06.623815Z",
     "start_time": "2022-05-06T20:47:06.623804Z"
    },
    "hidden": true
   },
   "outputs": [],
   "source": [
    "df4 = df_ref.dropna()\n",
    "df4.isna().sum()"
   ]
  },
  {
   "cell_type": "markdown",
   "metadata": {
    "heading_collapsed": true
   },
   "source": [
    "# <font color='red'> 5.0. Data Preparation </font>"
   ]
  },
  {
   "cell_type": "code",
   "execution_count": null,
   "metadata": {
    "ExecuteTime": {
     "end_time": "2022-05-06T20:47:06.624875Z",
     "start_time": "2022-05-06T20:47:06.624864Z"
    },
    "hidden": true
   },
   "outputs": [],
   "source": [
    "df5 = df4.copy()"
   ]
  },
  {
   "cell_type": "code",
   "execution_count": null,
   "metadata": {
    "ExecuteTime": {
     "end_time": "2022-05-06T20:47:06.625909Z",
     "start_time": "2022-05-06T20:47:06.625892Z"
    },
    "hidden": true
   },
   "outputs": [],
   "source": [
    "## Standard Scalaer\n",
    "ss = pp.StandardScaler()\n",
    "\n",
    "df5['gross_revenue'] = ss.fit_transform( df5[['gross_revenue']] )\n",
    "df5['recency_days'] = ss.fit_transform( df5[['recency_days']] )\n",
    "df5['invoice_no'] = ss.fit_transform( df5[['invoice_no']] )\n",
    "df5['avg_ticket'] = ss.fit_transform( df5[['avg_ticket']] )"
   ]
  },
  {
   "cell_type": "code",
   "execution_count": null,
   "metadata": {
    "ExecuteTime": {
     "end_time": "2022-05-06T20:47:06.627214Z",
     "start_time": "2022-05-06T20:47:06.627196Z"
    },
    "hidden": true
   },
   "outputs": [],
   "source": [
    "df5.head()"
   ]
  },
  {
   "cell_type": "markdown",
   "metadata": {
    "heading_collapsed": true
   },
   "source": [
    "# <font color='red'> 6.0. Feature Selection </font>"
   ]
  },
  {
   "cell_type": "code",
   "execution_count": null,
   "metadata": {
    "ExecuteTime": {
     "end_time": "2022-05-06T20:47:06.628594Z",
     "start_time": "2022-05-06T20:47:06.628579Z"
    },
    "hidden": true
   },
   "outputs": [],
   "source": [
    "df6 = df5.copy()"
   ]
  },
  {
   "cell_type": "markdown",
   "metadata": {
    "heading_collapsed": true
   },
   "source": [
    "# <font color='red'> 7.0. Hyperparameter Fine-Tunning </font>"
   ]
  },
  {
   "cell_type": "code",
   "execution_count": null,
   "metadata": {
    "ExecuteTime": {
     "end_time": "2022-05-06T20:47:06.630282Z",
     "start_time": "2022-05-06T20:47:06.630265Z"
    },
    "hidden": true
   },
   "outputs": [],
   "source": [
    "X = df6.drop( columns=['customer_id'] )"
   ]
  },
  {
   "cell_type": "code",
   "execution_count": null,
   "metadata": {
    "ExecuteTime": {
     "end_time": "2022-05-06T20:47:06.631450Z",
     "start_time": "2022-05-06T20:47:06.631434Z"
    },
    "hidden": true
   },
   "outputs": [],
   "source": [
    "X.head()"
   ]
  },
  {
   "cell_type": "code",
   "execution_count": null,
   "metadata": {
    "ExecuteTime": {
     "end_time": "2022-05-06T20:47:06.632759Z",
     "start_time": "2022-05-06T20:47:06.632744Z"
    },
    "hidden": true
   },
   "outputs": [],
   "source": [
    "clusters = [2, 3, 4, 5, 6, 7]"
   ]
  },
  {
   "cell_type": "code",
   "execution_count": null,
   "metadata": {
    "ExecuteTime": {
     "end_time": "2022-05-06T20:47:06.633578Z",
     "start_time": "2022-05-06T20:47:06.633568Z"
    },
    "cell_style": "split",
    "hidden": true
   },
   "outputs": [],
   "source": [
    "kmeans = KElbowVisualizer( c.KMeans(), k=clusters, timings=False )\n",
    "kmeans.fit( X )\n",
    "kmeans.show()"
   ]
  },
  {
   "cell_type": "code",
   "execution_count": null,
   "metadata": {
    "ExecuteTime": {
     "end_time": "2022-05-06T20:47:06.634646Z",
     "start_time": "2022-05-06T20:47:06.634626Z"
    },
    "cell_style": "split",
    "hidden": true
   },
   "outputs": [],
   "source": [
    "kmeans = KElbowVisualizer( c.KMeans(), k=clusters, metric='silhouette', timings=False )\n",
    "kmeans.fit( X )\n",
    "kmeans.show()"
   ]
  },
  {
   "cell_type": "markdown",
   "metadata": {
    "hidden": true
   },
   "source": [
    "## 7.1. Silhouette Analysis"
   ]
  },
  {
   "cell_type": "code",
   "execution_count": null,
   "metadata": {
    "ExecuteTime": {
     "end_time": "2022-05-06T20:47:06.635591Z",
     "start_time": "2022-05-06T20:47:06.635581Z"
    },
    "hidden": true
   },
   "outputs": [],
   "source": [
    "fig, ax = plt.subplots( 3, 2, figsize=(25, 18) )\n",
    "\n",
    "for k in clusters:\n",
    "    km = c.KMeans( n_clusters=k, init='random', n_init=10, max_iter=100, random_state=42 )\n",
    "    q, mod = divmod( k, 2 )\n",
    "    \n",
    "    visualizer = SilhouetteVisualizer( km, colors='yellowbrick', ax=ax[q-1][mod] )\n",
    "    visualizer.fit( X )\n",
    "    visualizer.finalize()"
   ]
  },
  {
   "cell_type": "markdown",
   "metadata": {
    "heading_collapsed": true
   },
   "source": [
    "# <font color='red'> 8.0. Model Training </font>"
   ]
  },
  {
   "cell_type": "markdown",
   "metadata": {
    "heading_collapsed": true,
    "hidden": true
   },
   "source": [
    "## 8.1. K-Means"
   ]
  },
  {
   "cell_type": "code",
   "execution_count": null,
   "metadata": {
    "ExecuteTime": {
     "end_time": "2022-05-06T20:47:06.636718Z",
     "start_time": "2022-05-06T20:47:06.636707Z"
    },
    "hidden": true
   },
   "outputs": [],
   "source": [
    "# model definition\n",
    "k = 3\n",
    "kmeans = c.KMeans( init='random', n_clusters=k, n_init=10, max_iter=300 )\n",
    "\n",
    "# model training\n",
    "kmeans.fit( X )\n",
    "\n",
    "# clustering\n",
    "labels = kmeans.labels_"
   ]
  },
  {
   "cell_type": "markdown",
   "metadata": {
    "hidden": true
   },
   "source": [
    "### 8.2. Cluster Validation"
   ]
  },
  {
   "cell_type": "code",
   "execution_count": null,
   "metadata": {
    "ExecuteTime": {
     "end_time": "2022-05-06T20:47:06.637542Z",
     "start_time": "2022-05-06T20:47:06.637529Z"
    },
    "hidden": true
   },
   "outputs": [],
   "source": [
    "from sklearn import metrics as m"
   ]
  },
  {
   "cell_type": "code",
   "execution_count": null,
   "metadata": {
    "ExecuteTime": {
     "end_time": "2022-05-06T20:47:06.638609Z",
     "start_time": "2022-05-06T20:47:06.638597Z"
    },
    "hidden": true
   },
   "outputs": [],
   "source": [
    "## WSS ( Within-cluster sum of square)\n",
    "print( 'WSS value: {}'.format( kmeans.inertia_ ) )\n",
    "\n",
    "## SS ( Silhouette Score )\n",
    "print( 'SS value: {}'.format( m.silhouette_score( X, labels, metric='euclidean' ) ) )"
   ]
  },
  {
   "cell_type": "markdown",
   "metadata": {
    "heading_collapsed": true
   },
   "source": [
    "# <font color='red'> 9.0. Cluster Analysis </font>"
   ]
  },
  {
   "cell_type": "code",
   "execution_count": null,
   "metadata": {
    "ExecuteTime": {
     "end_time": "2022-05-06T20:47:06.639590Z",
     "start_time": "2022-05-06T20:47:06.639578Z"
    },
    "hidden": true
   },
   "outputs": [],
   "source": [
    "df9 = df6.copy()\n",
    "df9['cluster'] = labels\n",
    "df9.head()"
   ]
  },
  {
   "cell_type": "markdown",
   "metadata": {
    "heading_collapsed": true,
    "hidden": true
   },
   "source": [
    "## 9.1. Visualization Inspection"
   ]
  },
  {
   "cell_type": "code",
   "execution_count": null,
   "metadata": {
    "ExecuteTime": {
     "end_time": "2022-05-06T20:47:06.640774Z",
     "start_time": "2022-05-06T20:47:06.640760Z"
    },
    "hidden": true
   },
   "outputs": [],
   "source": [
    "visualizer = SilhouetteVisualizer( kmeans, colors='yellowbrick' )\n",
    "visualizer.fit( X )\n",
    "visualizer.finalize()"
   ]
  },
  {
   "cell_type": "markdown",
   "metadata": {
    "heading_collapsed": true,
    "hidden": true
   },
   "source": [
    "## 9.2. 2d plot"
   ]
  },
  {
   "cell_type": "code",
   "execution_count": null,
   "metadata": {
    "ExecuteTime": {
     "end_time": "2022-05-06T20:47:06.641535Z",
     "start_time": "2022-05-06T20:47:06.641525Z"
    },
    "hidden": true
   },
   "outputs": [],
   "source": [
    "#df_viz = df9.drop( columns='customer_id', axis=1 )\n",
    "#sns.pairplot( df_viz, hue='cluster' )"
   ]
  },
  {
   "cell_type": "markdown",
   "metadata": {
    "hidden": true
   },
   "source": [
    "## 9.3. UMAP\n"
   ]
  },
  {
   "cell_type": "code",
   "execution_count": null,
   "metadata": {
    "ExecuteTime": {
     "end_time": "2022-05-06T20:47:06.642604Z",
     "start_time": "2022-05-06T20:47:06.642587Z"
    },
    "hidden": true,
    "hide_input": false
   },
   "outputs": [],
   "source": [
    "reducer = umap.UMAP( n_neighbors=90, random_state=42 )\n",
    "embedding = reducer.fit_transform( X )\n",
    "\n",
    "# embedding\n",
    "df_viz['embedding_x'] = embedding[:, 0]\n",
    "df_viz['embedding_y'] = embedding[:, 1]\n",
    "\n",
    "# plot UMAP\n",
    "sns.scatterplot( x='embedding_x', y='embedding_y', \n",
    "                 hue='cluster', \n",
    "                 palette=sns.color_palette( 'hls', n_colors=len( df_viz['cluster'].unique() ) ),\n",
    "                 data=df_viz )"
   ]
  },
  {
   "cell_type": "markdown",
   "metadata": {
    "hidden": true
   },
   "source": [
    "## 9.2. Cluster Profile"
   ]
  },
  {
   "cell_type": "code",
   "execution_count": null,
   "metadata": {
    "ExecuteTime": {
     "end_time": "2022-05-06T20:47:06.643577Z",
     "start_time": "2022-05-06T20:47:06.643566Z"
    },
    "hidden": true
   },
   "outputs": [],
   "source": [
    "df9.head()"
   ]
  },
  {
   "cell_type": "code",
   "execution_count": null,
   "metadata": {
    "ExecuteTime": {
     "end_time": "2022-05-06T20:47:06.644798Z",
     "start_time": "2022-05-06T20:47:06.644787Z"
    },
    "hidden": true
   },
   "outputs": [],
   "source": [
    "# Number of customer\n",
    "df_cluster = df9[['customer_id', 'cluster']].groupby( 'cluster' ).count().reset_index()\n",
    "df_cluster['perc_customer'] = 100*( df_cluster['customer_id'] / df_cluster['customer_id'].sum() )\n",
    "\n",
    "# Avg Gross revenue\n",
    "df_avg_gross_revenue = df9[['gross_revenue', 'cluster']].groupby( 'cluster' ).mean().reset_index()\n",
    "df_cluster = pd.merge( df_cluster, df_avg_gross_revenue, how='inner', on='cluster' )\n",
    "\n",
    "# Avg recency days\n",
    "df_avg_recency_days = df9[['recency_days', 'cluster']].groupby( 'cluster' ).mean().reset_index()\n",
    "df_cluster = pd.merge( df_cluster, df_avg_recency_days, how='inner', on='cluster' )\n",
    "\n",
    "# Avg invoice_no\n",
    "df_invoice_no = df9[['invoice_no', 'cluster']].groupby( 'cluster' ).mean().reset_index()\n",
    "df_cluster = pd.merge( df_cluster, df_invoice_no, how='inner', on='cluster' )\n",
    "\n",
    "# Avg Ticket\n",
    "df_ticket = df9[['avg_ticket', 'cluster']].groupby( 'cluster' ).mean().reset_index()\n",
    "df_cluster = pd.merge( df_cluster, df_ticket, how='inner', on='cluster' )\n",
    "\n",
    "df_cluster"
   ]
  },
  {
   "cell_type": "markdown",
   "metadata": {
    "hidden": true
   },
   "source": [
    "### Cluster 01:  ( Candidato à Insider )\n",
    "    - Número de customers: 6 (0.14% do customers )\n",
    "    - Recência em média: 7 dias\n",
    "    - Compras em média: 89 compras\n",
    "    - Receita em média: $182.182,00 dólares\n",
    "        \n",
    "### Cluster 02: \n",
    "    - Número de customers: 31 (0.71 do customers )\n",
    "    - Recência em média: 14 dias\n",
    "    - Compras em média: 53 compras\n",
    "    - Receita em média: $40.543,52 dólares\n",
    "        \n",
    "### Cluster 03: \n",
    "    - Número de customers: 4.335 (99% do customers )\n",
    "    - Recência em média: 92 dias\n",
    "    - Compras em média: 5 compras\n",
    "    - Receita em média: $1.372,57 dólares"
   ]
  },
  {
   "cell_type": "markdown",
   "metadata": {},
   "source": [
    "# <font color='red'> 10.0. Deploy To Production </font>"
   ]
  }
 ],
 "metadata": {
  "kernelspec": {
   "display_name": "Python 3 (ipykernel)",
   "language": "python",
   "name": "python3"
  },
  "language_info": {
   "codemirror_mode": {
    "name": "ipython",
    "version": 3
   },
   "file_extension": ".py",
   "mimetype": "text/x-python",
   "name": "python",
   "nbconvert_exporter": "python",
   "pygments_lexer": "ipython3",
   "version": "3.9.12"
  }
 },
 "nbformat": 4,
 "nbformat_minor": 4
}
