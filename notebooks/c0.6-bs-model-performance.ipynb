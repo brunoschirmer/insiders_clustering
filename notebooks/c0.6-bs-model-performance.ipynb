{
 "cells": [
  {
   "cell_type": "markdown",
   "metadata": {
    "ExecuteTime": {
     "end_time": "2021-03-27T20:58:22.276780Z",
     "start_time": "2021-03-27T20:58:22.274533Z"
    }
   },
   "source": [
    "# PA005: High Value Customer Identification"
   ]
  },
  {
   "cell_type": "markdown",
   "metadata": {},
   "source": [
    "## <font color='red'> Ciclo 00 - Planejamento - Método IOT </font>"
   ]
  },
  {
   "cell_type": "markdown",
   "metadata": {
    "heading_collapsed": true
   },
   "source": [
    "## <font color='red'> Ciclo 01 - Métricas de Validação de Clusters </font>"
   ]
  },
  {
   "cell_type": "markdown",
   "metadata": {
    "hidden": true
   },
   "source": [
    "1. Feature Engineering\n",
    "    - Recência\n",
    "    - Frequência\n",
    "    - Monetização\n",
    "    \n",
    "    \n",
    "2. Métricas de validação de Clustering\n",
    "    - WSS ( Within-Cluster Sum of Square )  \n",
    "    - SS ( Silhouette Score )\n",
    "    \n",
    "    \n",
    "3. Cluster Analysis\n",
    "    - Plot 3D\n",
    "    - Cluster Profile"
   ]
  },
  {
   "cell_type": "markdown",
   "metadata": {
    "heading_collapsed": true
   },
   "source": [
    "## <font color='red'> Ciclo 02 - Análise de Silhouette </font>"
   ]
  },
  {
   "cell_type": "markdown",
   "metadata": {
    "hidden": true
   },
   "source": [
    "1. Feature Engineering\n",
    "    - Average Ticket\n",
    "    \n",
    "    \n",
    "2. Análise de Silhouette\n",
    "    - Silhouette Analysis  \n",
    "    \n",
    "    \n",
    "3. Cluster Visualization\n",
    "    - UMAP\n",
    "    \n",
    "    \n",
    "4. Cluster Análise de Perfil\n",
    "    - Descrição dos centróides dos cluster"
   ]
  },
  {
   "cell_type": "markdown",
   "metadata": {
    "heading_collapsed": true
   },
   "source": [
    "## <font color='red'> Ciclo 03 - Statistical Descriptive </font>"
   ]
  },
  {
   "cell_type": "markdown",
   "metadata": {
    "hidden": true
   },
   "source": [
    "1. Análise Descritiva\n",
    "    - Atributos numéricos\n",
    "    - Atributos categóricos\n",
    "    \n",
    "    \n",
    "2. Feature Engineering\n",
    "    - Average Recency\n",
    "    - Number of Returns\n",
    "    \n",
    "    \n",
    "2. Data preparation\n",
    "    - Standard Scaler"
   ]
  },
  {
   "cell_type": "markdown",
   "metadata": {},
   "source": [
    "# 0.0. Planejamento da Solução ( IOT )"
   ]
  },
  {
   "cell_type": "markdown",
   "metadata": {
    "heading_collapsed": true
   },
   "source": [
    "## Input - Entrada"
   ]
  },
  {
   "cell_type": "markdown",
   "metadata": {
    "heading_collapsed": true,
    "hidden": true
   },
   "source": [
    "### O problema de negócio"
   ]
  },
  {
   "cell_type": "markdown",
   "metadata": {
    "hidden": true
   },
   "source": [
    "1. Selecionar os mais valiosos clientes para formar o programa de fidelidade **\"INSIDERS\"**\n",
    "2. Conjunto de dados com as vendas de produtos durante 1 ano ( Nov 2015 to Dec 2017 )"
   ]
  },
  {
   "cell_type": "markdown",
   "metadata": {
    "heading_collapsed": true
   },
   "source": [
    "## Output - Saída"
   ]
  },
  {
   "cell_type": "markdown",
   "metadata": {
    "hidden": true
   },
   "source": [
    "1. A indicação de pessoas para fazer parte do programa de fidelidade **\"INSIDERS\"**.\n",
    "2. Relatório com as respostas para as seguintes perguntas:\n",
    "    - Quem são as pessoas elegíveis para participar do programa de Insiders ?\n",
    "    - Quantos clientes farão parte do grupo?\n",
    "    - Quais as principais características desses clientes ?\n",
    "    - Qual a porcentagem de contribuição do faturamento, vinda do Insiders ?\n",
    "    - Qual a expectativa de faturamento desse grupo para os próximos meses ?\n",
    "    - Quais as condições para uma pessoa ser elegível ao Insiders ?\n",
    "    - Quais as condições para uma pessoa ser removida do Insiders ?\n",
    "    - Qual a garantia que o programa Insiders é melhor que o restante da base ?\n",
    "    - Quais ações o time de marketing pode realizar para aumentar o faturamento?"
   ]
  },
  {
   "cell_type": "markdown",
   "metadata": {
    "heading_collapsed": true
   },
   "source": [
    "## Tasks - Processo"
   ]
  },
  {
   "cell_type": "markdown",
   "metadata": {
    "hidden": true
   },
   "source": [
    "1. **Quem são as pessoas elegíveis para participar do programa de Insiders ?**\n",
    "    - O que é ser elegível ? O que é um cliente \"valioso\" para a empresa ?\n",
    "        - Faturamento:\n",
    "            - Alto Ticket Médio\n",
    "            - Alto LTV\n",
    "            - Baixa Recência ou Alta Frequência ( tempo entre as compras )\n",
    "            - Alto Basket Size ( quantidade média de produtos comprados )\n",
    "            - Baixa probabilidade de Churn\n",
    "            - Previsão alta de LTV\n",
    "            - Alta propensão de compra\n",
    "\n",
    "        - Custo:\n",
    "            - Baixo número de devoluções\n",
    "\n",
    "        - Experiência:  \n",
    "            - Média alta de avaliações\n",
    "            \n",
    "            \n",
    "2. **Quantos clientes farão parte do grupo?**\n",
    "    - Número de clientes\n",
    "    - % em relação ao total de clients\n",
    "    \n",
    "    \n",
    "3. **Quais as principais características desses clientes ?**\n",
    "    - Escrever os principais atributos dos clientes\n",
    "        - Idade\n",
    "        - País\n",
    "        - Salário\n",
    "        \n",
    "    - Escrever os principais comportamentos de compra dos clients ( métricas de negócio )\n",
    "        - Vide acima\n",
    "    \n",
    "    \n",
    "4. **Qual a porcentagem de contribuição do faturamento, vinda do Insiders ?**\n",
    "    - Calcular o faturamento total da empresa durante o ano.\n",
    "    - Calcular o faturamento (%) apenas do cluster Insiders.\n",
    "    \n",
    "    \n",
    "5. **Qual a expectativa de faturamento desse grupo para os próximos meses ?**\n",
    "    - Cálculo do LTV do grupo Insiders\n",
    "    - Séries Temporais ( ARMA, ARIMA, HoltWinter, etc )\n",
    "    \n",
    "\n",
    "6. **Quais as condições para uma pessoa ser elegível ao Insiders ?**\n",
    "    - Qual o período de avaliação ?\n",
    "    - O \"desempenho\" do cliente está próximo da média do cluster Insiders. \n",
    "    \n",
    "    \n",
    "7. **Quais as condições para uma pessoa ser removida do Insiders ?**\n",
    "    - O \"desempenho\" do cliente não está mais próximo da média do cluster Insiders. \n",
    "    \n",
    "    \n",
    "8. **Qual a garantia que o programa Insiders é melhor que o restante da base ?**\n",
    "    - Teste de Hipóteses\n",
    "    - Teste A/B\n",
    "    \n",
    "    \n",
    "9. **Quais ações o time de marketing pode realizar para aumentar o faturamento?**\n",
    "    - Descontos\n",
    "    - Preferências de escolha\n",
    "    - Produtos exclusivos"
   ]
  },
  {
   "cell_type": "markdown",
   "metadata": {},
   "source": [
    "# 0.0. Imports"
   ]
  },
  {
   "cell_type": "code",
   "execution_count": 1,
   "metadata": {
    "ExecuteTime": {
     "end_time": "2022-05-06T20:47:20.848393Z",
     "start_time": "2022-05-06T20:47:12.229178Z"
    }
   },
   "outputs": [],
   "source": [
    "import numpy   as np\n",
    "import pandas  as pd\n",
    "import seaborn as sns\n",
    "\n",
    "import umap.umap_ as umap\n",
    "\n",
    "from IPython.display import HTML\n",
    "from matplotlib import pyplot as plt\n",
    "\n",
    "from pandas_profiling import ProfileReport\n",
    "\n",
    "from sklearn import cluster       as c\n",
    "from sklearn import metrics       as m\n",
    "from sklearn import ensemble      as en\n",
    "from sklearn import preprocessing as pp\n",
    "from sklearn import decomposition as dd\n",
    "from sklearn import manifold      as mn\n",
    "from sklearn import mixture       as mx\n",
    "\n",
    "from plotly import express as px\n",
    "\n",
    "from yellowbrick.cluster import KElbowVisualizer, SilhouetteVisualizer"
   ]
  },
  {
   "cell_type": "markdown",
   "metadata": {},
   "source": [
    "## 0.1. Helper Functions"
   ]
  },
  {
   "cell_type": "code",
   "execution_count": 2,
   "metadata": {
    "ExecuteTime": {
     "end_time": "2022-05-06T20:47:20.865975Z",
     "start_time": "2022-05-06T20:47:20.850208Z"
    }
   },
   "outputs": [
    {
     "name": "stdout",
     "output_type": "stream",
     "text": [
      "Populating the interactive namespace from numpy and matplotlib\n"
     ]
    },
    {
     "data": {
      "text/html": [
       "<style>.container { width:100% !important; }</style>"
      ],
      "text/plain": [
       "<IPython.core.display.HTML object>"
      ]
     },
     "metadata": {},
     "output_type": "display_data"
    }
   ],
   "source": [
    "def jupyter_settings():\n",
    "    %matplotlib inline\n",
    "    %pylab inline\n",
    "    \n",
    "    plt.style.use( 'ggplot')\n",
    "    plt.rcParams['figure.figsize'] = [24, 9]\n",
    "    plt.rcParams['font.size'] = 24\n",
    "    \n",
    "    display( HTML( '<style>.container { width:100% !important; }</style>') )\n",
    "    pd.options.display.max_columns = None\n",
    "    pd.options.display.max_rows = None\n",
    "    pd.set_option( 'display.expand_frame_repr', False )\n",
    "    \n",
    "    sns.set()\n",
    "    \n",
    "jupyter_settings()"
   ]
  },
  {
   "cell_type": "markdown",
   "metadata": {},
   "source": [
    "## 0.2. Load dataset"
   ]
  },
  {
   "cell_type": "code",
   "execution_count": 3,
   "metadata": {
    "ExecuteTime": {
     "end_time": "2022-05-06T20:47:21.234990Z",
     "start_time": "2022-05-06T20:47:20.870649Z"
    }
   },
   "outputs": [
    {
     "ename": "UnicodeDecodeError",
     "evalue": "'utf-8' codec can't decode byte 0xa3 in position 79546: invalid start byte",
     "output_type": "error",
     "traceback": [
      "\u001b[0;31m---------------------------------------------------------------------------\u001b[0m",
      "\u001b[0;31mUnicodeDecodeError\u001b[0m                        Traceback (most recent call last)",
      "\u001b[0;32m/var/folders/04/fz9wjmrx1fvgdw9ycmx8w0cr0000gn/T/ipykernel_43713/2622805319.py\u001b[0m in \u001b[0;36m<module>\u001b[0;34m\u001b[0m\n\u001b[1;32m      1\u001b[0m \u001b[0;31m# load data\u001b[0m\u001b[0;34m\u001b[0m\u001b[0;34m\u001b[0m\u001b[0m\n\u001b[0;32m----> 2\u001b[0;31m \u001b[0mdf_raw\u001b[0m \u001b[0;34m=\u001b[0m \u001b[0mpd\u001b[0m\u001b[0;34m.\u001b[0m\u001b[0mread_csv\u001b[0m\u001b[0;34m(\u001b[0m \u001b[0;34m'../data/raw/Ecommerce.csv'\u001b[0m \u001b[0;34m)\u001b[0m\u001b[0;34m\u001b[0m\u001b[0;34m\u001b[0m\u001b[0m\n\u001b[0m\u001b[1;32m      3\u001b[0m \u001b[0;34m\u001b[0m\u001b[0m\n\u001b[1;32m      4\u001b[0m \u001b[0;31m# drop extra column\u001b[0m\u001b[0;34m\u001b[0m\u001b[0;34m\u001b[0m\u001b[0m\n\u001b[1;32m      5\u001b[0m \u001b[0mdf_raw\u001b[0m \u001b[0;34m=\u001b[0m \u001b[0mdf_raw\u001b[0m\u001b[0;34m.\u001b[0m\u001b[0mdrop\u001b[0m\u001b[0;34m(\u001b[0m \u001b[0mcolumns\u001b[0m\u001b[0;34m=\u001b[0m\u001b[0;34m[\u001b[0m\u001b[0;34m'Unnamed: 8'\u001b[0m\u001b[0;34m]\u001b[0m\u001b[0;34m,\u001b[0m \u001b[0maxis\u001b[0m\u001b[0;34m=\u001b[0m\u001b[0;36m1\u001b[0m \u001b[0;34m)\u001b[0m\u001b[0;34m\u001b[0m\u001b[0;34m\u001b[0m\u001b[0m\n",
      "\u001b[0;32m/usr/local/lib/python3.9/site-packages/pandas/util/_decorators.py\u001b[0m in \u001b[0;36mwrapper\u001b[0;34m(*args, **kwargs)\u001b[0m\n\u001b[1;32m    309\u001b[0m                     \u001b[0mstacklevel\u001b[0m\u001b[0;34m=\u001b[0m\u001b[0mstacklevel\u001b[0m\u001b[0;34m,\u001b[0m\u001b[0;34m\u001b[0m\u001b[0;34m\u001b[0m\u001b[0m\n\u001b[1;32m    310\u001b[0m                 )\n\u001b[0;32m--> 311\u001b[0;31m             \u001b[0;32mreturn\u001b[0m \u001b[0mfunc\u001b[0m\u001b[0;34m(\u001b[0m\u001b[0;34m*\u001b[0m\u001b[0margs\u001b[0m\u001b[0;34m,\u001b[0m \u001b[0;34m**\u001b[0m\u001b[0mkwargs\u001b[0m\u001b[0;34m)\u001b[0m\u001b[0;34m\u001b[0m\u001b[0;34m\u001b[0m\u001b[0m\n\u001b[0m\u001b[1;32m    312\u001b[0m \u001b[0;34m\u001b[0m\u001b[0m\n\u001b[1;32m    313\u001b[0m         \u001b[0;32mreturn\u001b[0m \u001b[0mwrapper\u001b[0m\u001b[0;34m\u001b[0m\u001b[0;34m\u001b[0m\u001b[0m\n",
      "\u001b[0;32m/usr/local/lib/python3.9/site-packages/pandas/io/parsers/readers.py\u001b[0m in \u001b[0;36mread_csv\u001b[0;34m(filepath_or_buffer, sep, delimiter, header, names, index_col, usecols, squeeze, prefix, mangle_dupe_cols, dtype, engine, converters, true_values, false_values, skipinitialspace, skiprows, skipfooter, nrows, na_values, keep_default_na, na_filter, verbose, skip_blank_lines, parse_dates, infer_datetime_format, keep_date_col, date_parser, dayfirst, cache_dates, iterator, chunksize, compression, thousands, decimal, lineterminator, quotechar, quoting, doublequote, escapechar, comment, encoding, encoding_errors, dialect, error_bad_lines, warn_bad_lines, on_bad_lines, delim_whitespace, low_memory, memory_map, float_precision, storage_options)\u001b[0m\n\u001b[1;32m    584\u001b[0m     \u001b[0mkwds\u001b[0m\u001b[0;34m.\u001b[0m\u001b[0mupdate\u001b[0m\u001b[0;34m(\u001b[0m\u001b[0mkwds_defaults\u001b[0m\u001b[0;34m)\u001b[0m\u001b[0;34m\u001b[0m\u001b[0;34m\u001b[0m\u001b[0m\n\u001b[1;32m    585\u001b[0m \u001b[0;34m\u001b[0m\u001b[0m\n\u001b[0;32m--> 586\u001b[0;31m     \u001b[0;32mreturn\u001b[0m \u001b[0m_read\u001b[0m\u001b[0;34m(\u001b[0m\u001b[0mfilepath_or_buffer\u001b[0m\u001b[0;34m,\u001b[0m \u001b[0mkwds\u001b[0m\u001b[0;34m)\u001b[0m\u001b[0;34m\u001b[0m\u001b[0;34m\u001b[0m\u001b[0m\n\u001b[0m\u001b[1;32m    587\u001b[0m \u001b[0;34m\u001b[0m\u001b[0m\n\u001b[1;32m    588\u001b[0m \u001b[0;34m\u001b[0m\u001b[0m\n",
      "\u001b[0;32m/usr/local/lib/python3.9/site-packages/pandas/io/parsers/readers.py\u001b[0m in \u001b[0;36m_read\u001b[0;34m(filepath_or_buffer, kwds)\u001b[0m\n\u001b[1;32m    486\u001b[0m \u001b[0;34m\u001b[0m\u001b[0m\n\u001b[1;32m    487\u001b[0m     \u001b[0;32mwith\u001b[0m \u001b[0mparser\u001b[0m\u001b[0;34m:\u001b[0m\u001b[0;34m\u001b[0m\u001b[0;34m\u001b[0m\u001b[0m\n\u001b[0;32m--> 488\u001b[0;31m         \u001b[0;32mreturn\u001b[0m \u001b[0mparser\u001b[0m\u001b[0;34m.\u001b[0m\u001b[0mread\u001b[0m\u001b[0;34m(\u001b[0m\u001b[0mnrows\u001b[0m\u001b[0;34m)\u001b[0m\u001b[0;34m\u001b[0m\u001b[0;34m\u001b[0m\u001b[0m\n\u001b[0m\u001b[1;32m    489\u001b[0m \u001b[0;34m\u001b[0m\u001b[0m\n\u001b[1;32m    490\u001b[0m \u001b[0;34m\u001b[0m\u001b[0m\n",
      "\u001b[0;32m/usr/local/lib/python3.9/site-packages/pandas/io/parsers/readers.py\u001b[0m in \u001b[0;36mread\u001b[0;34m(self, nrows)\u001b[0m\n\u001b[1;32m   1045\u001b[0m     \u001b[0;32mdef\u001b[0m \u001b[0mread\u001b[0m\u001b[0;34m(\u001b[0m\u001b[0mself\u001b[0m\u001b[0;34m,\u001b[0m \u001b[0mnrows\u001b[0m\u001b[0;34m=\u001b[0m\u001b[0;32mNone\u001b[0m\u001b[0;34m)\u001b[0m\u001b[0;34m:\u001b[0m\u001b[0;34m\u001b[0m\u001b[0;34m\u001b[0m\u001b[0m\n\u001b[1;32m   1046\u001b[0m         \u001b[0mnrows\u001b[0m \u001b[0;34m=\u001b[0m \u001b[0mvalidate_integer\u001b[0m\u001b[0;34m(\u001b[0m\u001b[0;34m\"nrows\"\u001b[0m\u001b[0;34m,\u001b[0m \u001b[0mnrows\u001b[0m\u001b[0;34m)\u001b[0m\u001b[0;34m\u001b[0m\u001b[0;34m\u001b[0m\u001b[0m\n\u001b[0;32m-> 1047\u001b[0;31m         \u001b[0mindex\u001b[0m\u001b[0;34m,\u001b[0m \u001b[0mcolumns\u001b[0m\u001b[0;34m,\u001b[0m \u001b[0mcol_dict\u001b[0m \u001b[0;34m=\u001b[0m \u001b[0mself\u001b[0m\u001b[0;34m.\u001b[0m\u001b[0m_engine\u001b[0m\u001b[0;34m.\u001b[0m\u001b[0mread\u001b[0m\u001b[0;34m(\u001b[0m\u001b[0mnrows\u001b[0m\u001b[0;34m)\u001b[0m\u001b[0;34m\u001b[0m\u001b[0;34m\u001b[0m\u001b[0m\n\u001b[0m\u001b[1;32m   1048\u001b[0m \u001b[0;34m\u001b[0m\u001b[0m\n\u001b[1;32m   1049\u001b[0m         \u001b[0;32mif\u001b[0m \u001b[0mindex\u001b[0m \u001b[0;32mis\u001b[0m \u001b[0;32mNone\u001b[0m\u001b[0;34m:\u001b[0m\u001b[0;34m\u001b[0m\u001b[0;34m\u001b[0m\u001b[0m\n",
      "\u001b[0;32m/usr/local/lib/python3.9/site-packages/pandas/io/parsers/c_parser_wrapper.py\u001b[0m in \u001b[0;36mread\u001b[0;34m(self, nrows)\u001b[0m\n\u001b[1;32m    221\u001b[0m         \u001b[0;32mtry\u001b[0m\u001b[0;34m:\u001b[0m\u001b[0;34m\u001b[0m\u001b[0;34m\u001b[0m\u001b[0m\n\u001b[1;32m    222\u001b[0m             \u001b[0;32mif\u001b[0m \u001b[0mself\u001b[0m\u001b[0;34m.\u001b[0m\u001b[0mlow_memory\u001b[0m\u001b[0;34m:\u001b[0m\u001b[0;34m\u001b[0m\u001b[0;34m\u001b[0m\u001b[0m\n\u001b[0;32m--> 223\u001b[0;31m                 \u001b[0mchunks\u001b[0m \u001b[0;34m=\u001b[0m \u001b[0mself\u001b[0m\u001b[0;34m.\u001b[0m\u001b[0m_reader\u001b[0m\u001b[0;34m.\u001b[0m\u001b[0mread_low_memory\u001b[0m\u001b[0;34m(\u001b[0m\u001b[0mnrows\u001b[0m\u001b[0;34m)\u001b[0m\u001b[0;34m\u001b[0m\u001b[0;34m\u001b[0m\u001b[0m\n\u001b[0m\u001b[1;32m    224\u001b[0m                 \u001b[0;31m# destructive to chunks\u001b[0m\u001b[0;34m\u001b[0m\u001b[0;34m\u001b[0m\u001b[0m\n\u001b[1;32m    225\u001b[0m                 \u001b[0mdata\u001b[0m \u001b[0;34m=\u001b[0m \u001b[0m_concatenate_chunks\u001b[0m\u001b[0;34m(\u001b[0m\u001b[0mchunks\u001b[0m\u001b[0;34m)\u001b[0m\u001b[0;34m\u001b[0m\u001b[0;34m\u001b[0m\u001b[0m\n",
      "\u001b[0;32m/usr/local/lib/python3.9/site-packages/pandas/_libs/parsers.pyx\u001b[0m in \u001b[0;36mpandas._libs.parsers.TextReader.read_low_memory\u001b[0;34m()\u001b[0m\n",
      "\u001b[0;32m/usr/local/lib/python3.9/site-packages/pandas/_libs/parsers.pyx\u001b[0m in \u001b[0;36mpandas._libs.parsers.TextReader._read_rows\u001b[0;34m()\u001b[0m\n",
      "\u001b[0;32m/usr/local/lib/python3.9/site-packages/pandas/_libs/parsers.pyx\u001b[0m in \u001b[0;36mpandas._libs.parsers.TextReader._tokenize_rows\u001b[0;34m()\u001b[0m\n",
      "\u001b[0;32m/usr/local/lib/python3.9/site-packages/pandas/_libs/parsers.pyx\u001b[0m in \u001b[0;36mpandas._libs.parsers.raise_parser_error\u001b[0;34m()\u001b[0m\n",
      "\u001b[0;31mUnicodeDecodeError\u001b[0m: 'utf-8' codec can't decode byte 0xa3 in position 79546: invalid start byte"
     ]
    }
   ],
   "source": [
    "# load data\n",
    "df_raw = pd.read_csv( '../data/raw/Ecommerce.csv' )\n",
    "\n",
    "# drop extra column\n",
    "df_raw = df_raw.drop( columns=['Unnamed: 8'], axis=1 )"
   ]
  },
  {
   "cell_type": "markdown",
   "metadata": {},
   "source": [
    "# <font color='red'> 1.0. Descrição dos dados </font>"
   ]
  },
  {
   "cell_type": "code",
   "execution_count": null,
   "metadata": {
    "ExecuteTime": {
     "end_time": "2022-05-06T20:47:21.242807Z",
     "start_time": "2022-05-06T20:47:21.242796Z"
    }
   },
   "outputs": [],
   "source": [
    "df1 = df_raw.copy()"
   ]
  },
  {
   "cell_type": "markdown",
   "metadata": {},
   "source": [
    "## 1.1. Rename columuns"
   ]
  },
  {
   "cell_type": "code",
   "execution_count": null,
   "metadata": {
    "ExecuteTime": {
     "end_time": "2022-05-06T20:47:21.244306Z",
     "start_time": "2022-05-06T20:47:21.244287Z"
    }
   },
   "outputs": [],
   "source": [
    "cols_new = ['invoice_no', 'stock_code', 'description', 'quantity', 'invoice_date', 'unit_price', 'customer_id', 'country']\n",
    "df1.columns = cols_new"
   ]
  },
  {
   "cell_type": "markdown",
   "metadata": {},
   "source": [
    "## 1.2. Data dimensions"
   ]
  },
  {
   "cell_type": "code",
   "execution_count": null,
   "metadata": {
    "ExecuteTime": {
     "end_time": "2022-05-06T20:47:21.245661Z",
     "start_time": "2022-05-06T20:47:21.245647Z"
    }
   },
   "outputs": [],
   "source": [
    "print( 'Number of rows: {}'.format( df1.shape[0] ) )\n",
    "print( 'Number of cols: {}'.format( df1.shape[1] ) )"
   ]
  },
  {
   "cell_type": "markdown",
   "metadata": {},
   "source": [
    "## 1.3. Data types"
   ]
  },
  {
   "cell_type": "code",
   "execution_count": null,
   "metadata": {
    "ExecuteTime": {
     "end_time": "2022-05-06T20:47:21.247062Z",
     "start_time": "2022-05-06T20:47:21.247043Z"
    }
   },
   "outputs": [],
   "source": [
    "df1.dtypes"
   ]
  },
  {
   "cell_type": "markdown",
   "metadata": {},
   "source": [
    "## 1.4. Check NA"
   ]
  },
  {
   "cell_type": "code",
   "execution_count": null,
   "metadata": {
    "ExecuteTime": {
     "end_time": "2022-05-06T20:47:21.247975Z",
     "start_time": "2022-05-06T20:47:21.247963Z"
    }
   },
   "outputs": [],
   "source": [
    "df1.isna().sum()"
   ]
  },
  {
   "cell_type": "markdown",
   "metadata": {},
   "source": [
    "## 1.5. Replace NA"
   ]
  },
  {
   "cell_type": "code",
   "execution_count": null,
   "metadata": {
    "ExecuteTime": {
     "end_time": "2022-05-06T20:47:21.249787Z",
     "start_time": "2022-05-06T20:47:21.249773Z"
    }
   },
   "outputs": [],
   "source": [
    "# Precisamos resolver o problema do NA"
   ]
  },
  {
   "cell_type": "code",
   "execution_count": null,
   "metadata": {
    "ExecuteTime": {
     "end_time": "2022-05-06T20:47:21.250892Z",
     "start_time": "2022-05-06T20:47:21.250861Z"
    }
   },
   "outputs": [],
   "source": [
    "df_missing = df1.loc[df1['customer_id'].isna(), :]\n",
    "df_not_missing = df1.loc[~df1['customer_id'].isna(), :]"
   ]
  },
  {
   "cell_type": "code",
   "execution_count": null,
   "metadata": {
    "ExecuteTime": {
     "end_time": "2022-05-06T20:47:21.253179Z",
     "start_time": "2022-05-06T20:47:21.253164Z"
    }
   },
   "outputs": [],
   "source": [
    "# create reference\n",
    "df_backup = pd.DataFrame( df_missing['invoice_no'].drop_duplicates() )\n",
    "df_backup['customer_id'] = np.arange( 19000, 19000+len( df_backup ), 1)\n",
    "\n",
    "# merge original with reference dataframe\n",
    "df1 = pd.merge( df1, df_backup, on='invoice_no', how='left' )\n",
    "\n",
    "# coalesce \n",
    "df1['customer_id'] = df1['customer_id_x'].combine_first( df1['customer_id_y'] )\n",
    "\n",
    "# drop extra columns\n",
    "df1 = df1.drop( columns=['customer_id_x', 'customer_id_y'], axis=1 )"
   ]
  },
  {
   "cell_type": "code",
   "execution_count": null,
   "metadata": {
    "ExecuteTime": {
     "end_time": "2022-05-06T20:47:21.254675Z",
     "start_time": "2022-05-06T20:47:21.254661Z"
    }
   },
   "outputs": [],
   "source": [
    "df1.isna().sum()"
   ]
  },
  {
   "cell_type": "markdown",
   "metadata": {},
   "source": [
    "## 1.6. Change dtypes"
   ]
  },
  {
   "cell_type": "code",
   "execution_count": null,
   "metadata": {
    "ExecuteTime": {
     "end_time": "2022-05-06T20:47:21.256244Z",
     "start_time": "2022-05-06T20:47:21.256231Z"
    }
   },
   "outputs": [],
   "source": [
    "# invoice date\n",
    "df1['invoice_date'] = pd.to_datetime( df1['invoice_date'], format='%d-%b-%y' )\n",
    "\n",
    "# customer id\n",
    "df1['customer_id'] = df1['customer_id'].astype( int )\n",
    "df1.head()"
   ]
  },
  {
   "cell_type": "code",
   "execution_count": null,
   "metadata": {
    "ExecuteTime": {
     "end_time": "2022-05-06T20:47:21.257870Z",
     "start_time": "2022-05-06T20:47:21.257856Z"
    }
   },
   "outputs": [],
   "source": [
    "df1.dtypes"
   ]
  },
  {
   "cell_type": "markdown",
   "metadata": {},
   "source": [
    "## 1.7. Descriptive Statistics"
   ]
  },
  {
   "cell_type": "code",
   "execution_count": null,
   "metadata": {
    "ExecuteTime": {
     "end_time": "2022-05-06T20:47:21.259533Z",
     "start_time": "2022-05-06T20:47:21.259519Z"
    }
   },
   "outputs": [],
   "source": [
    "num_attributes = df1.select_dtypes( include=['int64', 'float64'] )\n",
    "cat_attributes = df1.select_dtypes( exclude=['int64', 'float64', 'datetime64[ns]'] )"
   ]
  },
  {
   "cell_type": "markdown",
   "metadata": {},
   "source": [
    "### 1.7.1. Numerical Attributs"
   ]
  },
  {
   "cell_type": "code",
   "execution_count": null,
   "metadata": {
    "ExecuteTime": {
     "end_time": "2022-05-06T20:47:21.260707Z",
     "start_time": "2022-05-06T20:47:21.260690Z"
    }
   },
   "outputs": [],
   "source": [
    "# central tendency - mean, median\n",
    "ct1 = pd.DataFrame( num_attributes.apply( np.mean ) ).T\n",
    "ct2 = pd.DataFrame( num_attributes.apply( np.median ) ).T\n",
    "             \n",
    "# dispersion - desvio padrão, minimo, maximo, range, skew, kurtosis\n",
    "d1 = pd.DataFrame( num_attributes.apply( np.std ) ).T\n",
    "d2 = pd.DataFrame( num_attributes.apply( np.min ) ).T\n",
    "d3 = pd.DataFrame( num_attributes.apply( np.max ) ).T\n",
    "d4 = pd.DataFrame( num_attributes.apply( lambda x: x.max() - x.min() ) ).T\n",
    "d5 = pd.DataFrame( num_attributes.apply( lambda x: x.skew() ) ).T\n",
    "d6 = pd.DataFrame( num_attributes.apply( lambda x: x.kurtosis() ) ).T\n",
    "\n",
    "# concatenate\n",
    "m = pd.concat( [d2, d3, d4, ct1, ct2, d1, d5, d6] ).T.reset_index()\n",
    "m.columns = ['attributes', 'min', 'max', 'range', 'mean', 'mediana', 'std', 'skew', 'kurtosis']\n",
    "m"
   ]
  },
  {
   "cell_type": "markdown",
   "metadata": {},
   "source": [
    "### <font color='red'> 1.7.1.1. Numerical Attributs - Investigating </font>"
   ]
  },
  {
   "cell_type": "markdown",
   "metadata": {
    "ExecuteTime": {
     "end_time": "2021-04-27T23:54:34.339055Z",
     "start_time": "2021-04-27T23:54:34.335055Z"
    }
   },
   "source": [
    "1. Quantity negativa ( pode ser devolução )\n",
    "\n",
    "\n",
    "2. Preço unitário igual a zero ( pode ser promoção? )"
   ]
  },
  {
   "cell_type": "markdown",
   "metadata": {},
   "source": [
    "### 1.7.2. Categorical Attributs"
   ]
  },
  {
   "cell_type": "markdown",
   "metadata": {},
   "source": [
    "#### Invoice No"
   ]
  },
  {
   "cell_type": "code",
   "execution_count": null,
   "metadata": {
    "ExecuteTime": {
     "end_time": "2022-05-06T20:47:21.262428Z",
     "start_time": "2022-05-06T20:47:21.262398Z"
    }
   },
   "outputs": [],
   "source": [
    "# problema: Temos invoice com letras e numeros\n",
    "#df1['invoice_no'].astype( int )\n",
    "\n",
    "# identficacao: \n",
    "df_letter_invoices = df1.loc[df1['invoice_no'].apply( lambda x: bool( re.search( '[^0-9]+', x ) ) ), :]\n",
    "df_letter_invoices.head()\n",
    "\n",
    "print( 'Total number of invoices: {}'.format( len( df_letter_invoices ) ) )\n",
    "print( 'Total number of negative quantity: {}'.format( len( df_letter_invoices[ df_letter_invoices['quantity'] < 0 ] ) ) )"
   ]
  },
  {
   "cell_type": "markdown",
   "metadata": {},
   "source": [
    "#### Stock Code"
   ]
  },
  {
   "cell_type": "code",
   "execution_count": null,
   "metadata": {
    "ExecuteTime": {
     "end_time": "2022-05-06T20:47:21.263960Z",
     "start_time": "2022-05-06T20:47:21.263948Z"
    }
   },
   "outputs": [],
   "source": [
    "# check stock codes only characters\n",
    "df1.loc[df1['stock_code'].apply( lambda x: bool( re.search( '^[a-zA-Z]+$', x ) ) ), 'stock_code'].unique()\n",
    "\n",
    "# Acão:\n",
    "## 1. Remove stock_code in ['POST', 'D', 'M', 'PADS', 'DOT', 'CRUK']"
   ]
  },
  {
   "cell_type": "markdown",
   "metadata": {},
   "source": [
    "#### Description"
   ]
  },
  {
   "cell_type": "code",
   "execution_count": null,
   "metadata": {
    "ExecuteTime": {
     "end_time": "2022-05-06T20:47:21.265207Z",
     "start_time": "2022-05-06T20:47:21.265172Z"
    }
   },
   "outputs": [],
   "source": [
    "df1.head()\n",
    "\n",
    "# Acão: Delete description"
   ]
  },
  {
   "cell_type": "markdown",
   "metadata": {},
   "source": [
    "#### Country"
   ]
  },
  {
   "cell_type": "code",
   "execution_count": null,
   "metadata": {
    "ExecuteTime": {
     "end_time": "2022-05-06T20:47:21.266213Z",
     "start_time": "2022-05-06T20:47:21.266202Z"
    }
   },
   "outputs": [],
   "source": [
    "df1['country'].unique()"
   ]
  },
  {
   "cell_type": "code",
   "execution_count": null,
   "metadata": {
    "ExecuteTime": {
     "end_time": "2022-05-06T20:47:21.268232Z",
     "start_time": "2022-05-06T20:47:21.268184Z"
    }
   },
   "outputs": [],
   "source": [
    "df1['country'].value_counts( normalize=True ).head()"
   ]
  },
  {
   "cell_type": "code",
   "execution_count": null,
   "metadata": {
    "ExecuteTime": {
     "end_time": "2022-05-06T20:47:21.269691Z",
     "start_time": "2022-05-06T20:47:21.269676Z"
    }
   },
   "outputs": [],
   "source": [
    "df1[['customer_id', 'country']].drop_duplicates().groupby( 'country' ).count().reset_index().sort_values( 'customer_id', ascending=False).head()"
   ]
  },
  {
   "cell_type": "markdown",
   "metadata": {},
   "source": [
    "# <font color='red'> 2.0. Filtragem de Variáveis </font>"
   ]
  },
  {
   "cell_type": "code",
   "execution_count": null,
   "metadata": {
    "ExecuteTime": {
     "end_time": "2022-05-06T20:47:21.271011Z",
     "start_time": "2022-05-06T20:47:21.270995Z"
    }
   },
   "outputs": [],
   "source": [
    "df2 = df1.copy()"
   ]
  },
  {
   "cell_type": "code",
   "execution_count": null,
   "metadata": {
    "ExecuteTime": {
     "end_time": "2022-05-06T20:47:21.272413Z",
     "start_time": "2022-05-06T20:47:21.272399Z"
    }
   },
   "outputs": [],
   "source": [
    "df2.dtypes"
   ]
  },
  {
   "cell_type": "code",
   "execution_count": null,
   "metadata": {
    "ExecuteTime": {
     "end_time": "2022-05-06T20:47:21.273856Z",
     "start_time": "2022-05-06T20:47:21.273841Z"
    }
   },
   "outputs": [],
   "source": [
    "# === Numerical attributes ====\n",
    "df2 = df2.loc[df2['unit_price'] >= 0.04, :]\n",
    "\n",
    "# === Categorical attributes ====\n",
    "df2 = df2[~df2['stock_code'].isin( ['POST', 'D', 'DOT', 'M', 'S', 'AMAZONFEE', 'm', 'DCGSSBOY', 'DCGSSGIRL', 'PADS', 'B', 'CRUK'] ) ]\n",
    "\n",
    "# description\n",
    "df2 = df2.drop( columns='description', axis=1 )\n",
    "\n",
    "# map -  \n",
    "df2 = df2[~df2['country'].isin( ['European Community', 'Unspecified' ] ) ]\n",
    "\n",
    "# bad users\n",
    "df2 = df2[~df2['customer_id'].isin( [16446] )]\n",
    "\n",
    "# quantity\n",
    "df2_returns = df2.loc[df1['quantity'] < 0, :]\n",
    "df2_purchases = df2.loc[df1['quantity'] >= 0, :]"
   ]
  },
  {
   "cell_type": "markdown",
   "metadata": {},
   "source": [
    "# <font color='red'> 3.0. Feature Engineering </font>"
   ]
  },
  {
   "cell_type": "code",
   "execution_count": null,
   "metadata": {
    "ExecuteTime": {
     "end_time": "2022-05-06T20:47:21.275269Z",
     "start_time": "2022-05-06T20:47:21.275255Z"
    }
   },
   "outputs": [],
   "source": [
    "# Feature Ideas:\n",
    "## Moving Average - 7d, 14d, 30d\n",
    "## Quantidade de Compras por mês, antes do dia 15 e depois do dia 15\n",
    "## Average Financial\n",
    "## Basket Size * Price - Quantidade de preços por cesta\n",
    "\n",
    "########\n",
    "###\n",
    "###\n",
    "#######"
   ]
  },
  {
   "cell_type": "code",
   "execution_count": null,
   "metadata": {
    "ExecuteTime": {
     "end_time": "2022-05-06T20:47:21.276552Z",
     "start_time": "2022-05-06T20:47:21.276537Z"
    }
   },
   "outputs": [],
   "source": [
    "df3 = df2.copy()"
   ]
  },
  {
   "cell_type": "markdown",
   "metadata": {},
   "source": [
    "## 3.1. Feature Creation"
   ]
  },
  {
   "cell_type": "code",
   "execution_count": null,
   "metadata": {
    "ExecuteTime": {
     "end_time": "2022-05-06T20:47:21.278194Z",
     "start_time": "2022-05-06T20:47:21.278181Z"
    }
   },
   "outputs": [],
   "source": [
    "# data reference\n",
    "df_ref = df3.drop( ['invoice_no', 'stock_code', 'quantity', 'invoice_date', 'unit_price', 'country'], axis=1 ).drop_duplicates( ignore_index=True )"
   ]
  },
  {
   "cell_type": "markdown",
   "metadata": {},
   "source": [
    "### 3.1.1. Gross Revenue"
   ]
  },
  {
   "cell_type": "code",
   "execution_count": null,
   "metadata": {
    "ExecuteTime": {
     "end_time": "2022-05-06T20:47:21.279562Z",
     "start_time": "2022-05-06T20:47:21.279532Z"
    }
   },
   "outputs": [],
   "source": [
    "# Gross Revenue ( Faturamento ) quantity * price\n",
    "df2_purchases.loc[:, 'gross_revenue'] = df2_purchases.loc[:, 'quantity'] * df2_purchases.loc[:, 'unit_price']\n",
    "\n",
    "# Monetary\n",
    "df_monetary = df2_purchases.loc[:, ['customer_id', 'gross_revenue']].groupby( 'customer_id' ).sum().reset_index()\n",
    "df_ref = pd.merge( df_ref, df_monetary, on='customer_id', how='left' )\n",
    "df_ref.isna().sum()"
   ]
  },
  {
   "cell_type": "markdown",
   "metadata": {},
   "source": [
    "### 3.1.2. Recency - Day from last purchase"
   ]
  },
  {
   "cell_type": "code",
   "execution_count": null,
   "metadata": {
    "ExecuteTime": {
     "end_time": "2022-05-06T20:47:21.281206Z",
     "start_time": "2022-05-06T20:47:21.281192Z"
    }
   },
   "outputs": [],
   "source": [
    "# Recency - Last day purchase\n",
    "df_recency = df2_purchases.loc[:, ['customer_id', 'invoice_date']].groupby( 'customer_id' ).max().reset_index()\n",
    "df_recency['recency_days'] = ( df2['invoice_date'].max() - df_recency['invoice_date'] ).dt.days\n",
    "df_recency = df_recency[['customer_id', 'recency_days']].copy()\n",
    "df_ref = pd.merge( df_ref, df_recency, on='customer_id', how='left' )\n",
    "df_ref.isna().sum()"
   ]
  },
  {
   "cell_type": "markdown",
   "metadata": {},
   "source": [
    "### 3.1.3. Quantity of purchased "
   ]
  },
  {
   "cell_type": "code",
   "execution_count": null,
   "metadata": {
    "ExecuteTime": {
     "end_time": "2022-05-06T20:47:21.282387Z",
     "start_time": "2022-05-06T20:47:21.282373Z"
    }
   },
   "outputs": [],
   "source": [
    "# Numero de produtos\n",
    "df_freq = (df2_purchases.loc[:, ['customer_id', 'invoice_no']].drop_duplicates()\n",
    "                                                             .groupby( 'customer_id' )\n",
    "                                                             .count()\n",
    "                                                             .reset_index()\n",
    "                                                             .rename( columns={'invoice_no': 'qtde_invoices'}) )\n",
    "df_ref = pd.merge( df_ref, df_freq, on='customer_id', how='left' )\n",
    "df_ref.isna().sum()"
   ]
  },
  {
   "cell_type": "markdown",
   "metadata": {},
   "source": [
    "### 3.1.4. Quantity total of items purchased "
   ]
  },
  {
   "cell_type": "code",
   "execution_count": null,
   "metadata": {
    "ExecuteTime": {
     "end_time": "2022-05-06T20:47:21.283199Z",
     "start_time": "2022-05-06T20:47:21.283189Z"
    }
   },
   "outputs": [],
   "source": [
    "# Numero de produtos\n",
    "df_freq = (df2_purchases.loc[:, ['customer_id', 'quantity']].groupby( 'customer_id' ).sum()\n",
    "                                                           .reset_index()\n",
    "                                                           .rename( columns={'quantity': 'qtde_items'} ) )\n",
    "df_ref = pd.merge( df_ref, df_freq, on='customer_id', how='left' )\n",
    "df_ref.isna().sum()"
   ]
  },
  {
   "cell_type": "markdown",
   "metadata": {},
   "source": [
    "### 3.1.4. Quantity of products purchased "
   ]
  },
  {
   "cell_type": "code",
   "execution_count": null,
   "metadata": {
    "ExecuteTime": {
     "end_time": "2022-05-06T20:47:21.284003Z",
     "start_time": "2022-05-06T20:47:21.283990Z"
    }
   },
   "outputs": [],
   "source": [
    "# Numero de produtos\n",
    "df_freq = (df2_purchases.loc[:, ['customer_id', 'stock_code']].groupby( 'customer_id' ).count()\n",
    "                                                           .reset_index()\n",
    "                                                           .rename( columns={'stock_code': 'qtde_products'} ) )\n",
    "df_ref = pd.merge( df_ref, df_freq, on='customer_id', how='left' )\n",
    "df_ref.isna().sum()"
   ]
  },
  {
   "cell_type": "markdown",
   "metadata": {},
   "source": [
    "### 3.1.5. Average Ticket Value "
   ]
  },
  {
   "cell_type": "code",
   "execution_count": null,
   "metadata": {
    "ExecuteTime": {
     "end_time": "2022-05-06T20:47:21.285023Z",
     "start_time": "2022-05-06T20:47:21.285003Z"
    }
   },
   "outputs": [],
   "source": [
    "# Avg Ticket\n",
    "df_avg_ticket = df2_purchases.loc[:, ['customer_id', 'gross_revenue']].groupby( 'customer_id' ).mean().reset_index().rename( columns={'gross_revenue':'avg_ticket'} )\n",
    "df_ref = pd.merge( df_ref, df_avg_ticket, on='customer_id', how='left')\n",
    "df_ref.isna().sum()"
   ]
  },
  {
   "cell_type": "markdown",
   "metadata": {},
   "source": [
    "### 3.1.6. Average Recency Days "
   ]
  },
  {
   "cell_type": "code",
   "execution_count": null,
   "metadata": {
    "ExecuteTime": {
     "end_time": "2022-05-06T20:47:21.286142Z",
     "start_time": "2022-05-06T20:47:21.286131Z"
    }
   },
   "outputs": [],
   "source": [
    "# Average recency days\n",
    "df_aux = df2[['customer_id', 'invoice_date']].drop_duplicates().sort_values( ['customer_id', 'invoice_date'], ascending=['False', 'False'] )\n",
    "df_aux['next_customer_id'] = df_aux['customer_id'].shift() # next customer\n",
    "df_aux['previous_date'] = df_aux['invoice_date'].shift() # next invoince date\n",
    "\n",
    "df_aux['avg_recency_days'] = df_aux.apply( lambda x: ( x['invoice_date'] - x['previous_date'] ).days if x['customer_id'] == x['next_customer_id'] else np.nan, axis=1 )\n",
    "\n",
    "df_aux = df_aux.drop( ['invoice_date', 'next_customer_id', 'previous_date'], axis=1 ).dropna()\n",
    "\n",
    "# average recency \n",
    "df_avg_recency_days = df_aux.groupby( 'customer_id' ).mean().reset_index()\n",
    "\n",
    "# merge\n",
    "df_ref = pd.merge( df_ref, df_avg_recency_days, on='customer_id', how='left' )\n",
    "df_ref.isna().sum()"
   ]
  },
  {
   "cell_type": "markdown",
   "metadata": {},
   "source": [
    "### 3.1.7. Frequency Purchase "
   ]
  },
  {
   "cell_type": "code",
   "execution_count": null,
   "metadata": {
    "ExecuteTime": {
     "end_time": "2022-05-06T20:47:21.287302Z",
     "start_time": "2022-05-06T20:47:21.287280Z"
    }
   },
   "outputs": [],
   "source": [
    "df_aux = ( df2_purchases[['customer_id', 'invoice_no', 'invoice_date']].drop_duplicates()\n",
    "                                                             .groupby( 'customer_id')\n",
    "                                                             .agg( max_ = ( 'invoice_date', 'max' ), \n",
    "                                                                   min_ = ( 'invoice_date', 'min' ),\n",
    "                                                                   days_= ( 'invoice_date', lambda x: ( ( x.max() - x.min() ).days ) + 1 ),\n",
    "                                                                   buy_ = ( 'invoice_no', 'count' ) ) ).reset_index()\n",
    "# Frequency\n",
    "df_aux['frequency'] = df_aux[['buy_', 'days_']].apply( lambda x: x['buy_'] / x['days_'] if  x['days_'] != 0 else 0, axis=1 )\n",
    "\n",
    "# Merge\n",
    "df_ref = pd.merge( df_ref, df_aux[['customer_id', 'frequency']], on='customer_id', how='left' )\n",
    "\n",
    "df_ref.isna().sum()"
   ]
  },
  {
   "cell_type": "markdown",
   "metadata": {},
   "source": [
    "### 3.1.8. Number of Returns "
   ]
  },
  {
   "cell_type": "code",
   "execution_count": null,
   "metadata": {
    "ExecuteTime": {
     "end_time": "2022-05-06T20:47:21.288762Z",
     "start_time": "2022-05-06T20:47:21.288747Z"
    }
   },
   "outputs": [],
   "source": [
    "# Number of Returns\n",
    "df_returns = df2_returns[['customer_id', 'quantity']].groupby( 'customer_id' ).sum().reset_index().rename( columns={'quantity':'qtde_returns'} )\n",
    "df_returns['qtde_returns'] = df_returns['qtde_returns'] * -1\n",
    "\n",
    "df_ref = pd.merge( df_ref, df_returns, how='left', on='customer_id' )\n",
    "df_ref.loc[df_ref['qtde_returns'].isna(), 'qtde_returns'] = 0\n",
    "\n",
    "df_ref.isna().sum()"
   ]
  },
  {
   "cell_type": "markdown",
   "metadata": {},
   "source": [
    "### 3.1.9. Basket Size - Quantidade de Items por Cesta ( Quantity )\n",
    "\n",
    "- Invoice No = Compra = purchase\n",
    "- Stock Code = Produto = Product\n",
    "- Quantity = Item = Item"
   ]
  },
  {
   "cell_type": "code",
   "execution_count": null,
   "metadata": {
    "ExecuteTime": {
     "end_time": "2022-05-06T20:47:21.290220Z",
     "start_time": "2022-05-06T20:47:21.290207Z"
    }
   },
   "outputs": [],
   "source": [
    "df_aux = ( df2_purchases.loc[:, ['customer_id', 'invoice_no', 'quantity']].groupby( 'customer_id' )\n",
    "                                                                            .agg( n_purchase=( 'invoice_no', 'nunique'),\n",
    "                                                                                  n_products=( 'quantity', 'sum' ) )\n",
    "                                                                            .reset_index() )\n",
    "\n",
    "# calculation\n",
    "df_aux['avg_basket_size'] = df_aux['n_products'] / df_aux['n_purchase']\n",
    "\n",
    "# merge\n",
    "df_ref = pd.merge( df_ref, df_aux[['customer_id', 'avg_basket_size']], how='left', on='customer_id' )\n",
    "df_ref.isna().sum()"
   ]
  },
  {
   "cell_type": "markdown",
   "metadata": {},
   "source": [
    "### 3.2.0. Unique Basket Size - Quantidade de produtos distintos por compra "
   ]
  },
  {
   "cell_type": "code",
   "execution_count": null,
   "metadata": {
    "ExecuteTime": {
     "end_time": "2022-05-06T20:47:21.291638Z",
     "start_time": "2022-05-06T20:47:21.291622Z"
    }
   },
   "outputs": [],
   "source": [
    "# Trazer uma explicação mais clara sobre como calcular essa features"
   ]
  },
  {
   "cell_type": "code",
   "execution_count": null,
   "metadata": {
    "ExecuteTime": {
     "end_time": "2022-05-06T20:47:21.292590Z",
     "start_time": "2022-05-06T20:47:21.292574Z"
    }
   },
   "outputs": [],
   "source": [
    "df_aux = ( df2_purchases.loc[:, ['customer_id', 'invoice_no', 'stock_code']].groupby( 'customer_id' )\n",
    "                                                                            .agg( n_purchase=( 'invoice_no', 'nunique'),\n",
    "                                                                                   n_products=( 'stock_code', 'nunique' ) )\n",
    "                                                                            .reset_index() )\n",
    "\n",
    "# calculation\n",
    "df_aux['avg_unique_basket_size'] = df_aux['n_products'] / df_aux['n_purchase']\n",
    "\n",
    "# merge\n",
    "df_ref = pd.merge( df_ref, df_aux[['customer_id', 'avg_unique_basket_size']], how='left', on='customer_id' )\n",
    "df_ref.isna().sum()"
   ]
  },
  {
   "cell_type": "code",
   "execution_count": null,
   "metadata": {
    "ExecuteTime": {
     "end_time": "2022-05-06T20:47:21.294116Z",
     "start_time": "2022-05-06T20:47:21.294104Z"
    }
   },
   "outputs": [],
   "source": [
    "df_ref.head()"
   ]
  },
  {
   "cell_type": "markdown",
   "metadata": {},
   "source": [
    "# <font color='red'> 4.0. EDA ( Exploratory Data Analysis ) </font>"
   ]
  },
  {
   "cell_type": "code",
   "execution_count": null,
   "metadata": {
    "ExecuteTime": {
     "end_time": "2022-05-06T20:47:21.295300Z",
     "start_time": "2022-05-06T20:47:21.295286Z"
    }
   },
   "outputs": [],
   "source": [
    "df4 = df_ref.dropna()\n",
    "df4.isna().sum()"
   ]
  },
  {
   "cell_type": "markdown",
   "metadata": {},
   "source": [
    "## 4.1. Univariate Analysis"
   ]
  },
  {
   "cell_type": "markdown",
   "metadata": {},
   "source": [
    "**Metricas para olharmos**\n",
    "1. Clusters Coesos - Separados\n",
    "2. Métricas\n",
    "    - Min, Máximo, Range ( Dispersão )\n",
    "    - Média e Mediana\n",
    "    - Desvio Padrão e Variância.\n",
    "    - Coeficiente de Variação ( CV )\n",
    "    - Distribuição"
   ]
  },
  {
   "cell_type": "markdown",
   "metadata": {},
   "source": [
    "**Investigar/Remover**\n",
    "\n",
    "1. Gross Revenue - ok"
   ]
  },
  {
   "cell_type": "code",
   "execution_count": null,
   "metadata": {
    "ExecuteTime": {
     "end_time": "2022-05-06T20:47:21.296262Z",
     "start_time": "2022-05-06T20:47:21.296251Z"
    }
   },
   "outputs": [],
   "source": [
    "#profile = ProfileReport( df4 )\n",
    "#profile.to_file( 'output_v3.html' )"
   ]
  },
  {
   "cell_type": "markdown",
   "metadata": {},
   "source": [
    "### 4.1.1. Gross Revenue"
   ]
  },
  {
   "cell_type": "code",
   "execution_count": null,
   "metadata": {
    "ExecuteTime": {
     "end_time": "2022-05-06T20:47:21.297393Z",
     "start_time": "2022-05-06T20:47:21.297382Z"
    }
   },
   "outputs": [],
   "source": [
    "df4.sort_values( 'gross_revenue', ascending=False ).head()"
   ]
  },
  {
   "cell_type": "code",
   "execution_count": null,
   "metadata": {
    "ExecuteTime": {
     "end_time": "2022-05-06T20:47:21.298098Z",
     "start_time": "2022-05-06T20:47:21.298085Z"
    }
   },
   "outputs": [],
   "source": [
    "df3[df3['customer_id'] == 14646].head()"
   ]
  },
  {
   "cell_type": "markdown",
   "metadata": {},
   "source": [
    "### 4.1.2. Qtde Items"
   ]
  },
  {
   "cell_type": "code",
   "execution_count": null,
   "metadata": {
    "ExecuteTime": {
     "end_time": "2022-05-06T20:47:21.299105Z",
     "start_time": "2022-05-06T20:47:21.299094Z"
    }
   },
   "outputs": [],
   "source": [
    "df4[df4['qtde_items'] == 196844]"
   ]
  },
  {
   "cell_type": "markdown",
   "metadata": {},
   "source": [
    "### 4.1.3. Qtde Products"
   ]
  },
  {
   "cell_type": "code",
   "execution_count": null,
   "metadata": {
    "ExecuteTime": {
     "end_time": "2022-05-06T20:47:21.300076Z",
     "start_time": "2022-05-06T20:47:21.300065Z"
    }
   },
   "outputs": [],
   "source": [
    "#df4[df4['qtde_products'] == 7838]\n",
    "df3[df3['customer_id'] == 17841].head()"
   ]
  },
  {
   "cell_type": "markdown",
   "metadata": {},
   "source": [
    "### 4.1.3. Avg Ticket"
   ]
  },
  {
   "cell_type": "code",
   "execution_count": null,
   "metadata": {
    "ExecuteTime": {
     "end_time": "2022-05-06T20:47:21.301136Z",
     "start_time": "2022-05-06T20:47:21.301122Z"
    }
   },
   "outputs": [],
   "source": [
    "#df4[df4['avg_ticket'] == 56157.5]\n",
    "df3[df3['customer_id'] == 16446]"
   ]
  },
  {
   "cell_type": "markdown",
   "metadata": {},
   "source": [
    "### 4.1.4. Frequency"
   ]
  },
  {
   "cell_type": "code",
   "execution_count": null,
   "metadata": {
    "ExecuteTime": {
     "end_time": "2022-05-06T20:47:21.302122Z",
     "start_time": "2022-05-06T20:47:21.302112Z"
    }
   },
   "outputs": [],
   "source": [
    "#df4[df4['frequency'] == 17]\n",
    "df3[df3['customer_id'] == 17850]"
   ]
  },
  {
   "cell_type": "markdown",
   "metadata": {},
   "source": [
    "### 4.1.5. Average Basket Size"
   ]
  },
  {
   "cell_type": "code",
   "execution_count": null,
   "metadata": {
    "ExecuteTime": {
     "end_time": "2022-05-06T20:47:21.302973Z",
     "start_time": "2022-05-06T20:47:21.302962Z"
    }
   },
   "outputs": [],
   "source": [
    "df4[df4['avg_basket_size'] == 40498.5]"
   ]
  },
  {
   "cell_type": "markdown",
   "metadata": {},
   "source": [
    "## 4.2. Bivariate Analysis"
   ]
  },
  {
   "cell_type": "code",
   "execution_count": null,
   "metadata": {
    "ExecuteTime": {
     "end_time": "2022-05-06T20:47:21.304036Z",
     "start_time": "2022-05-06T20:47:21.304023Z"
    }
   },
   "outputs": [],
   "source": [
    "cols = ['customer_id']\n",
    "df42 = df4.drop( cols, axis=1 )"
   ]
  },
  {
   "cell_type": "code",
   "execution_count": null,
   "metadata": {
    "ExecuteTime": {
     "end_time": "2022-05-06T20:47:21.304942Z",
     "start_time": "2022-05-06T20:47:21.304931Z"
    },
    "scrolled": false
   },
   "outputs": [],
   "source": [
    "plt.figure( figsize=(25, 12) )\n",
    "sns.pairplot( df42 )"
   ]
  },
  {
   "cell_type": "markdown",
   "metadata": {},
   "source": [
    "**Notes**\n",
    "1. Frequency has low variance\n",
    "2. Avg Ticket has low variance"
   ]
  },
  {
   "cell_type": "markdown",
   "metadata": {},
   "source": [
    "## 4.3. Estudo do Espaço"
   ]
  },
  {
   "cell_type": "code",
   "execution_count": null,
   "metadata": {
    "ExecuteTime": {
     "end_time": "2022-05-06T20:47:21.306008Z",
     "start_time": "2022-05-06T20:47:21.305997Z"
    }
   },
   "outputs": [],
   "source": [
    "df43 = df4.drop( columns=['customer_id'], axis=1 ).copy()"
   ]
  },
  {
   "cell_type": "code",
   "execution_count": null,
   "metadata": {
    "ExecuteTime": {
     "end_time": "2022-05-06T20:47:21.306865Z",
     "start_time": "2022-05-06T20:47:21.306854Z"
    }
   },
   "outputs": [],
   "source": [
    "mm = pp.MinMaxScaler()\n",
    "# \n",
    "\n",
    "df43['gross_revenue'] = mm.fit_transform( df43[['gross_revenue']] )\n",
    "df43['recency_days']           = mm.fit_transform( df43[['recency_days']] )\n",
    "df43['qtde_invoices']          = mm.fit_transform( df43[['qtde_invoices']])\n",
    "df43['qtde_items']             = mm.fit_transform( df43[['qtde_items']])\n",
    "df43['qtde_products']          = mm.fit_transform( df43[['qtde_products']])\n",
    "df43['avg_ticket']             = mm.fit_transform( df43[['avg_ticket']])\n",
    "df43['avg_recency_days']       = mm.fit_transform( df43[['avg_recency_days']])\n",
    "df43['frequency']              = mm.fit_transform( df43[['frequency']])\n",
    "df43['qtde_returns']           = mm.fit_transform( df43[['qtde_returns']])\n",
    "df43['avg_basket_size']        = mm.fit_transform( df43[['avg_basket_size']])\n",
    "df43['avg_unique_basket_size'] = mm.fit_transform( df43[['avg_unique_basket_size']] )\n",
    "\n",
    "\n",
    "X = df43.copy()"
   ]
  },
  {
   "cell_type": "code",
   "execution_count": null,
   "metadata": {
    "ExecuteTime": {
     "end_time": "2022-05-06T20:47:21.307883Z",
     "start_time": "2022-05-06T20:47:21.307871Z"
    }
   },
   "outputs": [],
   "source": [
    "X.shape"
   ]
  },
  {
   "cell_type": "markdown",
   "metadata": {},
   "source": [
    "### 4.3.1. PCA"
   ]
  },
  {
   "cell_type": "code",
   "execution_count": null,
   "metadata": {
    "ExecuteTime": {
     "end_time": "2022-05-06T20:47:21.308781Z",
     "start_time": "2022-05-06T20:47:21.308769Z"
    }
   },
   "outputs": [],
   "source": [
    "pca = dd.PCA( n_components=X.shape[1] )\n",
    "\n",
    "principal_components = pca.fit_transform( X )\n",
    "\n",
    "# plot explained variable\n",
    "features = range( pca.n_components_ )\n",
    "\n",
    "plt.bar( features, pca.explained_variance_ratio_, color='black' )\n",
    "\n",
    "# pca component\n",
    "df_pca = pd.DataFrame( principal_components )"
   ]
  },
  {
   "cell_type": "code",
   "execution_count": null,
   "metadata": {
    "ExecuteTime": {
     "end_time": "2022-05-06T20:47:21.309696Z",
     "start_time": "2022-05-06T20:47:21.309685Z"
    }
   },
   "outputs": [],
   "source": [
    "sns.scatterplot( x=0, y=1, data=df_pca )"
   ]
  },
  {
   "cell_type": "markdown",
   "metadata": {},
   "source": [
    "### 4.3.2. UMAP"
   ]
  },
  {
   "cell_type": "code",
   "execution_count": null,
   "metadata": {
    "ExecuteTime": {
     "end_time": "2022-05-06T20:47:21.310804Z",
     "start_time": "2022-05-06T20:47:21.310792Z"
    }
   },
   "outputs": [],
   "source": [
    "reducer = umap.UMAP( random_state=42 )\n",
    "embedding = reducer.fit_transform( X )\n",
    "\n",
    "# embedding\n",
    "df_pca['embedding_x'] = embedding[:, 0]\n",
    "df_pca['embedding_y'] = embedding[:, 1]\n",
    "\n",
    "# plot UMAP\n",
    "sns.scatterplot( x='embedding_x', \n",
    "                 y='embedding_y', \n",
    "                 data=df_pca )"
   ]
  },
  {
   "cell_type": "markdown",
   "metadata": {},
   "source": [
    "### 4.3.2. t-SNE"
   ]
  },
  {
   "cell_type": "code",
   "execution_count": null,
   "metadata": {
    "ExecuteTime": {
     "end_time": "2022-05-06T20:47:21.311606Z",
     "start_time": "2022-05-06T20:47:21.311596Z"
    }
   },
   "outputs": [],
   "source": [
    "reducer = mn.TSNE( n_components=2, n_jobs=-1, random_state=42 )\n",
    "embedding = reducer.fit_transform( X )\n",
    "\n",
    "# embedding\n",
    "df_pca['embedding_x'] = embedding[:, 0]\n",
    "df_pca['embedding_y'] = embedding[:, 1]\n",
    "\n",
    "# plot UMAP\n",
    "sns.scatterplot( x='embedding_x', \n",
    "                 y='embedding_y', \n",
    "                 data=df_pca )"
   ]
  },
  {
   "cell_type": "markdown",
   "metadata": {},
   "source": [
    "### 4.3.3. Tree-Based Embedding"
   ]
  },
  {
   "cell_type": "code",
   "execution_count": null,
   "metadata": {
    "ExecuteTime": {
     "end_time": "2022-05-06T20:47:21.312469Z",
     "start_time": "2022-05-06T20:47:21.312457Z"
    }
   },
   "outputs": [],
   "source": [
    "# training dataset\n",
    "X = df4.drop( columns=['customer_id', 'gross_revenue'], axis=1 )\n",
    "y = df4['gross_revenue']\n",
    "\n",
    "# model definition\n",
    "rf_model = en.RandomForestRegressor( n_estimators=100, random_state=42 )\n",
    "\n",
    "# model training\n",
    "rf_model.fit( X, y )\n",
    "\n",
    "# Leaf \n",
    "\n",
    "# dataframe Leaf"
   ]
  },
  {
   "cell_type": "code",
   "execution_count": null,
   "metadata": {
    "ExecuteTime": {
     "end_time": "2022-05-06T20:47:21.313314Z",
     "start_time": "2022-05-06T20:47:21.313303Z"
    }
   },
   "outputs": [],
   "source": [
    "df_leaf = pd.DataFrame( rf_model.apply( X ) )"
   ]
  },
  {
   "cell_type": "code",
   "execution_count": null,
   "metadata": {
    "ExecuteTime": {
     "end_time": "2022-05-06T20:47:21.314212Z",
     "start_time": "2022-05-06T20:47:21.314200Z"
    }
   },
   "outputs": [],
   "source": [
    "# Reduzer dimensionality\n",
    "reducer = umap.UMAP( random_state=42 )\n",
    "embedding = reducer.fit_transform( df_leaf )\n",
    "\n",
    "# embedding\n",
    "df_tree = pd.DataFrame()\n",
    "df_tree['embedding_x'] = embedding[:, 0]\n",
    "df_tree['embedding_y'] = embedding[:, 1]\n",
    "\n",
    "# plot UMAP\n",
    "sns.scatterplot( x='embedding_x', \n",
    "                 y='embedding_y', \n",
    "                 data=df_tree )"
   ]
  },
  {
   "cell_type": "markdown",
   "metadata": {},
   "source": [
    "# <font color='red'> 5.0. Data Preparation </font>"
   ]
  },
  {
   "cell_type": "code",
   "execution_count": null,
   "metadata": {
    "ExecuteTime": {
     "end_time": "2022-05-06T20:47:21.315000Z",
     "start_time": "2022-05-06T20:47:21.314990Z"
    }
   },
   "outputs": [],
   "source": [
    "#Padronização/Normalizção ( Standardization ) -> Premissa de que os dados vieram de um distribuição normal\n",
    "#Rescala      ( Rescale )         -> Não Premissa de que os dados vieram de um distribuição normal"
   ]
  },
  {
   "cell_type": "markdown",
   "metadata": {
    "ExecuteTime": {
     "end_time": "2021-07-13T23:43:09.857864Z",
     "start_time": "2021-07-13T23:43:09.853764Z"
    }
   },
   "source": [
    "**Regra do Coração**\n",
    "1. Distribuiçåo Normal e não possui Outlier -> Standard Scaler - Media e desvio padrao\n",
    "2. Distribuiçåo Normal e possuí Outlier -> Robust Scaler - Quartis\n",
    "3. Não distribuição normal -> Min Max Scaler"
   ]
  },
  {
   "cell_type": "code",
   "execution_count": null,
   "metadata": {
    "ExecuteTime": {
     "end_time": "2022-05-06T20:47:21.315851Z",
     "start_time": "2022-05-06T20:47:21.315840Z"
    }
   },
   "outputs": [],
   "source": [
    "#**Testes de Normalidade**\n",
    "#QQ Plot  - Quantile Quantile Plot ( Quatile teorica x Quantile real )\n",
    "#KS Teste - Kolgomorov Smirnoff ( Teste de Hipótese ) Se p-value > 0.5 -> Distribuição Normal, p-value < 0.5 -> Não distribuição Normal\n",
    "#\n",
    "#**Detecção Outlier** \n",
    "#Box Plot -> Pontos são identificados como Outliers\n",
    "#IRQ * 2.5 -> Acima desse valor ( Outlier )\n",
    "#\n",
    "#Z-Score > 3  -> Outilers\n",
    "#Z-Score < -3 -> Outliers"
   ]
  },
  {
   "cell_type": "code",
   "execution_count": null,
   "metadata": {
    "ExecuteTime": {
     "end_time": "2022-05-06T20:47:21.316560Z",
     "start_time": "2022-05-06T20:47:21.316549Z"
    }
   },
   "outputs": [],
   "source": [
    "#df5 = df4.copy()\n",
    "df5 = df_tree.copy()"
   ]
  },
  {
   "cell_type": "code",
   "execution_count": null,
   "metadata": {
    "ExecuteTime": {
     "end_time": "2022-05-06T20:47:21.317545Z",
     "start_time": "2022-05-06T20:47:21.317529Z"
    }
   },
   "outputs": [],
   "source": [
    "### Standard Scalaer\n",
    "#ss = pp.StandardScaler()\n",
    "#rs = pp.RobustScaler()\n",
    "#        \n",
    "#df5['gross_revenue'] = mm_gross_revenue.fit_transform( df5[['gross_revenue']] )\n",
    "#\n",
    "#df5['recency_days'] = mm.fit_transform( df5[['recency_days']] )\n",
    "#\n",
    "##df5['qtde_invoices'] = mm.fit_transform( df5[['qtde_invoices']] )\n",
    "#\n",
    "##df5['qtde_items'] = mm.fit_transform( df5[['qtde_items']] )\n",
    "#\n",
    "#df5['qtde_products'] = mm.fit_transform( df5[['qtde_products']] )\n",
    "#\n",
    "##df5['avg_ticket'] = mm.fit_transform( df5[['avg_ticket']] )\n",
    "#\n",
    "##df5['avg_recency_days'] = mm.fit_transform( df5[['avg_recency_days']] )\n",
    "#\n",
    "#df5['frequency'] = mm.fit_transform( df5[['frequency']] )\n",
    "#\n",
    "#df5['qtde_returns'] = mm.fit_transform( df5[['qtde_returns']] )\n",
    "#\n",
    "##df5['avg_basket_size'] = mm.fit_transform( df5[['avg_basket_size']] )\n",
    "#\n",
    "##df5['avg_unique_basket_size'] = mm.fit_transform( df5[['avg_unique_basket_size']] )"
   ]
  },
  {
   "cell_type": "markdown",
   "metadata": {},
   "source": [
    "# <font color='red'> 6.0. Feature Selection </font>"
   ]
  },
  {
   "cell_type": "code",
   "execution_count": null,
   "metadata": {
    "ExecuteTime": {
     "end_time": "2022-05-06T20:47:21.318542Z",
     "start_time": "2022-05-06T20:47:21.318531Z"
    }
   },
   "outputs": [],
   "source": [
    "#cols_selected = ['customer_id', 'gross_revenue', 'recency_days', 'qtde_products', 'frequency', 'qtde_returns']"
   ]
  },
  {
   "cell_type": "code",
   "execution_count": null,
   "metadata": {
    "ExecuteTime": {
     "end_time": "2022-05-06T20:47:21.319776Z",
     "start_time": "2022-05-06T20:47:21.319765Z"
    }
   },
   "outputs": [],
   "source": [
    "#df6 = df5[ cols_selected ].copy()\n",
    "df6 = df_tree.copy()"
   ]
  },
  {
   "cell_type": "markdown",
   "metadata": {},
   "source": [
    "# <font color='red'> 7.0. Hyperparameter Fine-Tunning </font>"
   ]
  },
  {
   "cell_type": "code",
   "execution_count": null,
   "metadata": {
    "ExecuteTime": {
     "end_time": "2022-05-06T20:47:21.320646Z",
     "start_time": "2022-05-06T20:47:21.320635Z"
    }
   },
   "outputs": [],
   "source": [
    "#X = df6.drop( columns=['customer_id'] )\n",
    "X = df_tree.copy()#df6.drop( columns=['customer_id'] )"
   ]
  },
  {
   "cell_type": "code",
   "execution_count": null,
   "metadata": {
    "ExecuteTime": {
     "end_time": "2022-05-06T20:47:21.321772Z",
     "start_time": "2022-05-06T20:47:21.321758Z"
    }
   },
   "outputs": [],
   "source": [
    "X.head()"
   ]
  },
  {
   "cell_type": "code",
   "execution_count": null,
   "metadata": {
    "ExecuteTime": {
     "end_time": "2022-05-06T20:47:21.322648Z",
     "start_time": "2022-05-06T20:47:21.322638Z"
    }
   },
   "outputs": [],
   "source": [
    "#clusters = [2, 3, 4, 5, 6, 7, 8, 9]\n",
    "clusters = np.arange( 2, 25, 1)\n",
    "clusters"
   ]
  },
  {
   "cell_type": "markdown",
   "metadata": {},
   "source": [
    "## 7.1. K-Means"
   ]
  },
  {
   "cell_type": "code",
   "execution_count": null,
   "metadata": {
    "ExecuteTime": {
     "end_time": "2022-05-06T20:47:21.323744Z",
     "start_time": "2022-05-06T20:47:21.323733Z"
    }
   },
   "outputs": [],
   "source": [
    "from sklearn import metrics as m"
   ]
  },
  {
   "cell_type": "code",
   "execution_count": null,
   "metadata": {
    "ExecuteTime": {
     "end_time": "2022-05-06T20:47:21.324536Z",
     "start_time": "2022-05-06T20:47:21.324521Z"
    }
   },
   "outputs": [],
   "source": [
    "kmeans_list = []\n",
    "for k in clusters:\n",
    "    # model definition\n",
    "    kmeans_model = c.KMeans( n_clusters=k )\n",
    "\n",
    "    # model training\n",
    "    kmeans_model.fit( X )\n",
    "\n",
    "    # model predict\n",
    "    labels = kmeans_model.predict( X )\n",
    "\n",
    "    # model performance\n",
    "    sil = m.silhouette_score( X, labels, metric='euclidean' )\n",
    "    kmeans_list.append( sil )"
   ]
  },
  {
   "cell_type": "code",
   "execution_count": null,
   "metadata": {
    "ExecuteTime": {
     "end_time": "2022-05-06T20:47:21.325513Z",
     "start_time": "2022-05-06T20:47:21.325502Z"
    }
   },
   "outputs": [],
   "source": [
    "plt.plot( clusters, kmeans_list, linestyle='--', marker='o', color='b' )\n",
    "plt.xlabel( 'K' );\n",
    "plt.ylabel( 'Silhouette Score' );\n",
    "plt.title( 'Silhouette Score x K' );"
   ]
  },
  {
   "cell_type": "markdown",
   "metadata": {},
   "source": [
    "## 7.2. GMM"
   ]
  },
  {
   "cell_type": "code",
   "execution_count": null,
   "metadata": {
    "ExecuteTime": {
     "end_time": "2022-05-06T20:47:21.326734Z",
     "start_time": "2022-05-06T20:47:21.326721Z"
    }
   },
   "outputs": [],
   "source": [
    "gmm_list = []\n",
    "for k in clusters:\n",
    "    # model definition\n",
    "    gmm_model = mx.GaussianMixture( n_components=k )\n",
    "\n",
    "    # model training\n",
    "    gmm_model.fit( X )\n",
    "\n",
    "    # model predict\n",
    "    labels = gmm_model.predict( X )\n",
    "\n",
    "    # model performance\n",
    "    sil = m.silhouette_score( X, labels, metric='euclidean' )\n",
    "    gmm_list.append( sil )"
   ]
  },
  {
   "cell_type": "code",
   "execution_count": null,
   "metadata": {
    "ExecuteTime": {
     "end_time": "2022-05-06T20:47:21.327899Z",
     "start_time": "2022-05-06T20:47:21.327887Z"
    }
   },
   "outputs": [],
   "source": [
    "plt.plot( clusters, gmm_list, linestyle='--', marker='o', color='b' )\n",
    "plt.xlabel( 'k');\n",
    "plt.ylabel( 'Silhouette Score');\n",
    "plt.title( 'Sil x K');"
   ]
  },
  {
   "cell_type": "markdown",
   "metadata": {},
   "source": [
    "## 7.3. Hierarchical Clustering"
   ]
  },
  {
   "cell_type": "code",
   "execution_count": null,
   "metadata": {
    "ExecuteTime": {
     "end_time": "2022-05-06T20:47:21.328896Z",
     "start_time": "2022-05-06T20:47:21.328884Z"
    }
   },
   "outputs": [],
   "source": [
    "from scipy.cluster import hierarchy as hc"
   ]
  },
  {
   "cell_type": "code",
   "execution_count": null,
   "metadata": {
    "ExecuteTime": {
     "end_time": "2022-05-06T20:47:21.329977Z",
     "start_time": "2022-05-06T20:47:21.329963Z"
    }
   },
   "outputs": [],
   "source": [
    "# model definition and training\n",
    "hc_model = hc.linkage( X, 'ward' )"
   ]
  },
  {
   "cell_type": "code",
   "execution_count": null,
   "metadata": {
    "ExecuteTime": {
     "end_time": "2022-05-06T20:47:21.331086Z",
     "start_time": "2022-05-06T20:47:21.331073Z"
    }
   },
   "outputs": [],
   "source": [
    "#hc.dendrogram( \n",
    "#    hc_model, \n",
    "#    leaf_rotation=90,\n",
    "#    leaf_font_size=8\n",
    "#)\n",
    "#\n",
    "#plt.plot()"
   ]
  },
  {
   "cell_type": "code",
   "execution_count": null,
   "metadata": {
    "ExecuteTime": {
     "end_time": "2022-05-06T20:47:21.331931Z",
     "start_time": "2022-05-06T20:47:21.331920Z"
    }
   },
   "outputs": [],
   "source": [
    "#hc.dendrogram( \n",
    "#    hc_model,\n",
    "#    truncate_mode='lastp',\n",
    "#    p=12,\n",
    "#    leaf_rotation=90,\n",
    "#    leaf_font_size=8,\n",
    "#    show_contracted=True\n",
    "#)\n",
    "#\n",
    "#plt.show()"
   ]
  },
  {
   "cell_type": "markdown",
   "metadata": {},
   "source": [
    "### 7.3.1. HClustering Silhouette Score"
   ]
  },
  {
   "cell_type": "code",
   "execution_count": null,
   "metadata": {
    "ExecuteTime": {
     "end_time": "2022-05-06T20:47:21.332985Z",
     "start_time": "2022-05-06T20:47:21.332972Z"
    }
   },
   "outputs": [],
   "source": [
    "hc_list = []\n",
    "for k in clusters:\n",
    "    # model definition & training\n",
    "    hc_model = hc.linkage( X, 'ward' )\n",
    "\n",
    "    # model predict\n",
    "    labels = hc.fcluster( hc_model, k, criterion='maxclust' )\n",
    "\n",
    "    # metrics\n",
    "    sil = m.silhouette_score( X, labels, metric='euclidean' )\n",
    "    hc_list.append( sil )"
   ]
  },
  {
   "cell_type": "code",
   "execution_count": null,
   "metadata": {
    "ExecuteTime": {
     "end_time": "2022-05-06T20:47:21.334259Z",
     "start_time": "2022-05-06T20:47:21.334241Z"
    }
   },
   "outputs": [],
   "source": [
    "plt.plot( clusters,  hc_list, linestyle='--', marker='o', color='b' )"
   ]
  },
  {
   "cell_type": "markdown",
   "metadata": {},
   "source": [
    "## 7.4. DBSCAN"
   ]
  },
  {
   "cell_type": "code",
   "execution_count": null,
   "metadata": {
    "ExecuteTime": {
     "end_time": "2022-05-06T20:47:21.335662Z",
     "start_time": "2022-05-06T20:47:21.335633Z"
    }
   },
   "outputs": [],
   "source": [
    "eps=2.00\n",
    "min_samples=20 \n",
    "\n",
    "# model definition\n",
    "dbscan_model = c.DBSCAN( eps=eps, min_samples=min_samples )\n",
    "\n",
    "# mode training & predict \n",
    "labels = dbscan_model.fit_predict( X )\n",
    "\n",
    "sil = m.silhouette_score( X, labels, metric='euclidean' )\n",
    "print( 'Silhouette Score: {}'.format( sil ) )\n",
    "print( 'Number of Clusters: {}'.format( len( unique( labels ) ) ) )\n",
    "print( unique( labels ) )"
   ]
  },
  {
   "cell_type": "code",
   "execution_count": null,
   "metadata": {
    "ExecuteTime": {
     "end_time": "2022-05-06T20:47:21.337039Z",
     "start_time": "2022-05-06T20:47:21.337025Z"
    }
   },
   "outputs": [],
   "source": [
    "from sklearn.neighbors import NearestNeighbors"
   ]
  },
  {
   "cell_type": "code",
   "execution_count": null,
   "metadata": {
    "ExecuteTime": {
     "end_time": "2022-05-06T20:47:21.338159Z",
     "start_time": "2022-05-06T20:47:21.338146Z"
    }
   },
   "outputs": [],
   "source": [
    "neighbors = NearestNeighbors( n_neighbors=min_samples ).fit( X )\n",
    "distances, indices = neighbors.kneighbors( X )"
   ]
  },
  {
   "cell_type": "code",
   "execution_count": null,
   "metadata": {
    "ExecuteTime": {
     "end_time": "2022-05-06T20:47:21.338979Z",
     "start_time": "2022-05-06T20:47:21.338967Z"
    },
    "cell_style": "split"
   },
   "outputs": [],
   "source": [
    "distances = np.sort( distances, axis=0 )\n",
    "distances = distances[:,1]\n",
    "plt.plot( distances )"
   ]
  },
  {
   "cell_type": "code",
   "execution_count": null,
   "metadata": {
    "ExecuteTime": {
     "end_time": "2022-05-06T20:47:21.340594Z",
     "start_time": "2022-05-06T20:47:21.340577Z"
    },
    "cell_style": "split"
   },
   "outputs": [],
   "source": [
    "plt.plot( distances[2000:] )"
   ]
  },
  {
   "cell_type": "code",
   "execution_count": null,
   "metadata": {
    "ExecuteTime": {
     "end_time": "2022-05-06T20:47:21.342000Z",
     "start_time": "2022-05-06T20:47:21.341948Z"
    }
   },
   "outputs": [],
   "source": [
    "dbscan_list = [ 0.622034, 0.000000, 0.000000, 0.000000, 0.000000, 0.000000]"
   ]
  },
  {
   "cell_type": "code",
   "execution_count": null,
   "metadata": {},
   "outputs": [],
   "source": []
  },
  {
   "cell_type": "markdown",
   "metadata": {},
   "source": [
    "## 7.5. Results"
   ]
  },
  {
   "cell_type": "code",
   "execution_count": null,
   "metadata": {
    "ExecuteTime": {
     "end_time": "2022-05-06T20:47:21.343279Z",
     "start_time": "2022-05-06T20:47:21.343261Z"
    },
    "code_folding": []
   },
   "outputs": [],
   "source": [
    "# Model Name | k=2 | k=3 | k=4 | k=5 | ...\n",
    "#  Kmeans      SS    SS    SS    SS\n",
    "#  GMM         SS    SS    SS    SS\n",
    "#  HC         SS     SS    SS    SS\n",
    "#  DBSCAN     SS    SS    SS    SS\n",
    "\n",
    "df_results = pd.DataFrame( \n",
    "    {'KMeans': kmeans_list, \n",
    "     'GMM': gmm_list, \n",
    "     'HC': hc_list}\n",
    "     #'DBSCAN': dbscan_list}\n",
    ").T\n",
    "\n",
    "df_results.columns = clusters"
   ]
  },
  {
   "cell_type": "code",
   "execution_count": null,
   "metadata": {
    "ExecuteTime": {
     "end_time": "2022-05-06T20:47:21.344848Z",
     "start_time": "2022-05-06T20:47:21.344835Z"
    }
   },
   "outputs": [],
   "source": [
    "df_results.style.highlight_max( color='lightgreen', axis=1 )"
   ]
  },
  {
   "cell_type": "code",
   "execution_count": null,
   "metadata": {
    "ExecuteTime": {
     "end_time": "2022-05-06T20:47:21.345637Z",
     "start_time": "2022-05-06T20:47:21.345625Z"
    }
   },
   "outputs": [],
   "source": [
    "df_results.style.highlight_max( color='lightgreen', axis=1 )"
   ]
  },
  {
   "cell_type": "code",
   "execution_count": null,
   "metadata": {
    "ExecuteTime": {
     "end_time": "2022-05-06T20:47:21.346649Z",
     "start_time": "2022-05-06T20:47:21.346635Z"
    }
   },
   "outputs": [],
   "source": [
    "df_results.style.highlight_max( color='lightgreen', axis=1 )"
   ]
  },
  {
   "cell_type": "markdown",
   "metadata": {},
   "source": [
    "## 7.1. Silhouette Analysis"
   ]
  },
  {
   "cell_type": "code",
   "execution_count": null,
   "metadata": {
    "ExecuteTime": {
     "end_time": "2022-05-06T20:47:21.347922Z",
     "start_time": "2022-05-06T20:47:21.347911Z"
    }
   },
   "outputs": [],
   "source": [
    "fig, ax = plt.subplots( 3, 2 )\n",
    "fig.set_size_inches( 25, 20 )\n",
    "\n",
    "for k in clusters:\n",
    "    q, mod = divmod( k, 2 )\n",
    "    \n",
    "    ax[q-1, mod].set_xlim( [ -0.1, 1] )\n",
    "    ax[q-1, mod].set_ylim( [ 0, len( X ) + ( k+1 )*10] )\n",
    "    \n",
    "    # model definition & training\n",
    "    hc_model = hc.linkage( X, 'ward' )\n",
    "\n",
    "    # model predict\n",
    "    labels = hc.fcluster( hc_model, k, criterion='maxclust' )\n",
    "\n",
    "    # performance\n",
    "    ss = m.silhouette_score( X, labels, metric='euclidean' )\n",
    "    print( ' For K = {}. Silhouette Score: {}'.format( k, ss ) )\n",
    "\n",
    "    samples_silhouette_values = m.silhouette_samples( X, labels )\n",
    "\n",
    "    y_lower = 10\n",
    "    for i in range( k ):\n",
    "\n",
    "        # select clusters\n",
    "        ith_samples_silhouette_values = samples_silhouette_values[ labels == i]\n",
    "        \n",
    "        # sort values\n",
    "        ith_samples_silhouette_values.sort()\n",
    "\n",
    "        # size clusters\n",
    "        size_cluster_i = ith_samples_silhouette_values.shape[0]\n",
    "        y_upper = y_lower + size_cluster_i\n",
    "        \n",
    "        cmap = cm.get_cmap( 'Spectral' )\n",
    "        color = cmap( i / k )\n",
    "\n",
    "        ax[q-1, mod].fill_betweenx( np.arange( y_lower, y_upper ), 0, ith_samples_silhouette_values  )\n",
    "        \n",
    "        y_lower = y_upper + 10\n",
    "        \n",
    "    ax[q-1, mod].set_yticks([])\n",
    "    ax[q-1, mod].set_xticks( [-0.1, 0, 0.2, 0.4, 0.6, 0.8, 1])"
   ]
  },
  {
   "cell_type": "markdown",
   "metadata": {},
   "source": [
    "# <font color='red'> 8.0. Model Training </font>"
   ]
  },
  {
   "cell_type": "markdown",
   "metadata": {},
   "source": [
    "## 8.1. K-Means"
   ]
  },
  {
   "cell_type": "code",
   "execution_count": null,
   "metadata": {
    "ExecuteTime": {
     "end_time": "2022-05-06T20:47:21.348745Z",
     "start_time": "2022-05-06T20:47:21.348734Z"
    }
   },
   "outputs": [],
   "source": [
    "## model definition\n",
    "#k = 8\n",
    "#kmeans = c.KMeans( init='random', n_clusters=k, n_init=10, max_iter=300 )\n",
    "#\n",
    "## model training\n",
    "#kmeans.fit( X )\n",
    "#\n",
    "## clustering\n",
    "#labels = kmeans.labels_"
   ]
  },
  {
   "cell_type": "code",
   "execution_count": null,
   "metadata": {
    "ExecuteTime": {
     "end_time": "2022-05-06T20:47:21.349895Z",
     "start_time": "2022-05-06T20:47:21.349880Z"
    }
   },
   "outputs": [],
   "source": [
    "k=9\n",
    "# model definition\n",
    "kmeans = mx.GaussianMixture( n_components=k )\n",
    "\n",
    "# model training\n",
    "kmeans.fit( X )\n",
    "\n",
    "# model predict\n",
    "labels = kmeans.predict( X )"
   ]
  },
  {
   "cell_type": "markdown",
   "metadata": {},
   "source": [
    "### 8.2. Cluster Validation"
   ]
  },
  {
   "cell_type": "code",
   "execution_count": null,
   "metadata": {
    "ExecuteTime": {
     "end_time": "2022-05-06T20:47:21.351677Z",
     "start_time": "2022-05-06T20:47:21.351645Z"
    }
   },
   "outputs": [],
   "source": [
    "## WSS ( Within-cluster sum of square)\n",
    "print( 'WSS value: {}'.format( kmeans.inertia_ ) )\n",
    "\n",
    "## SS ( Silhouette Score )\n",
    "print( 'SS value: {}'.format( m.silhouette_score( X, labels, metric='euclidean' ) ) )"
   ]
  },
  {
   "cell_type": "markdown",
   "metadata": {},
   "source": [
    "# <font color='red'> 9.0. Cluster Analysis </font>"
   ]
  },
  {
   "cell_type": "code",
   "execution_count": null,
   "metadata": {
    "ExecuteTime": {
     "end_time": "2022-05-06T20:47:21.352800Z",
     "start_time": "2022-05-06T20:47:21.352787Z"
    }
   },
   "outputs": [],
   "source": [
    "X.head()"
   ]
  },
  {
   "cell_type": "code",
   "execution_count": null,
   "metadata": {
    "ExecuteTime": {
     "end_time": "2022-05-06T20:47:21.353824Z",
     "start_time": "2022-05-06T20:47:21.353811Z"
    }
   },
   "outputs": [],
   "source": [
    "df9 = X.copy()\n",
    "df9['cluster'] = labels"
   ]
  },
  {
   "cell_type": "code",
   "execution_count": null,
   "metadata": {
    "ExecuteTime": {
     "end_time": "2022-05-06T20:47:21.354887Z",
     "start_time": "2022-05-06T20:47:21.354876Z"
    }
   },
   "outputs": [],
   "source": [
    "#df9 = df4.copy()\n",
    "#df9['cluster'] = labels\n",
    "df9.head()"
   ]
  },
  {
   "cell_type": "markdown",
   "metadata": {},
   "source": [
    "## 9.1. Visualization Inspection"
   ]
  },
  {
   "cell_type": "code",
   "execution_count": null,
   "metadata": {
    "ExecuteTime": {
     "end_time": "2022-05-06T20:47:21.356012Z",
     "start_time": "2022-05-06T20:47:21.355975Z"
    }
   },
   "outputs": [],
   "source": [
    "sns.scatterplot( x='embedding_x', y='embedding_y', hue='cluster', data=df9, palette='deep')"
   ]
  },
  {
   "cell_type": "code",
   "execution_count": null,
   "metadata": {
    "ExecuteTime": {
     "end_time": "2022-05-06T20:47:21.356879Z",
     "start_time": "2022-05-06T20:47:21.356867Z"
    }
   },
   "outputs": [],
   "source": [
    "#visualizer = SilhouetteVisualizer( kmeans, colors='yellowbrick' )\n",
    "#visualizer.fit( X )\n",
    "#visualizer.finalize()"
   ]
  },
  {
   "cell_type": "markdown",
   "metadata": {},
   "source": [
    "## 9.2. 2d plot"
   ]
  },
  {
   "cell_type": "code",
   "execution_count": null,
   "metadata": {
    "ExecuteTime": {
     "end_time": "2022-05-06T20:47:21.357984Z",
     "start_time": "2022-05-06T20:47:21.357973Z"
    }
   },
   "outputs": [],
   "source": [
    "df_viz = df9.drop( columns='customer_id', axis=1 )\n",
    "#sns.pairplot( df_viz, hue='cluster' )"
   ]
  },
  {
   "cell_type": "markdown",
   "metadata": {},
   "source": [
    "## 9.3. UMAP\n"
   ]
  },
  {
   "cell_type": "code",
   "execution_count": null,
   "metadata": {
    "ExecuteTime": {
     "end_time": "2022-05-06T20:47:21.359377Z",
     "start_time": "2022-05-06T20:47:21.359359Z"
    },
    "hide_input": false
   },
   "outputs": [],
   "source": [
    "reducer = umap.UMAP( n_neighbors=90, random_state=42 )\n",
    "embedding = reducer.fit_transform( X )\n",
    "\n",
    "# embedding\n",
    "df_viz['embedding_x'] = embedding[:, 0]\n",
    "df_viz['embedding_y'] = embedding[:, 1]\n",
    "\n",
    "# plot UMAP\n",
    "sns.scatterplot( x='embedding_x', y='embedding_y', \n",
    "                 hue='cluster', \n",
    "                 palette=sns.color_palette( 'hls', n_colors=len( df_viz['cluster'].unique() ) ),\n",
    "                 data=df_viz )"
   ]
  },
  {
   "cell_type": "markdown",
   "metadata": {},
   "source": [
    "## 9.2. Cluster Profile"
   ]
  },
  {
   "cell_type": "code",
   "execution_count": null,
   "metadata": {
    "ExecuteTime": {
     "end_time": "2022-05-06T20:47:21.360767Z",
     "start_time": "2022-05-06T20:47:21.360751Z"
    }
   },
   "outputs": [],
   "source": [
    "df9.head()"
   ]
  },
  {
   "cell_type": "code",
   "execution_count": null,
   "metadata": {
    "ExecuteTime": {
     "end_time": "2022-05-06T20:47:21.361649Z",
     "start_time": "2022-05-06T20:47:21.361637Z"
    }
   },
   "outputs": [],
   "source": [
    "# Number of customer\n",
    "df_cluster = df9[['customer_id', 'cluster']].groupby( 'cluster' ).count().reset_index()\n",
    "df_cluster['perc_customer'] = 100*( df_cluster['customer_id'] / df_cluster['customer_id'].sum() )\n",
    "\n",
    "# Avg Gross revenue\n",
    "df_avg_gross_revenue = df9[['gross_revenue', 'cluster']].groupby( 'cluster' ).mean().reset_index()\n",
    "df_cluster = pd.merge( df_cluster, df_avg_gross_revenue, how='inner', on='cluster' )\n",
    "\n",
    "# Avg recency days\n",
    "df_avg_recency_days = df9[['recency_days', 'cluster']].groupby( 'cluster' ).mean().reset_index()\n",
    "df_cluster = pd.merge( df_cluster, df_avg_recency_days, how='inner', on='cluster' )\n",
    "\n",
    "# Avg invoice_no\n",
    "df_invoice_no = df9[['qtde_products', 'cluster']].groupby( 'cluster' ).mean().reset_index()\n",
    "df_cluster = pd.merge( df_cluster, df_invoice_no, how='inner', on='cluster' )\n",
    "\n",
    "# Frequency\n",
    "df_invoice_no = df9[['frequency', 'cluster']].groupby( 'cluster' ).mean().reset_index()\n",
    "df_cluster = pd.merge( df_cluster, df_invoice_no, how='inner', on='cluster' )\n",
    "\n",
    "# Returns\n",
    "df_invoice_no = df9[['qtde_returns', 'cluster']].groupby( 'cluster' ).mean().reset_index()\n",
    "df_cluster = pd.merge( df_cluster, df_invoice_no, how='inner', on='cluster' )\n",
    "\n",
    "df_cluster"
   ]
  },
  {
   "cell_type": "code",
   "execution_count": null,
   "metadata": {},
   "outputs": [],
   "source": []
  },
  {
   "cell_type": "markdown",
   "metadata": {},
   "source": [
    "### Cluster 01:  ( Candidato à Insider )\n",
    "    - Número de customers: 6 (0.14% do customers )\n",
    "    - Recência em média: 7 dias\n",
    "    - Compras em média: 89 compras\n",
    "    - Receita em média: $182.182,00 dólares\n",
    "        \n",
    "### Cluster 02: \n",
    "    - Número de customers: 31 (0.71 do customers )\n",
    "    - Recência em média: 14 dias\n",
    "    - Compras em média: 53 compras\n",
    "    - Receita em média: $40.543,52 dólares\n",
    "        \n",
    "### Cluster 03: \n",
    "    - Número de customers: 4.335 (99% do customers )\n",
    "    - Recência em média: 92 dias\n",
    "    - Compras em média: 5 compras\n",
    "    - Receita em média: $1.372,57 dólares"
   ]
  },
  {
   "cell_type": "markdown",
   "metadata": {},
   "source": [
    "# <font color='red'> 10.0. Deploy To Production </font>"
   ]
  }
 ],
 "metadata": {
  "kernelspec": {
   "display_name": "Python 3 (ipykernel)",
   "language": "python",
   "name": "python3"
  },
  "language_info": {
   "codemirror_mode": {
    "name": "ipython",
    "version": 3
   },
   "file_extension": ".py",
   "mimetype": "text/x-python",
   "name": "python",
   "nbconvert_exporter": "python",
   "pygments_lexer": "ipython3",
   "version": "3.9.12"
  }
 },
 "nbformat": 4,
 "nbformat_minor": 4
}
