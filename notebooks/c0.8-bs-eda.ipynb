{
 "cells": [
  {
   "cell_type": "markdown",
   "metadata": {
    "ExecuteTime": {
     "end_time": "2021-03-27T20:58:22.276780Z",
     "start_time": "2021-03-27T20:58:22.274533Z"
    }
   },
   "source": [
    "# PA005: High Value Customer Identification"
   ]
  },
  {
   "cell_type": "markdown",
   "metadata": {},
   "source": [
    "## <font color='red'> Ciclo 00 - Planejamento - Método IOT </font>"
   ]
  },
  {
   "cell_type": "markdown",
   "metadata": {},
   "source": [
    "## <font color='red'> Ciclo 01 - Métricas de Validação de Clusters </font>"
   ]
  },
  {
   "cell_type": "markdown",
   "metadata": {},
   "source": [
    "1. Feature Engineering\n",
    "    - Recência\n",
    "    - Frequência\n",
    "    - Monetização\n",
    "    \n",
    "    \n",
    "2. Métricas de validação de Clustering\n",
    "    - WSS ( Within-Cluster Sum of Square )  \n",
    "    - SS ( Silhouette Score )\n",
    "    \n",
    "    \n",
    "3. Cluster Analysis\n",
    "    - Plot 3D\n",
    "    - Cluster Profile"
   ]
  },
  {
   "cell_type": "markdown",
   "metadata": {
    "heading_collapsed": true
   },
   "source": [
    "## <font color='red'> Ciclo 02 - Análise de Silhouette </font>"
   ]
  },
  {
   "cell_type": "markdown",
   "metadata": {
    "hidden": true
   },
   "source": [
    "1. Feature Engineering\n",
    "    - Average Ticket\n",
    "    \n",
    "    \n",
    "2. Análise de Silhouette\n",
    "    - Silhouette Analysis  \n",
    "    \n",
    "    \n",
    "3. Cluster Visualization\n",
    "    - UMAP\n",
    "    \n",
    "    \n",
    "4. Cluster Análise de Perfil\n",
    "    - Descrição dos centróides dos cluster"
   ]
  },
  {
   "cell_type": "markdown",
   "metadata": {
    "heading_collapsed": true
   },
   "source": [
    "## <font color='red'> Ciclo 03 - Statistical Descriptive </font>"
   ]
  },
  {
   "cell_type": "markdown",
   "metadata": {
    "hidden": true
   },
   "source": [
    "1. Análise Descritiva\n",
    "    - Atributos numéricos\n",
    "    - Atributos categóricos\n",
    "    \n",
    "    \n",
    "2. Feature Engineering\n",
    "    - Average Recency\n",
    "    - Number of Returns\n",
    "    \n",
    "    \n",
    "2. Data preparation\n",
    "    - Standard Scaler"
   ]
  },
  {
   "cell_type": "markdown",
   "metadata": {
    "heading_collapsed": true
   },
   "source": [
    "## <font color='red'> Ciclo 04 - Feature Engineering </font>"
   ]
  },
  {
   "cell_type": "markdown",
   "metadata": {
    "hidden": true
   },
   "source": [
    "1. Análise Descritiva\n",
    "    - Fix NA\n",
    "    \n",
    "    \n",
    "2. Feature Engineering\n",
    "    - Average Recency Days\n",
    "    - Frequency medio = Number of Purchase / Timespan\n",
    "    - Ticket medio of returns\n",
    "    - Gross revenue by Country\n",
    "    - Country encodded by lat, long\n",
    "    - Drop:\n",
    "        - Number of Purchase\n",
    "    \n",
    "    \n",
    "3. Métricas de validação de Clustering\n",
    "    - DB Index\n",
    "    - Dunn Index\n",
    "    - GS ( Gap Statistic) \n",
    "    - DB Index ( Davies Bouldin Index )\n",
    "    - CH Index\n",
    "    - Gap Statistic\n",
    "    \n",
    "    \n",
    "4. Análise de Silhouette\n",
    "    - Silhouette Analysis  \n",
    "    \n",
    "    \n",
    "5. Cluster Visualization\n",
    "    - UMAP"
   ]
  },
  {
   "cell_type": "markdown",
   "metadata": {
    "heading_collapsed": true
   },
   "source": [
    "## <font color='red'> Ciclo 05 - EDA - Space Study </font>"
   ]
  },
  {
   "cell_type": "markdown",
   "metadata": {
    "hidden": true
   },
   "source": [
    "1. Univariate Analysis\n",
    "    - Remove Outliers\n",
    "    - LUX framework for EDA\n",
    "    \n",
    "    \n",
    "2. Bivariate Analysis\n",
    "    - Pairplot\n",
    " \n",
    "\n",
    "3. Embedding\n",
    "    - PCA\n",
    "    - UMAP\n",
    "    - TSNE\n",
    "    - Tree-Based"
   ]
  },
  {
   "cell_type": "markdown",
   "metadata": {
    "heading_collapsed": true
   },
   "source": [
    "## <font color='red'> Ciclo 06 - Machine Learning Modeling </font>"
   ]
  },
  {
   "cell_type": "code",
   "execution_count": null,
   "metadata": {
    "hidden": true
   },
   "outputs": [],
   "source": []
  },
  {
   "cell_type": "code",
   "execution_count": null,
   "metadata": {
    "hidden": true
   },
   "outputs": [],
   "source": []
  },
  {
   "cell_type": "code",
   "execution_count": null,
   "metadata": {
    "hidden": true
   },
   "outputs": [],
   "source": []
  },
  {
   "cell_type": "markdown",
   "metadata": {
    "heading_collapsed": true
   },
   "source": [
    "# 0.0. Planejamento da Solução ( IOT )"
   ]
  },
  {
   "cell_type": "markdown",
   "metadata": {
    "heading_collapsed": true,
    "hidden": true
   },
   "source": [
    "## Input - Entrada"
   ]
  },
  {
   "cell_type": "markdown",
   "metadata": {
    "hidden": true
   },
   "source": [
    "### O problema de negócio"
   ]
  },
  {
   "cell_type": "markdown",
   "metadata": {
    "hidden": true
   },
   "source": [
    "1. Selecionar os mais valiosos clientes para formar o programa de fidelidade **\"INSIDERS\"**\n",
    "2. Conjunto de dados com as vendas de produtos durante 1 ano ( Nov 2015 to Dec 2017 )"
   ]
  },
  {
   "cell_type": "markdown",
   "metadata": {
    "heading_collapsed": true,
    "hidden": true
   },
   "source": [
    "## Output - Saída"
   ]
  },
  {
   "cell_type": "markdown",
   "metadata": {
    "hidden": true
   },
   "source": [
    "1. A indicação de pessoas para fazer parte do programa de fidelidade **\"INSIDERS\"**.\n",
    "2. Relatório com as respostas para as seguintes perguntas:\n",
    "    - Quem são as pessoas elegíveis para participar do programa de Insiders ?\n",
    "    - Quantos clientes farão parte do grupo?\n",
    "    - Quais as principais características desses clientes ?\n",
    "    - Qual a porcentagem de contribuição do faturamento, vinda do Insiders ?\n",
    "    - Qual a expectativa de faturamento desse grupo para os próximos meses ?\n",
    "    - Quais as condições para uma pessoa ser elegível ao Insiders ?\n",
    "    - Quais as condições para uma pessoa ser removida do Insiders ?\n",
    "    - Qual a garantia que o programa Insiders é melhor que o restante da base ?\n",
    "    - Quais ações o time de marketing pode realizar para aumentar o faturamento?"
   ]
  },
  {
   "cell_type": "markdown",
   "metadata": {
    "heading_collapsed": true,
    "hidden": true
   },
   "source": [
    "## Tasks - Processo"
   ]
  },
  {
   "cell_type": "markdown",
   "metadata": {
    "hidden": true
   },
   "source": [
    "1. **Quem são as pessoas elegíveis para participar do programa de Insiders ?**\n",
    "    - O que é ser elegível ? O que é um cliente \"valioso\" para a empresa ?\n",
    "        - Faturamento:\n",
    "            - Alto Ticket Médio\n",
    "            - Alto LTV\n",
    "            - Baixa Recência ou Alta Frequência ( tempo entre as compras )\n",
    "            - Alto Basket Size ( quantidade média de produtos comprados )\n",
    "            - Baixa probabilidade de Churn\n",
    "            - Previsão alta de LTV\n",
    "            - Alta propensão de compra\n",
    "\n",
    "        - Custo:\n",
    "            - Baixo número de devoluções\n",
    "\n",
    "        - Experiência:  \n",
    "            - Média alta de avaliações\n",
    "            \n",
    "            \n",
    "2. **Quantos clientes farão parte do grupo?**\n",
    "    - Número de clientes\n",
    "    - % em relação ao total de clients\n",
    "    \n",
    "    \n",
    "3. **Quais as principais características desses clientes ?**\n",
    "    - Escrever os principais atributos dos clientes\n",
    "        - Idade\n",
    "        - País\n",
    "        - Salário\n",
    "        \n",
    "    - Escrever os principais comportamentos de compra dos clients ( métricas de negócio )\n",
    "        - Vide acima\n",
    "    \n",
    "    \n",
    "4. **Qual a porcentagem de contribuição do faturamento, vinda do Insiders ?**\n",
    "    - Calcular o faturamento total da empresa durante o ano.\n",
    "    - Calcular o faturamento (%) apenas do cluster Insiders.\n",
    "    \n",
    "    \n",
    "5. **Qual a expectativa de faturamento desse grupo para os próximos meses ?**\n",
    "    - Cálculo do LTV do grupo Insiders\n",
    "    - Séries Temporais ( ARMA, ARIMA, HoltWinter, etc )\n",
    "    \n",
    "\n",
    "6. **Quais as condições para uma pessoa ser elegível ao Insiders ?**\n",
    "    - Qual o período de avaliação ?\n",
    "    - O \"desempenho\" do cliente está próximo da média do cluster Insiders. \n",
    "    \n",
    "    \n",
    "7. **Quais as condições para uma pessoa ser removida do Insiders ?**\n",
    "    - O \"desempenho\" do cliente não está mais próximo da média do cluster Insiders. \n",
    "    \n",
    "    \n",
    "8. **Qual a garantia que o programa Insiders é melhor que o restante da base ?**\n",
    "    - Teste de Hipóteses\n",
    "    - Teste A/B\n",
    "    \n",
    "    \n",
    "9. **Quais ações o time de marketing pode realizar para aumentar o faturamento?**\n",
    "    - Descontos\n",
    "    - Preferências de escolha\n",
    "    - Produtos exclusivos"
   ]
  },
  {
   "cell_type": "markdown",
   "metadata": {},
   "source": [
    "# 0.0. Imports"
   ]
  },
  {
   "cell_type": "code",
   "execution_count": 1,
   "metadata": {
    "ExecuteTime": {
     "end_time": "2022-05-06T20:47:34.718539Z",
     "start_time": "2022-05-06T20:47:26.289540Z"
    }
   },
   "outputs": [],
   "source": [
    "import numpy   as np\n",
    "import pandas  as pd\n",
    "import seaborn as sns\n",
    "\n",
    "import umap.umap_ as umap\n",
    "\n",
    "from IPython.display import HTML\n",
    "from matplotlib import pyplot as plt\n",
    "\n",
    "from pandas_profiling import ProfileReport\n",
    "\n",
    "from sklearn import cluster       as c\n",
    "from sklearn import metrics       as m\n",
    "from sklearn import ensemble      as en\n",
    "from sklearn import preprocessing as pp\n",
    "from sklearn import decomposition as dd\n",
    "from sklearn import manifold      as mn\n",
    "from sklearn import mixture       as mx\n",
    "\n",
    "from plotly import express as px\n",
    "\n",
    "from yellowbrick.cluster import KElbowVisualizer, SilhouetteVisualizer"
   ]
  },
  {
   "cell_type": "markdown",
   "metadata": {},
   "source": [
    "## 0.1. Helper Functions"
   ]
  },
  {
   "cell_type": "code",
   "execution_count": 2,
   "metadata": {
    "ExecuteTime": {
     "end_time": "2022-05-06T20:47:34.731757Z",
     "start_time": "2022-05-06T20:47:34.720449Z"
    }
   },
   "outputs": [
    {
     "name": "stdout",
     "output_type": "stream",
     "text": [
      "Populating the interactive namespace from numpy and matplotlib\n"
     ]
    },
    {
     "data": {
      "text/html": [
       "<style>.container { width:100% !important; }</style>"
      ],
      "text/plain": [
       "<IPython.core.display.HTML object>"
      ]
     },
     "metadata": {},
     "output_type": "display_data"
    }
   ],
   "source": [
    "def jupyter_settings():\n",
    "    %matplotlib inline\n",
    "    %pylab inline\n",
    "    \n",
    "    plt.style.use( 'ggplot')\n",
    "    plt.rcParams['figure.figsize'] = [24, 9]\n",
    "    plt.rcParams['font.size'] = 24\n",
    "    \n",
    "    display( HTML( '<style>.container { width:100% !important; }</style>') )\n",
    "    pd.options.display.max_columns = None\n",
    "    pd.options.display.max_rows = None\n",
    "    pd.set_option( 'display.expand_frame_repr', False )\n",
    "    \n",
    "    sns.set()\n",
    "    \n",
    "jupyter_settings()"
   ]
  },
  {
   "cell_type": "markdown",
   "metadata": {},
   "source": [
    "## 0.2. Load dataset"
   ]
  },
  {
   "cell_type": "code",
   "execution_count": 3,
   "metadata": {
    "ExecuteTime": {
     "end_time": "2022-05-06T20:47:35.127848Z",
     "start_time": "2022-05-06T20:47:34.733095Z"
    }
   },
   "outputs": [
    {
     "ename": "UnicodeDecodeError",
     "evalue": "'utf-8' codec can't decode byte 0xa3 in position 79546: invalid start byte",
     "output_type": "error",
     "traceback": [
      "\u001b[0;31m---------------------------------------------------------------------------\u001b[0m",
      "\u001b[0;31mUnicodeDecodeError\u001b[0m                        Traceback (most recent call last)",
      "\u001b[0;32m/var/folders/04/fz9wjmrx1fvgdw9ycmx8w0cr0000gn/T/ipykernel_43742/2622805319.py\u001b[0m in \u001b[0;36m<module>\u001b[0;34m\u001b[0m\n\u001b[1;32m      1\u001b[0m \u001b[0;31m# load data\u001b[0m\u001b[0;34m\u001b[0m\u001b[0;34m\u001b[0m\u001b[0m\n\u001b[0;32m----> 2\u001b[0;31m \u001b[0mdf_raw\u001b[0m \u001b[0;34m=\u001b[0m \u001b[0mpd\u001b[0m\u001b[0;34m.\u001b[0m\u001b[0mread_csv\u001b[0m\u001b[0;34m(\u001b[0m \u001b[0;34m'../data/raw/Ecommerce.csv'\u001b[0m \u001b[0;34m)\u001b[0m\u001b[0;34m\u001b[0m\u001b[0;34m\u001b[0m\u001b[0m\n\u001b[0m\u001b[1;32m      3\u001b[0m \u001b[0;34m\u001b[0m\u001b[0m\n\u001b[1;32m      4\u001b[0m \u001b[0;31m# drop extra column\u001b[0m\u001b[0;34m\u001b[0m\u001b[0;34m\u001b[0m\u001b[0m\n\u001b[1;32m      5\u001b[0m \u001b[0mdf_raw\u001b[0m \u001b[0;34m=\u001b[0m \u001b[0mdf_raw\u001b[0m\u001b[0;34m.\u001b[0m\u001b[0mdrop\u001b[0m\u001b[0;34m(\u001b[0m \u001b[0mcolumns\u001b[0m\u001b[0;34m=\u001b[0m\u001b[0;34m[\u001b[0m\u001b[0;34m'Unnamed: 8'\u001b[0m\u001b[0;34m]\u001b[0m\u001b[0;34m,\u001b[0m \u001b[0maxis\u001b[0m\u001b[0;34m=\u001b[0m\u001b[0;36m1\u001b[0m \u001b[0;34m)\u001b[0m\u001b[0;34m\u001b[0m\u001b[0;34m\u001b[0m\u001b[0m\n",
      "\u001b[0;32m/usr/local/lib/python3.9/site-packages/pandas/util/_decorators.py\u001b[0m in \u001b[0;36mwrapper\u001b[0;34m(*args, **kwargs)\u001b[0m\n\u001b[1;32m    309\u001b[0m                     \u001b[0mstacklevel\u001b[0m\u001b[0;34m=\u001b[0m\u001b[0mstacklevel\u001b[0m\u001b[0;34m,\u001b[0m\u001b[0;34m\u001b[0m\u001b[0;34m\u001b[0m\u001b[0m\n\u001b[1;32m    310\u001b[0m                 )\n\u001b[0;32m--> 311\u001b[0;31m             \u001b[0;32mreturn\u001b[0m \u001b[0mfunc\u001b[0m\u001b[0;34m(\u001b[0m\u001b[0;34m*\u001b[0m\u001b[0margs\u001b[0m\u001b[0;34m,\u001b[0m \u001b[0;34m**\u001b[0m\u001b[0mkwargs\u001b[0m\u001b[0;34m)\u001b[0m\u001b[0;34m\u001b[0m\u001b[0;34m\u001b[0m\u001b[0m\n\u001b[0m\u001b[1;32m    312\u001b[0m \u001b[0;34m\u001b[0m\u001b[0m\n\u001b[1;32m    313\u001b[0m         \u001b[0;32mreturn\u001b[0m \u001b[0mwrapper\u001b[0m\u001b[0;34m\u001b[0m\u001b[0;34m\u001b[0m\u001b[0m\n",
      "\u001b[0;32m/usr/local/lib/python3.9/site-packages/pandas/io/parsers/readers.py\u001b[0m in \u001b[0;36mread_csv\u001b[0;34m(filepath_or_buffer, sep, delimiter, header, names, index_col, usecols, squeeze, prefix, mangle_dupe_cols, dtype, engine, converters, true_values, false_values, skipinitialspace, skiprows, skipfooter, nrows, na_values, keep_default_na, na_filter, verbose, skip_blank_lines, parse_dates, infer_datetime_format, keep_date_col, date_parser, dayfirst, cache_dates, iterator, chunksize, compression, thousands, decimal, lineterminator, quotechar, quoting, doublequote, escapechar, comment, encoding, encoding_errors, dialect, error_bad_lines, warn_bad_lines, on_bad_lines, delim_whitespace, low_memory, memory_map, float_precision, storage_options)\u001b[0m\n\u001b[1;32m    584\u001b[0m     \u001b[0mkwds\u001b[0m\u001b[0;34m.\u001b[0m\u001b[0mupdate\u001b[0m\u001b[0;34m(\u001b[0m\u001b[0mkwds_defaults\u001b[0m\u001b[0;34m)\u001b[0m\u001b[0;34m\u001b[0m\u001b[0;34m\u001b[0m\u001b[0m\n\u001b[1;32m    585\u001b[0m \u001b[0;34m\u001b[0m\u001b[0m\n\u001b[0;32m--> 586\u001b[0;31m     \u001b[0;32mreturn\u001b[0m \u001b[0m_read\u001b[0m\u001b[0;34m(\u001b[0m\u001b[0mfilepath_or_buffer\u001b[0m\u001b[0;34m,\u001b[0m \u001b[0mkwds\u001b[0m\u001b[0;34m)\u001b[0m\u001b[0;34m\u001b[0m\u001b[0;34m\u001b[0m\u001b[0m\n\u001b[0m\u001b[1;32m    587\u001b[0m \u001b[0;34m\u001b[0m\u001b[0m\n\u001b[1;32m    588\u001b[0m \u001b[0;34m\u001b[0m\u001b[0m\n",
      "\u001b[0;32m/usr/local/lib/python3.9/site-packages/pandas/io/parsers/readers.py\u001b[0m in \u001b[0;36m_read\u001b[0;34m(filepath_or_buffer, kwds)\u001b[0m\n\u001b[1;32m    486\u001b[0m \u001b[0;34m\u001b[0m\u001b[0m\n\u001b[1;32m    487\u001b[0m     \u001b[0;32mwith\u001b[0m \u001b[0mparser\u001b[0m\u001b[0;34m:\u001b[0m\u001b[0;34m\u001b[0m\u001b[0;34m\u001b[0m\u001b[0m\n\u001b[0;32m--> 488\u001b[0;31m         \u001b[0;32mreturn\u001b[0m \u001b[0mparser\u001b[0m\u001b[0;34m.\u001b[0m\u001b[0mread\u001b[0m\u001b[0;34m(\u001b[0m\u001b[0mnrows\u001b[0m\u001b[0;34m)\u001b[0m\u001b[0;34m\u001b[0m\u001b[0;34m\u001b[0m\u001b[0m\n\u001b[0m\u001b[1;32m    489\u001b[0m \u001b[0;34m\u001b[0m\u001b[0m\n\u001b[1;32m    490\u001b[0m \u001b[0;34m\u001b[0m\u001b[0m\n",
      "\u001b[0;32m/usr/local/lib/python3.9/site-packages/pandas/io/parsers/readers.py\u001b[0m in \u001b[0;36mread\u001b[0;34m(self, nrows)\u001b[0m\n\u001b[1;32m   1045\u001b[0m     \u001b[0;32mdef\u001b[0m \u001b[0mread\u001b[0m\u001b[0;34m(\u001b[0m\u001b[0mself\u001b[0m\u001b[0;34m,\u001b[0m \u001b[0mnrows\u001b[0m\u001b[0;34m=\u001b[0m\u001b[0;32mNone\u001b[0m\u001b[0;34m)\u001b[0m\u001b[0;34m:\u001b[0m\u001b[0;34m\u001b[0m\u001b[0;34m\u001b[0m\u001b[0m\n\u001b[1;32m   1046\u001b[0m         \u001b[0mnrows\u001b[0m \u001b[0;34m=\u001b[0m \u001b[0mvalidate_integer\u001b[0m\u001b[0;34m(\u001b[0m\u001b[0;34m\"nrows\"\u001b[0m\u001b[0;34m,\u001b[0m \u001b[0mnrows\u001b[0m\u001b[0;34m)\u001b[0m\u001b[0;34m\u001b[0m\u001b[0;34m\u001b[0m\u001b[0m\n\u001b[0;32m-> 1047\u001b[0;31m         \u001b[0mindex\u001b[0m\u001b[0;34m,\u001b[0m \u001b[0mcolumns\u001b[0m\u001b[0;34m,\u001b[0m \u001b[0mcol_dict\u001b[0m \u001b[0;34m=\u001b[0m \u001b[0mself\u001b[0m\u001b[0;34m.\u001b[0m\u001b[0m_engine\u001b[0m\u001b[0;34m.\u001b[0m\u001b[0mread\u001b[0m\u001b[0;34m(\u001b[0m\u001b[0mnrows\u001b[0m\u001b[0;34m)\u001b[0m\u001b[0;34m\u001b[0m\u001b[0;34m\u001b[0m\u001b[0m\n\u001b[0m\u001b[1;32m   1048\u001b[0m \u001b[0;34m\u001b[0m\u001b[0m\n\u001b[1;32m   1049\u001b[0m         \u001b[0;32mif\u001b[0m \u001b[0mindex\u001b[0m \u001b[0;32mis\u001b[0m \u001b[0;32mNone\u001b[0m\u001b[0;34m:\u001b[0m\u001b[0;34m\u001b[0m\u001b[0;34m\u001b[0m\u001b[0m\n",
      "\u001b[0;32m/usr/local/lib/python3.9/site-packages/pandas/io/parsers/c_parser_wrapper.py\u001b[0m in \u001b[0;36mread\u001b[0;34m(self, nrows)\u001b[0m\n\u001b[1;32m    221\u001b[0m         \u001b[0;32mtry\u001b[0m\u001b[0;34m:\u001b[0m\u001b[0;34m\u001b[0m\u001b[0;34m\u001b[0m\u001b[0m\n\u001b[1;32m    222\u001b[0m             \u001b[0;32mif\u001b[0m \u001b[0mself\u001b[0m\u001b[0;34m.\u001b[0m\u001b[0mlow_memory\u001b[0m\u001b[0;34m:\u001b[0m\u001b[0;34m\u001b[0m\u001b[0;34m\u001b[0m\u001b[0m\n\u001b[0;32m--> 223\u001b[0;31m                 \u001b[0mchunks\u001b[0m \u001b[0;34m=\u001b[0m \u001b[0mself\u001b[0m\u001b[0;34m.\u001b[0m\u001b[0m_reader\u001b[0m\u001b[0;34m.\u001b[0m\u001b[0mread_low_memory\u001b[0m\u001b[0;34m(\u001b[0m\u001b[0mnrows\u001b[0m\u001b[0;34m)\u001b[0m\u001b[0;34m\u001b[0m\u001b[0;34m\u001b[0m\u001b[0m\n\u001b[0m\u001b[1;32m    224\u001b[0m                 \u001b[0;31m# destructive to chunks\u001b[0m\u001b[0;34m\u001b[0m\u001b[0;34m\u001b[0m\u001b[0m\n\u001b[1;32m    225\u001b[0m                 \u001b[0mdata\u001b[0m \u001b[0;34m=\u001b[0m \u001b[0m_concatenate_chunks\u001b[0m\u001b[0;34m(\u001b[0m\u001b[0mchunks\u001b[0m\u001b[0;34m)\u001b[0m\u001b[0;34m\u001b[0m\u001b[0;34m\u001b[0m\u001b[0m\n",
      "\u001b[0;32m/usr/local/lib/python3.9/site-packages/pandas/_libs/parsers.pyx\u001b[0m in \u001b[0;36mpandas._libs.parsers.TextReader.read_low_memory\u001b[0;34m()\u001b[0m\n",
      "\u001b[0;32m/usr/local/lib/python3.9/site-packages/pandas/_libs/parsers.pyx\u001b[0m in \u001b[0;36mpandas._libs.parsers.TextReader._read_rows\u001b[0;34m()\u001b[0m\n",
      "\u001b[0;32m/usr/local/lib/python3.9/site-packages/pandas/_libs/parsers.pyx\u001b[0m in \u001b[0;36mpandas._libs.parsers.TextReader._tokenize_rows\u001b[0;34m()\u001b[0m\n",
      "\u001b[0;32m/usr/local/lib/python3.9/site-packages/pandas/_libs/parsers.pyx\u001b[0m in \u001b[0;36mpandas._libs.parsers.raise_parser_error\u001b[0;34m()\u001b[0m\n",
      "\u001b[0;31mUnicodeDecodeError\u001b[0m: 'utf-8' codec can't decode byte 0xa3 in position 79546: invalid start byte"
     ]
    }
   ],
   "source": [
    "# load data\n",
    "df_raw = pd.read_csv( '../data/raw/Ecommerce.csv' )\n",
    "\n",
    "# drop extra column\n",
    "df_raw = df_raw.drop( columns=['Unnamed: 8'], axis=1 )"
   ]
  },
  {
   "cell_type": "markdown",
   "metadata": {},
   "source": [
    "# <font color='red'> 1.0. Descrição dos dados </font>"
   ]
  },
  {
   "cell_type": "code",
   "execution_count": null,
   "metadata": {
    "ExecuteTime": {
     "end_time": "2022-05-06T20:47:35.137523Z",
     "start_time": "2022-05-06T20:47:35.137510Z"
    }
   },
   "outputs": [],
   "source": [
    "df1 = df_raw.copy()"
   ]
  },
  {
   "cell_type": "code",
   "execution_count": null,
   "metadata": {
    "ExecuteTime": {
     "end_time": "2022-05-06T20:47:35.138780Z",
     "start_time": "2022-05-06T20:47:35.138763Z"
    }
   },
   "outputs": [],
   "source": [
    "df1.head()"
   ]
  },
  {
   "cell_type": "code",
   "execution_count": null,
   "metadata": {},
   "outputs": [],
   "source": []
  },
  {
   "cell_type": "markdown",
   "metadata": {},
   "source": [
    "## 1.1. Rename columuns"
   ]
  },
  {
   "cell_type": "code",
   "execution_count": null,
   "metadata": {
    "ExecuteTime": {
     "end_time": "2022-05-06T20:47:35.139638Z",
     "start_time": "2022-05-06T20:47:35.139627Z"
    }
   },
   "outputs": [],
   "source": [
    "cols_new = ['invoice_no', 'stock_code', 'description', 'quantity', 'invoice_date', 'unit_price', 'customer_id', 'country']\n",
    "df1.columns = cols_new"
   ]
  },
  {
   "cell_type": "markdown",
   "metadata": {},
   "source": [
    "## 1.2. Data dimensions"
   ]
  },
  {
   "cell_type": "code",
   "execution_count": null,
   "metadata": {
    "ExecuteTime": {
     "end_time": "2022-05-06T20:47:35.140953Z",
     "start_time": "2022-05-06T20:47:35.140941Z"
    }
   },
   "outputs": [],
   "source": [
    "print( 'Number of rows: {}'.format( df1.shape[0] ) )\n",
    "print( 'Number of cols: {}'.format( df1.shape[1] ) )"
   ]
  },
  {
   "cell_type": "markdown",
   "metadata": {},
   "source": [
    "## 1.3. Data types"
   ]
  },
  {
   "cell_type": "code",
   "execution_count": null,
   "metadata": {
    "ExecuteTime": {
     "end_time": "2022-05-06T20:47:35.141833Z",
     "start_time": "2022-05-06T20:47:35.141821Z"
    }
   },
   "outputs": [],
   "source": [
    "df1.dtypes"
   ]
  },
  {
   "cell_type": "markdown",
   "metadata": {},
   "source": [
    "## 1.4. Check NA"
   ]
  },
  {
   "cell_type": "code",
   "execution_count": null,
   "metadata": {
    "ExecuteTime": {
     "end_time": "2022-05-06T20:47:35.142926Z",
     "start_time": "2022-05-06T20:47:35.142913Z"
    }
   },
   "outputs": [],
   "source": [
    "df1.isna().sum()"
   ]
  },
  {
   "cell_type": "markdown",
   "metadata": {},
   "source": [
    "## 1.5. Replace NA"
   ]
  },
  {
   "cell_type": "code",
   "execution_count": null,
   "metadata": {
    "ExecuteTime": {
     "end_time": "2022-05-06T20:47:35.143808Z",
     "start_time": "2022-05-06T20:47:35.143796Z"
    }
   },
   "outputs": [],
   "source": [
    "# Precisamos resolver o problema do NA"
   ]
  },
  {
   "cell_type": "code",
   "execution_count": null,
   "metadata": {
    "ExecuteTime": {
     "end_time": "2022-05-06T20:47:35.144770Z",
     "start_time": "2022-05-06T20:47:35.144757Z"
    }
   },
   "outputs": [],
   "source": [
    "df_missing = df1.loc[df1['customer_id'].isna(), :]\n",
    "df_not_missing = df1.loc[~df1['customer_id'].isna(), :]"
   ]
  },
  {
   "cell_type": "code",
   "execution_count": null,
   "metadata": {
    "ExecuteTime": {
     "end_time": "2022-05-06T20:47:35.146048Z",
     "start_time": "2022-05-06T20:47:35.146035Z"
    }
   },
   "outputs": [],
   "source": [
    "# create reference\n",
    "df_backup = pd.DataFrame( df_missing['invoice_no'].drop_duplicates() )\n",
    "df_backup['customer_id'] = np.arange( 19000, 19000+len( df_backup ), 1)\n",
    "\n",
    "# merge original with reference dataframe\n",
    "df1 = pd.merge( df1, df_backup, on='invoice_no', how='left' )\n",
    "\n",
    "# coalesce \n",
    "df1['customer_id'] = df1['customer_id_x'].combine_first( df1['customer_id_y'] )\n",
    "\n",
    "# drop extra columns\n",
    "df1 = df1.drop( columns=['customer_id_x', 'customer_id_y'], axis=1 )"
   ]
  },
  {
   "cell_type": "code",
   "execution_count": null,
   "metadata": {
    "ExecuteTime": {
     "end_time": "2022-05-06T20:47:35.146909Z",
     "start_time": "2022-05-06T20:47:35.146898Z"
    }
   },
   "outputs": [],
   "source": [
    "df1.isna().sum()"
   ]
  },
  {
   "cell_type": "markdown",
   "metadata": {},
   "source": [
    "## 1.6. Change dtypes"
   ]
  },
  {
   "cell_type": "code",
   "execution_count": null,
   "metadata": {
    "ExecuteTime": {
     "end_time": "2022-05-06T20:47:35.148029Z",
     "start_time": "2022-05-06T20:47:35.148016Z"
    }
   },
   "outputs": [],
   "source": [
    "# invoice date\n",
    "df1['invoice_date'] = pd.to_datetime( df1['invoice_date'], format='%d-%b-%y' )\n",
    "\n",
    "# customer id\n",
    "df1['customer_id'] = df1['customer_id'].astype( int )\n",
    "df1.head()"
   ]
  },
  {
   "cell_type": "code",
   "execution_count": null,
   "metadata": {
    "ExecuteTime": {
     "end_time": "2022-05-06T20:47:35.148789Z",
     "start_time": "2022-05-06T20:47:35.148778Z"
    }
   },
   "outputs": [],
   "source": [
    "df1.dtypes"
   ]
  },
  {
   "cell_type": "markdown",
   "metadata": {},
   "source": [
    "## 1.7. Descriptive Statistics"
   ]
  },
  {
   "cell_type": "code",
   "execution_count": null,
   "metadata": {
    "ExecuteTime": {
     "end_time": "2022-05-06T20:47:35.149701Z",
     "start_time": "2022-05-06T20:47:35.149689Z"
    }
   },
   "outputs": [],
   "source": [
    "num_attributes = df1.select_dtypes( include=['int64', 'float64'] )\n",
    "cat_attributes = df1.select_dtypes( exclude=['int64', 'float64', 'datetime64[ns]'] )"
   ]
  },
  {
   "cell_type": "markdown",
   "metadata": {},
   "source": [
    "### 1.7.1. Numerical Attributs"
   ]
  },
  {
   "cell_type": "code",
   "execution_count": null,
   "metadata": {
    "ExecuteTime": {
     "end_time": "2022-05-06T20:47:35.150649Z",
     "start_time": "2022-05-06T20:47:35.150638Z"
    }
   },
   "outputs": [],
   "source": [
    "# central tendency - mean, median\n",
    "ct1 = pd.DataFrame( num_attributes.apply( np.mean ) ).T\n",
    "ct2 = pd.DataFrame( num_attributes.apply( np.median ) ).T\n",
    "             \n",
    "# dispersion - desvio padrão, minimo, maximo, range, skew, kurtosis\n",
    "d1 = pd.DataFrame( num_attributes.apply( np.std ) ).T\n",
    "d2 = pd.DataFrame( num_attributes.apply( np.min ) ).T\n",
    "d3 = pd.DataFrame( num_attributes.apply( np.max ) ).T\n",
    "d4 = pd.DataFrame( num_attributes.apply( lambda x: x.max() - x.min() ) ).T\n",
    "d5 = pd.DataFrame( num_attributes.apply( lambda x: x.skew() ) ).T\n",
    "d6 = pd.DataFrame( num_attributes.apply( lambda x: x.kurtosis() ) ).T\n",
    "\n",
    "# concatenate\n",
    "m = pd.concat( [d2, d3, d4, ct1, ct2, d1, d5, d6] ).T.reset_index()\n",
    "m.columns = ['attributes', 'min', 'max', 'range', 'mean', 'mediana', 'std', 'skew', 'kurtosis']\n",
    "m"
   ]
  },
  {
   "cell_type": "markdown",
   "metadata": {},
   "source": [
    "### <font color='red'> 1.7.1.1. Numerical Attributs - Investigating </font>"
   ]
  },
  {
   "cell_type": "markdown",
   "metadata": {
    "ExecuteTime": {
     "end_time": "2021-04-27T23:54:34.339055Z",
     "start_time": "2021-04-27T23:54:34.335055Z"
    }
   },
   "source": [
    "1. Quantity negativa ( pode ser devolução )\n",
    "\n",
    "\n",
    "2. Preço unitário igual a zero ( pode ser promoção? )"
   ]
  },
  {
   "cell_type": "markdown",
   "metadata": {},
   "source": [
    "### 1.7.2. Categorical Attributs"
   ]
  },
  {
   "cell_type": "markdown",
   "metadata": {},
   "source": [
    "#### Invoice No"
   ]
  },
  {
   "cell_type": "code",
   "execution_count": null,
   "metadata": {
    "ExecuteTime": {
     "end_time": "2022-05-06T20:47:35.151610Z",
     "start_time": "2022-05-06T20:47:35.151599Z"
    }
   },
   "outputs": [],
   "source": [
    "# problema: Temos invoice com letras e numeros\n",
    "#df1['invoice_no'].astype( int )\n",
    "\n",
    "# identficacao: \n",
    "df_letter_invoices = df1.loc[df1['invoice_no'].apply( lambda x: bool( re.search( '[^0-9]+', x ) ) ), :]\n",
    "df_letter_invoices.head()\n",
    "\n",
    "print( 'Total number of invoices: {}'.format( len( df_letter_invoices ) ) )\n",
    "print( 'Total number of negative quantity: {}'.format( len( df_letter_invoices[ df_letter_invoices['quantity'] < 0 ] ) ) )"
   ]
  },
  {
   "cell_type": "markdown",
   "metadata": {},
   "source": [
    "#### Stock Code"
   ]
  },
  {
   "cell_type": "code",
   "execution_count": null,
   "metadata": {
    "ExecuteTime": {
     "end_time": "2022-05-06T20:47:35.152504Z",
     "start_time": "2022-05-06T20:47:35.152490Z"
    }
   },
   "outputs": [],
   "source": [
    "# check stock codes only characters\n",
    "df1.loc[df1['stock_code'].apply( lambda x: bool( re.search( '^[a-zA-Z]+$', x ) ) ), 'stock_code'].unique()\n",
    "\n",
    "# Acão:\n",
    "## 1. Remove stock_code in ['POST', 'D', 'M', 'PADS', 'DOT', 'CRUK']"
   ]
  },
  {
   "cell_type": "markdown",
   "metadata": {},
   "source": [
    "#### Description"
   ]
  },
  {
   "cell_type": "code",
   "execution_count": null,
   "metadata": {
    "ExecuteTime": {
     "end_time": "2022-05-06T20:47:35.153376Z",
     "start_time": "2022-05-06T20:47:35.153365Z"
    }
   },
   "outputs": [],
   "source": [
    "df1.head()\n",
    "\n",
    "# Acão: Delete description"
   ]
  },
  {
   "cell_type": "markdown",
   "metadata": {},
   "source": [
    "#### Country"
   ]
  },
  {
   "cell_type": "code",
   "execution_count": null,
   "metadata": {
    "ExecuteTime": {
     "end_time": "2022-05-06T20:47:35.154344Z",
     "start_time": "2022-05-06T20:47:35.154330Z"
    }
   },
   "outputs": [],
   "source": [
    "df1['country'].unique()"
   ]
  },
  {
   "cell_type": "code",
   "execution_count": null,
   "metadata": {
    "ExecuteTime": {
     "end_time": "2022-05-06T20:47:35.155151Z",
     "start_time": "2022-05-06T20:47:35.155140Z"
    }
   },
   "outputs": [],
   "source": [
    "df1['country'].value_counts( normalize=True ).head()"
   ]
  },
  {
   "cell_type": "code",
   "execution_count": null,
   "metadata": {
    "ExecuteTime": {
     "end_time": "2022-05-06T20:47:35.156370Z",
     "start_time": "2022-05-06T20:47:35.156355Z"
    }
   },
   "outputs": [],
   "source": [
    "df1[['customer_id', 'country']].drop_duplicates().groupby( 'country' ).count().reset_index().sort_values( 'customer_id', ascending=False).head()"
   ]
  },
  {
   "cell_type": "markdown",
   "metadata": {},
   "source": [
    "# <font color='red'> 2.0. Filtragem de Variáveis </font>"
   ]
  },
  {
   "cell_type": "code",
   "execution_count": null,
   "metadata": {
    "ExecuteTime": {
     "end_time": "2022-05-06T20:47:35.157531Z",
     "start_time": "2022-05-06T20:47:35.157516Z"
    }
   },
   "outputs": [],
   "source": [
    "df2 = df1.copy()"
   ]
  },
  {
   "cell_type": "code",
   "execution_count": null,
   "metadata": {
    "ExecuteTime": {
     "end_time": "2022-05-06T20:47:35.158270Z",
     "start_time": "2022-05-06T20:47:35.158259Z"
    }
   },
   "outputs": [],
   "source": [
    "df2.dtypes"
   ]
  },
  {
   "cell_type": "code",
   "execution_count": null,
   "metadata": {
    "ExecuteTime": {
     "end_time": "2022-05-06T20:47:35.159160Z",
     "start_time": "2022-05-06T20:47:35.159149Z"
    }
   },
   "outputs": [],
   "source": [
    "# === Numerical attributes ====\n",
    "df2 = df2.loc[df2['unit_price'] >= 0.04, :]\n",
    "\n",
    "# === Categorical attributes ====\n",
    "df2 = df2[~df2['stock_code'].isin( ['POST', 'D', 'DOT', 'M', 'S', 'AMAZONFEE', 'm', 'DCGSSBOY', 'DCGSSGIRL', 'PADS', 'B', 'CRUK'] ) ]\n",
    "\n",
    "# description\n",
    "df2 = df2.drop( columns='description', axis=1 )\n",
    "\n",
    "# map -  \n",
    "df2 = df2[~df2['country'].isin( ['European Community', 'Unspecified' ] ) ]\n",
    "\n",
    "# bad users\n",
    "df2 = df2[~df2['customer_id'].isin( [16446] )]\n",
    "\n",
    "# quantity\n",
    "df2_returns = df2.loc[df1['quantity'] < 0, :]\n",
    "df2_purchases = df2.loc[df1['quantity'] >= 0, :]"
   ]
  },
  {
   "cell_type": "markdown",
   "metadata": {},
   "source": [
    "# <font color='red'> 3.0. Feature Engineering </font>"
   ]
  },
  {
   "cell_type": "code",
   "execution_count": null,
   "metadata": {
    "ExecuteTime": {
     "end_time": "2022-05-06T20:47:35.160041Z",
     "start_time": "2022-05-06T20:47:35.160031Z"
    }
   },
   "outputs": [],
   "source": [
    "# Feature Ideas:\n",
    "## Moving Average - 7d, 14d, 30d\n",
    "## Quantidade de Compras por mês, antes do dia 15 e depois do dia 15\n",
    "## Average Financial\n",
    "## Basket Size * Price - Quantidade de preços por cesta\n",
    "\n",
    "########\n",
    "###\n",
    "###\n",
    "#######"
   ]
  },
  {
   "cell_type": "code",
   "execution_count": null,
   "metadata": {
    "ExecuteTime": {
     "end_time": "2022-05-06T20:47:35.160937Z",
     "start_time": "2022-05-06T20:47:35.160925Z"
    }
   },
   "outputs": [],
   "source": [
    "df3 = df2.copy()"
   ]
  },
  {
   "cell_type": "markdown",
   "metadata": {},
   "source": [
    "## 3.1. Feature Creation"
   ]
  },
  {
   "cell_type": "code",
   "execution_count": null,
   "metadata": {
    "ExecuteTime": {
     "end_time": "2022-05-06T20:47:35.161738Z",
     "start_time": "2022-05-06T20:47:35.161727Z"
    }
   },
   "outputs": [],
   "source": [
    "# data reference\n",
    "df_ref = df3.drop( ['invoice_no', 'stock_code', 'quantity', 'invoice_date', 'unit_price', 'country'], axis=1 ).drop_duplicates( ignore_index=True )"
   ]
  },
  {
   "cell_type": "code",
   "execution_count": null,
   "metadata": {
    "ExecuteTime": {
     "end_time": "2022-05-06T20:47:35.162634Z",
     "start_time": "2022-05-06T20:47:35.162622Z"
    }
   },
   "outputs": [],
   "source": [
    "df_ref.shape"
   ]
  },
  {
   "cell_type": "markdown",
   "metadata": {},
   "source": [
    "### 3.1.1. Gross Revenue"
   ]
  },
  {
   "cell_type": "code",
   "execution_count": null,
   "metadata": {
    "ExecuteTime": {
     "end_time": "2022-05-06T20:47:35.163458Z",
     "start_time": "2022-05-06T20:47:35.163447Z"
    }
   },
   "outputs": [],
   "source": [
    "# Gross Revenue ( Faturamento ) quantity * price\n",
    "df2_purchases.loc[:, 'gross_revenue'] = df2_purchases.loc[:, 'quantity'] * df2_purchases.loc[:, 'unit_price']\n",
    "\n",
    "# Monetary\n",
    "df_monetary = df2_purchases.loc[:, ['customer_id', 'gross_revenue']].groupby( 'customer_id' ).sum().reset_index()\n",
    "df_ref = pd.merge( df_ref, df_monetary, on='customer_id', how='left' )\n",
    "df_ref.isna().sum()"
   ]
  },
  {
   "cell_type": "markdown",
   "metadata": {},
   "source": [
    "### 3.1.2. Recency - Day from last purchase"
   ]
  },
  {
   "cell_type": "code",
   "execution_count": null,
   "metadata": {
    "ExecuteTime": {
     "end_time": "2022-05-06T20:47:35.164325Z",
     "start_time": "2022-05-06T20:47:35.164313Z"
    }
   },
   "outputs": [],
   "source": [
    "# Recency - Last day purchase\n",
    "df_recency = df2_purchases.loc[:, ['customer_id', 'invoice_date']].groupby( 'customer_id' ).max().reset_index()\n",
    "df_recency['recency_days'] = ( df2['invoice_date'].max() - df_recency['invoice_date'] ).dt.days\n",
    "df_recency = df_recency[['customer_id', 'recency_days']].copy()\n",
    "df_ref = pd.merge( df_ref, df_recency, on='customer_id', how='left' )\n",
    "df_ref.isna().sum()"
   ]
  },
  {
   "cell_type": "markdown",
   "metadata": {},
   "source": [
    "### 3.1.3. Quantity of purchased "
   ]
  },
  {
   "cell_type": "code",
   "execution_count": null,
   "metadata": {
    "ExecuteTime": {
     "end_time": "2022-05-06T20:47:35.165152Z",
     "start_time": "2022-05-06T20:47:35.165142Z"
    }
   },
   "outputs": [],
   "source": [
    "# Numero de produtos\n",
    "df_freq = (df2_purchases.loc[:, ['customer_id', 'invoice_no']].drop_duplicates()\n",
    "                                                             .groupby( 'customer_id' )\n",
    "                                                             .count()\n",
    "                                                             .reset_index()\n",
    "                                                             .rename( columns={'invoice_no': 'qtde_invoices'}) )\n",
    "df_ref = pd.merge( df_ref, df_freq, on='customer_id', how='left' )\n",
    "df_ref.isna().sum()"
   ]
  },
  {
   "cell_type": "markdown",
   "metadata": {},
   "source": [
    "### 3.1.4. Quantity total of items purchased "
   ]
  },
  {
   "cell_type": "code",
   "execution_count": null,
   "metadata": {
    "ExecuteTime": {
     "end_time": "2022-05-06T20:47:35.166191Z",
     "start_time": "2022-05-06T20:47:35.166180Z"
    }
   },
   "outputs": [],
   "source": [
    "# Numero de produtos\n",
    "df_freq = (df2_purchases.loc[:, ['customer_id', 'quantity']].groupby( 'customer_id' ).sum()\n",
    "                                                           .reset_index()\n",
    "                                                           .rename( columns={'quantity': 'qtde_items'} ) )\n",
    "df_ref = pd.merge( df_ref, df_freq, on='customer_id', how='left' )\n",
    "df_ref.isna().sum()"
   ]
  },
  {
   "cell_type": "markdown",
   "metadata": {},
   "source": [
    "### 3.1.5. Quantity of products purchased "
   ]
  },
  {
   "cell_type": "code",
   "execution_count": null,
   "metadata": {
    "ExecuteTime": {
     "end_time": "2022-05-06T20:47:35.167051Z",
     "start_time": "2022-05-06T20:47:35.167040Z"
    }
   },
   "outputs": [],
   "source": [
    "# Numero de produtos\n",
    "df_freq = (df2_purchases.loc[:, ['customer_id', 'stock_code']].groupby( 'customer_id' ).count()\n",
    "                                                           .reset_index()\n",
    "                                                           .rename( columns={'stock_code': 'qtde_products'} ) )\n",
    "df_ref = pd.merge( df_ref, df_freq, on='customer_id', how='left' )\n",
    "df_ref.isna().sum()"
   ]
  },
  {
   "cell_type": "markdown",
   "metadata": {},
   "source": [
    "### 3.1.6. Average Ticket Value "
   ]
  },
  {
   "cell_type": "code",
   "execution_count": null,
   "metadata": {
    "ExecuteTime": {
     "end_time": "2022-05-06T20:47:35.167965Z",
     "start_time": "2022-05-06T20:47:35.167954Z"
    }
   },
   "outputs": [],
   "source": [
    "# Avg Ticket\n",
    "df_avg_ticket = df2_purchases.loc[:, ['customer_id', 'gross_revenue']].groupby( 'customer_id' ).mean().reset_index().rename( columns={'gross_revenue':'avg_ticket'} )\n",
    "df_ref = pd.merge( df_ref, df_avg_ticket, on='customer_id', how='left')\n",
    "df_ref.isna().sum()"
   ]
  },
  {
   "cell_type": "markdown",
   "metadata": {},
   "source": [
    "### 3.1.7. Average Recency Days "
   ]
  },
  {
   "cell_type": "code",
   "execution_count": null,
   "metadata": {
    "ExecuteTime": {
     "end_time": "2022-05-06T20:47:35.168925Z",
     "start_time": "2022-05-06T20:47:35.168913Z"
    }
   },
   "outputs": [],
   "source": [
    "# Average recency days\n",
    "df_aux = df2[['customer_id', 'invoice_date']].drop_duplicates().sort_values( ['customer_id', 'invoice_date'], ascending=['False', 'False'] )\n",
    "df_aux['next_customer_id'] = df_aux['customer_id'].shift() # next customer\n",
    "df_aux['previous_date'] = df_aux['invoice_date'].shift() # next invoince date\n",
    "\n",
    "df_aux['avg_recency_days'] = df_aux.apply( lambda x: ( x['invoice_date'] - x['previous_date'] ).days if x['customer_id'] == x['next_customer_id'] else np.nan, axis=1 )\n",
    "\n",
    "df_aux = df_aux.drop( ['invoice_date', 'next_customer_id', 'previous_date'], axis=1 ).dropna()\n",
    "\n",
    "# average recency \n",
    "df_avg_recency_days = df_aux.groupby( 'customer_id' ).mean().reset_index()\n",
    "\n",
    "# merge\n",
    "df_ref = pd.merge( df_ref, df_avg_recency_days, on='customer_id', how='left' )\n",
    "df_ref.isna().sum()"
   ]
  },
  {
   "cell_type": "markdown",
   "metadata": {},
   "source": [
    "### 3.1.8. Frequency Purchase "
   ]
  },
  {
   "cell_type": "code",
   "execution_count": null,
   "metadata": {
    "ExecuteTime": {
     "end_time": "2022-05-06T20:47:35.169774Z",
     "start_time": "2022-05-06T20:47:35.169763Z"
    }
   },
   "outputs": [],
   "source": [
    "df_aux = ( df2_purchases[['customer_id', 'invoice_no', 'invoice_date']].drop_duplicates()\n",
    "                                                             .groupby( 'customer_id')\n",
    "                                                             .agg( max_ = ( 'invoice_date', 'max' ), \n",
    "                                                                   min_ = ( 'invoice_date', 'min' ),\n",
    "                                                                   days_= ( 'invoice_date', lambda x: ( ( x.max() - x.min() ).days ) + 1 ),\n",
    "                                                                   buy_ = ( 'invoice_no', 'count' ) ) ).reset_index()\n",
    "# Frequency\n",
    "df_aux['frequency'] = df_aux[['buy_', 'days_']].apply( lambda x: x['buy_'] / x['days_'] if  x['days_'] != 0 else 0, axis=1 )\n",
    "\n",
    "# Merge\n",
    "df_ref = pd.merge( df_ref, df_aux[['customer_id', 'frequency']], on='customer_id', how='left' )\n",
    "\n",
    "df_ref.isna().sum()"
   ]
  },
  {
   "cell_type": "markdown",
   "metadata": {},
   "source": [
    "### 3.1.9. Number of Returns "
   ]
  },
  {
   "cell_type": "code",
   "execution_count": null,
   "metadata": {
    "ExecuteTime": {
     "end_time": "2022-05-06T20:47:35.170800Z",
     "start_time": "2022-05-06T20:47:35.170788Z"
    }
   },
   "outputs": [],
   "source": [
    "# Number of Returns\n",
    "df_returns = df2_returns[['customer_id', 'quantity']].groupby( 'customer_id' ).sum().reset_index().rename( columns={'quantity':'qtde_returns'} )\n",
    "df_returns['qtde_returns'] = df_returns['qtde_returns'] * -1\n",
    "\n",
    "df_ref = pd.merge( df_ref, df_returns, how='left', on='customer_id' )\n",
    "df_ref.loc[df_ref['qtde_returns'].isna(), 'qtde_returns'] = 0\n",
    "\n",
    "df_ref.isna().sum()"
   ]
  },
  {
   "cell_type": "markdown",
   "metadata": {},
   "source": [
    "### 3.2.0. Basket Size - Quantidade de Items por Cesta ( Quantity )"
   ]
  },
  {
   "cell_type": "markdown",
   "metadata": {},
   "source": [
    "- Invoice No = Compra = purchase\n",
    "- Stock Code = Produto = Product\n",
    "- Quantity = Item = Item"
   ]
  },
  {
   "cell_type": "code",
   "execution_count": null,
   "metadata": {
    "ExecuteTime": {
     "end_time": "2022-05-06T20:47:35.171576Z",
     "start_time": "2022-05-06T20:47:35.171565Z"
    }
   },
   "outputs": [],
   "source": [
    "df_aux = ( df2_purchases.loc[:, ['customer_id', 'invoice_no', 'quantity']].groupby( 'customer_id' )\n",
    "                                                                            .agg( n_purchase=( 'invoice_no', 'nunique'),\n",
    "                                                                                  n_products=( 'quantity', 'sum' ) )\n",
    "                                                                            .reset_index() )\n",
    "\n",
    "# calculation\n",
    "df_aux['avg_basket_size'] = df_aux['n_products'] / df_aux['n_purchase']\n",
    "\n",
    "# merge\n",
    "df_ref = pd.merge( df_ref, df_aux[['customer_id', 'avg_basket_size']], how='left', on='customer_id' )\n",
    "df_ref.isna().sum()"
   ]
  },
  {
   "cell_type": "markdown",
   "metadata": {},
   "source": [
    "### 3.2.1. Unique Basket Size - Quantidade de produtos distintos por compra "
   ]
  },
  {
   "cell_type": "code",
   "execution_count": null,
   "metadata": {
    "ExecuteTime": {
     "end_time": "2022-05-06T20:47:35.172603Z",
     "start_time": "2022-05-06T20:47:35.172590Z"
    }
   },
   "outputs": [],
   "source": [
    "# Trazer uma explicação mais clara sobre como calcular essa features"
   ]
  },
  {
   "cell_type": "code",
   "execution_count": null,
   "metadata": {
    "ExecuteTime": {
     "end_time": "2022-05-06T20:47:35.173281Z",
     "start_time": "2022-05-06T20:47:35.173271Z"
    }
   },
   "outputs": [],
   "source": [
    "df_aux = ( df2_purchases.loc[:, ['customer_id', 'invoice_no', 'stock_code']].groupby( 'customer_id' )\n",
    "                                                                            .agg( n_purchase=( 'invoice_no', 'nunique'),\n",
    "                                                                                   n_products=( 'stock_code', 'nunique' ) )\n",
    "                                                                            .reset_index() )\n",
    "\n",
    "# calculation\n",
    "df_aux['avg_unique_basket_size'] = df_aux['n_products'] / df_aux['n_purchase']\n",
    "\n",
    "# merge\n",
    "df_ref = pd.merge( df_ref, df_aux[['customer_id', 'avg_unique_basket_size']], how='left', on='customer_id' )\n",
    "df_ref.isna().sum()"
   ]
  },
  {
   "cell_type": "code",
   "execution_count": null,
   "metadata": {
    "ExecuteTime": {
     "end_time": "2022-05-06T20:47:35.174402Z",
     "start_time": "2022-05-06T20:47:35.174390Z"
    }
   },
   "outputs": [],
   "source": [
    "df_ref.head()"
   ]
  },
  {
   "cell_type": "code",
   "execution_count": null,
   "metadata": {
    "ExecuteTime": {
     "end_time": "2022-05-06T20:47:35.175080Z",
     "start_time": "2022-05-06T20:47:35.175070Z"
    }
   },
   "outputs": [],
   "source": [
    "df_ref.shape"
   ]
  },
  {
   "cell_type": "code",
   "execution_count": null,
   "metadata": {
    "ExecuteTime": {
     "end_time": "2022-05-06T20:47:35.176109Z",
     "start_time": "2022-05-06T20:47:35.176097Z"
    }
   },
   "outputs": [],
   "source": [
    "len( df_ref['customer_id'].unique() )"
   ]
  },
  {
   "cell_type": "code",
   "execution_count": null,
   "metadata": {
    "ExecuteTime": {
     "end_time": "2022-05-06T20:47:35.176818Z",
     "start_time": "2022-05-06T20:47:35.176808Z"
    }
   },
   "outputs": [],
   "source": [
    "df_ref.isna().sum()"
   ]
  },
  {
   "cell_type": "markdown",
   "metadata": {},
   "source": [
    "# <font color='red'> 4.0. EDA ( Exploratory Data Analysis ) </font>"
   ]
  },
  {
   "cell_type": "code",
   "execution_count": null,
   "metadata": {
    "ExecuteTime": {
     "end_time": "2022-05-06T20:47:35.177729Z",
     "start_time": "2022-05-06T20:47:35.177717Z"
    }
   },
   "outputs": [],
   "source": [
    "df4 = df_ref.dropna()\n",
    "df4.isna().sum()"
   ]
  },
  {
   "cell_type": "code",
   "execution_count": null,
   "metadata": {
    "ExecuteTime": {
     "end_time": "2022-05-06T20:47:35.178493Z",
     "start_time": "2022-05-06T20:47:35.178483Z"
    }
   },
   "outputs": [],
   "source": [
    "len( df4['customer_id'].unique() )"
   ]
  },
  {
   "cell_type": "code",
   "execution_count": null,
   "metadata": {
    "ExecuteTime": {
     "end_time": "2022-05-06T20:47:35.179485Z",
     "start_time": "2022-05-06T20:47:35.179474Z"
    }
   },
   "outputs": [],
   "source": [
    "df4.shape"
   ]
  },
  {
   "cell_type": "markdown",
   "metadata": {},
   "source": [
    "## 4.1. Univariate Analysis"
   ]
  },
  {
   "cell_type": "markdown",
   "metadata": {},
   "source": [
    "**Metricas para olharmos**\n",
    "1. Clusters Coesos - Separados\n",
    "2. Métricas\n",
    "    - Min, Máximo, Range ( Dispersão )\n",
    "    - Média e Mediana\n",
    "    - Desvio Padrão e Variância.\n",
    "    - Coeficiente de Variação ( CV )\n",
    "    - Distribuição"
   ]
  },
  {
   "cell_type": "markdown",
   "metadata": {},
   "source": [
    "**Investigar/Remover**\n",
    "\n",
    "1. Gross Revenue - ok"
   ]
  },
  {
   "cell_type": "code",
   "execution_count": null,
   "metadata": {
    "ExecuteTime": {
     "end_time": "2022-05-06T20:47:35.180304Z",
     "start_time": "2022-05-06T20:47:35.180294Z"
    }
   },
   "outputs": [],
   "source": [
    "#profile = ProfileReport( df4 )\n",
    "#profile.to_file( 'output_v3.html' )"
   ]
  },
  {
   "cell_type": "markdown",
   "metadata": {},
   "source": [
    "### 4.1.1. Gross Revenue"
   ]
  },
  {
   "cell_type": "code",
   "execution_count": null,
   "metadata": {
    "ExecuteTime": {
     "end_time": "2022-05-06T20:47:35.181092Z",
     "start_time": "2022-05-06T20:47:35.181081Z"
    }
   },
   "outputs": [],
   "source": [
    "df4.sort_values( 'gross_revenue', ascending=False ).head()"
   ]
  },
  {
   "cell_type": "code",
   "execution_count": null,
   "metadata": {
    "ExecuteTime": {
     "end_time": "2022-05-06T20:47:35.181990Z",
     "start_time": "2022-05-06T20:47:35.181980Z"
    }
   },
   "outputs": [],
   "source": [
    "df3[df3['customer_id'] == 14646].head()"
   ]
  },
  {
   "cell_type": "markdown",
   "metadata": {},
   "source": [
    "### 4.1.2. Qtde Items"
   ]
  },
  {
   "cell_type": "code",
   "execution_count": null,
   "metadata": {
    "ExecuteTime": {
     "end_time": "2022-05-06T20:47:35.182956Z",
     "start_time": "2022-05-06T20:47:35.182944Z"
    }
   },
   "outputs": [],
   "source": [
    "df4[df4['qtde_items'] == 196844]"
   ]
  },
  {
   "cell_type": "markdown",
   "metadata": {},
   "source": [
    "### 4.1.3. Qtde Products"
   ]
  },
  {
   "cell_type": "code",
   "execution_count": null,
   "metadata": {
    "ExecuteTime": {
     "end_time": "2022-05-06T20:47:35.183671Z",
     "start_time": "2022-05-06T20:47:35.183661Z"
    }
   },
   "outputs": [],
   "source": [
    "#df4[df4['qtde_products'] == 7838]\n",
    "df3[df3['customer_id'] == 17841].head()"
   ]
  },
  {
   "cell_type": "markdown",
   "metadata": {},
   "source": [
    "### 4.1.4. Avg Ticket"
   ]
  },
  {
   "cell_type": "code",
   "execution_count": null,
   "metadata": {
    "ExecuteTime": {
     "end_time": "2022-05-06T20:47:35.184617Z",
     "start_time": "2022-05-06T20:47:35.184604Z"
    }
   },
   "outputs": [],
   "source": [
    "#df4[df4['avg_ticket'] == 56157.5]\n",
    "df3[df3['customer_id'] == 16446]"
   ]
  },
  {
   "cell_type": "markdown",
   "metadata": {},
   "source": [
    "### 4.1.5. Frequency"
   ]
  },
  {
   "cell_type": "code",
   "execution_count": null,
   "metadata": {
    "ExecuteTime": {
     "end_time": "2022-05-06T20:47:35.185274Z",
     "start_time": "2022-05-06T20:47:35.185264Z"
    }
   },
   "outputs": [],
   "source": [
    "#df4[df4['frequency'] == 17]\n",
    "df3[df3['customer_id'] == 17850]"
   ]
  },
  {
   "cell_type": "markdown",
   "metadata": {},
   "source": [
    "### 4.1.6. Average Basket Size"
   ]
  },
  {
   "cell_type": "code",
   "execution_count": null,
   "metadata": {
    "ExecuteTime": {
     "end_time": "2022-05-06T20:47:35.186097Z",
     "start_time": "2022-05-06T20:47:35.186086Z"
    }
   },
   "outputs": [],
   "source": [
    "df4[df4['avg_basket_size'] == 40498.5]"
   ]
  },
  {
   "cell_type": "markdown",
   "metadata": {},
   "source": [
    "## 4.2. Bivariate Analysis"
   ]
  },
  {
   "cell_type": "code",
   "execution_count": null,
   "metadata": {
    "ExecuteTime": {
     "end_time": "2022-05-06T20:47:35.186888Z",
     "start_time": "2022-05-06T20:47:35.186878Z"
    }
   },
   "outputs": [],
   "source": [
    "cols = ['customer_id']\n",
    "df42 = df4.drop( cols, axis=1 )"
   ]
  },
  {
   "cell_type": "code",
   "execution_count": null,
   "metadata": {
    "ExecuteTime": {
     "end_time": "2022-05-06T20:47:35.187822Z",
     "start_time": "2022-05-06T20:47:35.187809Z"
    },
    "scrolled": false
   },
   "outputs": [],
   "source": [
    "plt.figure( figsize=(25, 12) )\n",
    "sns.pairplot( df42 )"
   ]
  },
  {
   "cell_type": "markdown",
   "metadata": {},
   "source": [
    "**Notes**\n",
    "1. Frequency has low variance\n",
    "2. Avg Ticket has low variance"
   ]
  },
  {
   "cell_type": "markdown",
   "metadata": {},
   "source": [
    "## 4.3. Estudo do Espaço"
   ]
  },
  {
   "cell_type": "code",
   "execution_count": null,
   "metadata": {
    "ExecuteTime": {
     "end_time": "2022-05-06T20:47:35.188602Z",
     "start_time": "2022-05-06T20:47:35.188592Z"
    }
   },
   "outputs": [],
   "source": [
    "# original dataset\n",
    "#df43 = df4.drop( columns=['customer_id'], axis=1 ).copy()\n",
    "\n",
    "# selected dataset\n",
    "cols_selected = ['customer_id', 'gross_revenue', 'recency_days', 'qtde_products', 'frequency', 'qtde_returns']\n",
    "df43 = df4[ cols_selected ].copy() "
   ]
  },
  {
   "cell_type": "code",
   "execution_count": null,
   "metadata": {
    "ExecuteTime": {
     "end_time": "2022-05-06T20:47:35.189535Z",
     "start_time": "2022-05-06T20:47:35.189524Z"
    }
   },
   "outputs": [],
   "source": [
    "mm = pp.MinMaxScaler()\n",
    "# \n",
    "\n",
    "df43['gross_revenue'] = mm.fit_transform( df43[['gross_revenue']] )\n",
    "df43['recency_days']           = mm.fit_transform( df43[['recency_days']] )\n",
    "#df43['qtde_invoices']          = mm.fit_transform( df43[['qtde_invoices']])\n",
    "#df43['qtde_items']             = mm.fit_transform( df43[['qtde_items']])\n",
    "df43['qtde_products']          = mm.fit_transform( df43[['qtde_products']])\n",
    "#df43['avg_ticket']             = mm.fit_transform( df43[['avg_ticket']])\n",
    "#df43['avg_recency_days']       = mm.fit_transform( df43[['avg_recency_days']])\n",
    "df43['frequency']              = mm.fit_transform( df43[['frequency']])\n",
    "df43['qtde_returns']           = mm.fit_transform( df43[['qtde_returns']])\n",
    "#df43['avg_basket_size']        = mm.fit_transform( df43[['avg_basket_size']])\n",
    "#df43['avg_unique_basket_size'] = mm.fit_transform( df43[['avg_unique_basket_size']] )\n",
    "\n",
    "\n",
    "X = df43.copy()"
   ]
  },
  {
   "cell_type": "code",
   "execution_count": null,
   "metadata": {
    "ExecuteTime": {
     "end_time": "2022-05-06T20:47:35.190154Z",
     "start_time": "2022-05-06T20:47:35.190144Z"
    }
   },
   "outputs": [],
   "source": [
    "X.shape"
   ]
  },
  {
   "cell_type": "markdown",
   "metadata": {},
   "source": [
    "### 4.3.1. PCA"
   ]
  },
  {
   "cell_type": "code",
   "execution_count": null,
   "metadata": {
    "ExecuteTime": {
     "end_time": "2022-05-06T20:47:35.191061Z",
     "start_time": "2022-05-06T20:47:35.191048Z"
    }
   },
   "outputs": [],
   "source": [
    "pca = dd.PCA( n_components=X.shape[1] )\n",
    "\n",
    "principal_components = pca.fit_transform( X )\n",
    "\n",
    "# plot explained variable\n",
    "features = range( pca.n_components_ )\n",
    "\n",
    "plt.bar( features, pca.explained_variance_ratio_, color='black' )\n",
    "\n",
    "# pca component\n",
    "df_pca = pd.DataFrame( principal_components )"
   ]
  },
  {
   "cell_type": "code",
   "execution_count": null,
   "metadata": {
    "ExecuteTime": {
     "end_time": "2022-05-06T20:47:35.191738Z",
     "start_time": "2022-05-06T20:47:35.191728Z"
    }
   },
   "outputs": [],
   "source": [
    "sns.scatterplot( x=0, y=1, data=df_pca )"
   ]
  },
  {
   "cell_type": "markdown",
   "metadata": {},
   "source": [
    "### 4.3.2. UMAP"
   ]
  },
  {
   "cell_type": "code",
   "execution_count": null,
   "metadata": {
    "ExecuteTime": {
     "end_time": "2022-05-06T20:47:35.192620Z",
     "start_time": "2022-05-06T20:47:35.192606Z"
    }
   },
   "outputs": [],
   "source": [
    "reducer = umap.UMAP( random_state=42 )\n",
    "embedding = reducer.fit_transform( X )\n",
    "\n",
    "# embedding\n",
    "df_pca['embedding_x'] = embedding[:, 0]\n",
    "df_pca['embedding_y'] = embedding[:, 1]\n",
    "\n",
    "# plot UMAP\n",
    "sns.scatterplot( x='embedding_x', \n",
    "                 y='embedding_y', \n",
    "                 data=df_pca )"
   ]
  },
  {
   "cell_type": "markdown",
   "metadata": {},
   "source": [
    "### 4.3.3. t-SNE"
   ]
  },
  {
   "cell_type": "code",
   "execution_count": null,
   "metadata": {
    "ExecuteTime": {
     "end_time": "2022-05-06T20:47:35.193341Z",
     "start_time": "2022-05-06T20:47:35.193331Z"
    }
   },
   "outputs": [],
   "source": [
    "reducer = mn.TSNE( n_components=2, n_jobs=-1, random_state=42 )\n",
    "embedding = reducer.fit_transform( X )\n",
    "\n",
    "# embedding\n",
    "df_pca['embedding_x'] = embedding[:, 0]\n",
    "df_pca['embedding_y'] = embedding[:, 1]\n",
    "\n",
    "# plot UMAP\n",
    "sns.scatterplot( x='embedding_x', \n",
    "                 y='embedding_y', \n",
    "                 data=df_pca )"
   ]
  },
  {
   "cell_type": "markdown",
   "metadata": {},
   "source": [
    "### 4.3.4. Tree-Based Embedding"
   ]
  },
  {
   "cell_type": "code",
   "execution_count": null,
   "metadata": {
    "ExecuteTime": {
     "end_time": "2022-05-06T20:47:35.194286Z",
     "start_time": "2022-05-06T20:47:35.194272Z"
    }
   },
   "outputs": [],
   "source": [
    "# training dataset\n",
    "X = df43.drop( columns=['customer_id', 'gross_revenue'], axis=1 )\n",
    "y = df43['gross_revenue']\n",
    "\n",
    "# model definition\n",
    "rf_model = en.RandomForestRegressor( n_estimators=100, random_state=42 )\n",
    "\n",
    "# model training\n",
    "rf_model.fit( X, y )\n",
    "\n",
    "# Leaf \n",
    "\n",
    "# dataframe Leaf"
   ]
  },
  {
   "cell_type": "code",
   "execution_count": null,
   "metadata": {
    "ExecuteTime": {
     "end_time": "2022-05-06T20:47:35.195013Z",
     "start_time": "2022-05-06T20:47:35.195003Z"
    }
   },
   "outputs": [],
   "source": [
    "df_leaf = pd.DataFrame( rf_model.apply( X ) )"
   ]
  },
  {
   "cell_type": "code",
   "execution_count": null,
   "metadata": {
    "ExecuteTime": {
     "end_time": "2022-05-06T20:47:35.196075Z",
     "start_time": "2022-05-06T20:47:35.196062Z"
    }
   },
   "outputs": [],
   "source": [
    "# Reduzer dimensionality\n",
    "reducer = umap.UMAP( random_state=42 )\n",
    "embedding = reducer.fit_transform( df_leaf )\n",
    "\n",
    "# embedding\n",
    "df_tree = pd.DataFrame()\n",
    "df_tree['embedding_x'] = embedding[:, 0]\n",
    "df_tree['embedding_y'] = embedding[:, 1]\n",
    "\n",
    "# plot UMAP\n",
    "sns.scatterplot( x='embedding_x', \n",
    "                 y='embedding_y', \n",
    "                 data=df_tree )"
   ]
  },
  {
   "cell_type": "markdown",
   "metadata": {},
   "source": [
    "# <font color='red'> 5.0. Data Preparation </font>"
   ]
  },
  {
   "cell_type": "code",
   "execution_count": null,
   "metadata": {
    "ExecuteTime": {
     "end_time": "2022-05-06T20:47:35.196847Z",
     "start_time": "2022-05-06T20:47:35.196836Z"
    }
   },
   "outputs": [],
   "source": [
    "#Padronização/Normalizção ( Standardization ) -> Premissa de que os dados vieram de um distribuição normal\n",
    "#Rescala      ( Rescale )         -> Não Premissa de que os dados vieram de um distribuição normal"
   ]
  },
  {
   "cell_type": "markdown",
   "metadata": {
    "ExecuteTime": {
     "end_time": "2021-07-13T23:43:09.857864Z",
     "start_time": "2021-07-13T23:43:09.853764Z"
    }
   },
   "source": [
    "**Regra do Coração**\n",
    "1. Distribuiçåo Normal e não possui Outlier -> Standard Scaler - Media e desvio padrao\n",
    "2. Distribuiçåo Normal e possuí Outlier -> Robust Scaler - Quartis\n",
    "3. Não distribuição normal -> Min Max Scaler"
   ]
  },
  {
   "cell_type": "code",
   "execution_count": null,
   "metadata": {
    "ExecuteTime": {
     "end_time": "2022-05-06T20:47:35.197765Z",
     "start_time": "2022-05-06T20:47:35.197752Z"
    }
   },
   "outputs": [],
   "source": [
    "#**Testes de Normalidade**\n",
    "#QQ Plot  - Quantile Quantile Plot ( Quatile teorica x Quantile real )\n",
    "#KS Teste - Kolgomorov Smirnoff ( Teste de Hipótese ) Se p-value > 0.5 -> Distribuição Normal, p-value < 0.5 -> Não distribuição Normal\n",
    "#\n",
    "#**Detecção Outlier** \n",
    "#Box Plot -> Pontos são identificados como Outliers\n",
    "#IRQ * 2.5 -> Acima desse valor ( Outlier )\n",
    "#\n",
    "#Z-Score > 3  -> Outilers\n",
    "#Z-Score < -3 -> Outliers"
   ]
  },
  {
   "cell_type": "code",
   "execution_count": null,
   "metadata": {
    "ExecuteTime": {
     "end_time": "2022-05-06T20:47:35.198507Z",
     "start_time": "2022-05-06T20:47:35.198496Z"
    }
   },
   "outputs": [],
   "source": [
    "#df5 = df4.copy()\n",
    "df5 = df_tree.copy()"
   ]
  },
  {
   "cell_type": "code",
   "execution_count": null,
   "metadata": {
    "ExecuteTime": {
     "end_time": "2022-05-06T20:47:35.199454Z",
     "start_time": "2022-05-06T20:47:35.199440Z"
    }
   },
   "outputs": [],
   "source": [
    "### Standard Scalaer\n",
    "#ss = pp.StandardScaler()\n",
    "#rs = pp.RobustScaler()\n",
    "#        \n",
    "#df5['gross_revenue'] = mm_gross_revenue.fit_transform( df5[['gross_revenue']] )\n",
    "#\n",
    "#df5['recency_days'] = mm.fit_transform( df5[['recency_days']] )\n",
    "#\n",
    "##df5['qtde_invoices'] = mm.fit_transform( df5[['qtde_invoices']] )\n",
    "#\n",
    "##df5['qtde_items'] = mm.fit_transform( df5[['qtde_items']] )\n",
    "#\n",
    "#df5['qtde_products'] = mm.fit_transform( df5[['qtde_products']] )\n",
    "#\n",
    "##df5['avg_ticket'] = mm.fit_transform( df5[['avg_ticket']] )\n",
    "#\n",
    "##df5['avg_recency_days'] = mm.fit_transform( df5[['avg_recency_days']] )\n",
    "#\n",
    "#df5['frequency'] = mm.fit_transform( df5[['frequency']] )\n",
    "#\n",
    "#df5['qtde_returns'] = mm.fit_transform( df5[['qtde_returns']] )\n",
    "#\n",
    "##df5['avg_basket_size'] = mm.fit_transform( df5[['avg_basket_size']] )\n",
    "#\n",
    "##df5['avg_unique_basket_size'] = mm.fit_transform( df5[['avg_unique_basket_size']] )"
   ]
  },
  {
   "cell_type": "markdown",
   "metadata": {},
   "source": [
    "# <font color='red'> 6.0. Feature Selection </font>"
   ]
  },
  {
   "cell_type": "code",
   "execution_count": null,
   "metadata": {
    "ExecuteTime": {
     "end_time": "2022-05-06T20:47:35.200192Z",
     "start_time": "2022-05-06T20:47:35.200182Z"
    }
   },
   "outputs": [],
   "source": [
    "#cols_selected = ['customer_id', 'gross_revenue', 'recency_days', 'qtde_products', 'frequency', 'qtde_returns']"
   ]
  },
  {
   "cell_type": "code",
   "execution_count": null,
   "metadata": {
    "ExecuteTime": {
     "end_time": "2022-05-06T20:47:35.201032Z",
     "start_time": "2022-05-06T20:47:35.201021Z"
    }
   },
   "outputs": [],
   "source": [
    "#df6 = df5[ cols_selected ].copy()\n",
    "df6 = df_tree.copy()"
   ]
  },
  {
   "cell_type": "markdown",
   "metadata": {},
   "source": [
    "# <font color='red'> 7.0. Hyperparameter Fine-Tunning </font>"
   ]
  },
  {
   "cell_type": "code",
   "execution_count": null,
   "metadata": {
    "ExecuteTime": {
     "end_time": "2022-05-06T20:47:35.201764Z",
     "start_time": "2022-05-06T20:47:35.201754Z"
    }
   },
   "outputs": [],
   "source": [
    "#X = df6.drop( columns=['customer_id'] )\n",
    "X = df_tree.copy()#df6.drop( columns=['customer_id'] )"
   ]
  },
  {
   "cell_type": "code",
   "execution_count": null,
   "metadata": {
    "ExecuteTime": {
     "end_time": "2022-05-06T20:47:35.202674Z",
     "start_time": "2022-05-06T20:47:35.202662Z"
    }
   },
   "outputs": [],
   "source": [
    "X.head()"
   ]
  },
  {
   "cell_type": "code",
   "execution_count": null,
   "metadata": {
    "ExecuteTime": {
     "end_time": "2022-05-06T20:47:35.203396Z",
     "start_time": "2022-05-06T20:47:35.203385Z"
    }
   },
   "outputs": [],
   "source": [
    "#clusters = [2, 3, 4, 5, 6, 7, 8, 9]\n",
    "clusters = np.arange( 2, 25, 1)\n",
    "clusters"
   ]
  },
  {
   "cell_type": "markdown",
   "metadata": {},
   "source": [
    "## 7.1. K-Means"
   ]
  },
  {
   "cell_type": "code",
   "execution_count": null,
   "metadata": {
    "ExecuteTime": {
     "end_time": "2022-05-06T20:47:35.204301Z",
     "start_time": "2022-05-06T20:47:35.204290Z"
    }
   },
   "outputs": [],
   "source": [
    "from sklearn import metrics as m"
   ]
  },
  {
   "cell_type": "code",
   "execution_count": null,
   "metadata": {
    "ExecuteTime": {
     "end_time": "2022-05-06T20:47:35.205091Z",
     "start_time": "2022-05-06T20:47:35.205081Z"
    }
   },
   "outputs": [],
   "source": [
    "kmeans_list = []\n",
    "for k in clusters:\n",
    "    # model definition\n",
    "    kmeans_model = c.KMeans( n_clusters=k )\n",
    "\n",
    "    # model training\n",
    "    kmeans_model.fit( X )\n",
    "\n",
    "    # model predict\n",
    "    labels = kmeans_model.predict( X )\n",
    "\n",
    "    # model performance\n",
    "    sil = m.silhouette_score( X, labels, metric='euclidean' )\n",
    "    kmeans_list.append( sil )"
   ]
  },
  {
   "cell_type": "code",
   "execution_count": null,
   "metadata": {
    "ExecuteTime": {
     "end_time": "2022-05-06T20:47:35.206085Z",
     "start_time": "2022-05-06T20:47:35.206072Z"
    }
   },
   "outputs": [],
   "source": [
    "plt.plot( clusters, kmeans_list, linestyle='--', marker='o', color='b' )\n",
    "plt.xlabel( 'K' );\n",
    "plt.ylabel( 'Silhouette Score' );\n",
    "plt.title( 'Silhouette Score x K' );"
   ]
  },
  {
   "cell_type": "markdown",
   "metadata": {},
   "source": [
    "## 7.2. GMM"
   ]
  },
  {
   "cell_type": "code",
   "execution_count": null,
   "metadata": {
    "ExecuteTime": {
     "end_time": "2022-05-06T20:47:35.206909Z",
     "start_time": "2022-05-06T20:47:35.206888Z"
    }
   },
   "outputs": [],
   "source": [
    "gmm_list = []\n",
    "for k in clusters:\n",
    "    # model definition\n",
    "    gmm_model = mx.GaussianMixture( n_components=k )\n",
    "\n",
    "    # model training\n",
    "    gmm_model.fit( X )\n",
    "\n",
    "    # model predict\n",
    "    labels = gmm_model.predict( X )\n",
    "\n",
    "    # model performance\n",
    "    sil = m.silhouette_score( X, labels, metric='euclidean' )\n",
    "    gmm_list.append( sil )"
   ]
  },
  {
   "cell_type": "code",
   "execution_count": null,
   "metadata": {
    "ExecuteTime": {
     "end_time": "2022-05-06T20:47:35.208211Z",
     "start_time": "2022-05-06T20:47:35.208200Z"
    }
   },
   "outputs": [],
   "source": [
    "plt.plot( clusters, gmm_list, linestyle='--', marker='o', color='b' )\n",
    "plt.xlabel( 'k');\n",
    "plt.ylabel( 'Silhouette Score');\n",
    "plt.title( 'Sil x K');"
   ]
  },
  {
   "cell_type": "markdown",
   "metadata": {},
   "source": [
    "## 7.3. Hierarchical Clustering"
   ]
  },
  {
   "cell_type": "code",
   "execution_count": null,
   "metadata": {
    "ExecuteTime": {
     "end_time": "2022-05-06T20:47:35.209386Z",
     "start_time": "2022-05-06T20:47:35.209375Z"
    }
   },
   "outputs": [],
   "source": [
    "from scipy.cluster import hierarchy as hc"
   ]
  },
  {
   "cell_type": "code",
   "execution_count": null,
   "metadata": {
    "ExecuteTime": {
     "end_time": "2022-05-06T20:47:35.210401Z",
     "start_time": "2022-05-06T20:47:35.210390Z"
    }
   },
   "outputs": [],
   "source": [
    "# model definition and training\n",
    "hc_model = hc.linkage( X, 'ward' )"
   ]
  },
  {
   "cell_type": "code",
   "execution_count": null,
   "metadata": {
    "ExecuteTime": {
     "end_time": "2022-05-06T20:47:35.211622Z",
     "start_time": "2022-05-06T20:47:35.211606Z"
    }
   },
   "outputs": [],
   "source": [
    "#hc.dendrogram( \n",
    "#    hc_model, \n",
    "#    leaf_rotation=90,\n",
    "#    leaf_font_size=8\n",
    "#)\n",
    "#\n",
    "#plt.plot()"
   ]
  },
  {
   "cell_type": "code",
   "execution_count": null,
   "metadata": {
    "ExecuteTime": {
     "end_time": "2022-05-06T20:47:35.212480Z",
     "start_time": "2022-05-06T20:47:35.212469Z"
    }
   },
   "outputs": [],
   "source": [
    "#hc.dendrogram( \n",
    "#    hc_model,\n",
    "#    truncate_mode='lastp',\n",
    "#    p=12,\n",
    "#    leaf_rotation=90,\n",
    "#    leaf_font_size=8,\n",
    "#    show_contracted=True\n",
    "#)\n",
    "#\n",
    "#plt.show()"
   ]
  },
  {
   "cell_type": "markdown",
   "metadata": {},
   "source": [
    "### 7.3.1. HClustering Silhouette Score"
   ]
  },
  {
   "cell_type": "code",
   "execution_count": null,
   "metadata": {
    "ExecuteTime": {
     "end_time": "2022-05-06T20:47:35.213366Z",
     "start_time": "2022-05-06T20:47:35.213354Z"
    }
   },
   "outputs": [],
   "source": [
    "hc_list = []\n",
    "for k in clusters:\n",
    "    # model definition & training\n",
    "    hc_model = hc.linkage( X, 'ward' )\n",
    "\n",
    "    # model predict\n",
    "    labels = hc.fcluster( hc_model, k, criterion='maxclust' )\n",
    "\n",
    "    # metrics\n",
    "    sil = m.silhouette_score( X, labels, metric='euclidean' )\n",
    "    hc_list.append( sil )"
   ]
  },
  {
   "cell_type": "code",
   "execution_count": null,
   "metadata": {
    "ExecuteTime": {
     "end_time": "2022-05-06T20:47:35.214469Z",
     "start_time": "2022-05-06T20:47:35.214457Z"
    }
   },
   "outputs": [],
   "source": [
    "plt.plot( clusters,  hc_list, linestyle='--', marker='o', color='b' )"
   ]
  },
  {
   "cell_type": "markdown",
   "metadata": {},
   "source": [
    "## 7.4. DBSCAN"
   ]
  },
  {
   "cell_type": "code",
   "execution_count": null,
   "metadata": {
    "ExecuteTime": {
     "end_time": "2022-05-06T20:47:35.215451Z",
     "start_time": "2022-05-06T20:47:35.215440Z"
    }
   },
   "outputs": [],
   "source": [
    "eps=2.00\n",
    "min_samples=20 \n",
    "\n",
    "# model definition\n",
    "dbscan_model = c.DBSCAN( eps=eps, min_samples=min_samples )\n",
    "\n",
    "# mode training & predict \n",
    "labels = dbscan_model.fit_predict( X )\n",
    "\n",
    "sil = m.silhouette_score( X, labels, metric='euclidean' )\n",
    "print( 'Silhouette Score: {}'.format( sil ) )\n",
    "print( 'Number of Clusters: {}'.format( len( unique( labels ) ) ) )\n",
    "print( unique( labels ) )"
   ]
  },
  {
   "cell_type": "code",
   "execution_count": null,
   "metadata": {
    "ExecuteTime": {
     "end_time": "2022-05-06T20:47:35.216271Z",
     "start_time": "2022-05-06T20:47:35.216259Z"
    }
   },
   "outputs": [],
   "source": [
    "from sklearn.neighbors import NearestNeighbors"
   ]
  },
  {
   "cell_type": "code",
   "execution_count": null,
   "metadata": {
    "ExecuteTime": {
     "end_time": "2022-05-06T20:47:35.217496Z",
     "start_time": "2022-05-06T20:47:35.217482Z"
    }
   },
   "outputs": [],
   "source": [
    "neighbors = NearestNeighbors( n_neighbors=min_samples ).fit( X )\n",
    "distances, indices = neighbors.kneighbors( X )"
   ]
  },
  {
   "cell_type": "code",
   "execution_count": null,
   "metadata": {
    "ExecuteTime": {
     "end_time": "2022-05-06T20:47:35.218608Z",
     "start_time": "2022-05-06T20:47:35.218595Z"
    },
    "cell_style": "split"
   },
   "outputs": [],
   "source": [
    "distances = np.sort( distances, axis=0 )\n",
    "distances = distances[:,1]\n",
    "plt.plot( distances )"
   ]
  },
  {
   "cell_type": "code",
   "execution_count": null,
   "metadata": {
    "ExecuteTime": {
     "end_time": "2022-05-06T20:47:35.219701Z",
     "start_time": "2022-05-06T20:47:35.219689Z"
    },
    "cell_style": "split"
   },
   "outputs": [],
   "source": [
    "plt.plot( distances[2000:] )"
   ]
  },
  {
   "cell_type": "code",
   "execution_count": null,
   "metadata": {
    "ExecuteTime": {
     "end_time": "2022-05-06T20:47:35.220832Z",
     "start_time": "2022-05-06T20:47:35.220820Z"
    }
   },
   "outputs": [],
   "source": [
    "dbscan_list = [ 0.622034, 0.000000, 0.000000, 0.000000, 0.000000, 0.000000]"
   ]
  },
  {
   "cell_type": "code",
   "execution_count": null,
   "metadata": {},
   "outputs": [],
   "source": []
  },
  {
   "cell_type": "markdown",
   "metadata": {},
   "source": [
    "## 7.5. Results"
   ]
  },
  {
   "cell_type": "code",
   "execution_count": null,
   "metadata": {
    "ExecuteTime": {
     "end_time": "2022-05-06T20:47:35.221748Z",
     "start_time": "2022-05-06T20:47:35.221737Z"
    },
    "code_folding": []
   },
   "outputs": [],
   "source": [
    "# Model Name | k=2 | k=3 | k=4 | k=5 | ...\n",
    "#  Kmeans      SS    SS    SS    SS\n",
    "#  GMM         SS    SS    SS    SS\n",
    "#  HC         SS     SS    SS    SS\n",
    "#  DBSCAN     SS    SS    SS    SS\n",
    "\n",
    "df_results = pd.DataFrame( \n",
    "    {'KMeans': kmeans_list, \n",
    "     'GMM': gmm_list, \n",
    "     'HC': hc_list}\n",
    "     #'DBSCAN': dbscan_list}\n",
    ").T\n",
    "\n",
    "df_results.columns = clusters"
   ]
  },
  {
   "cell_type": "code",
   "execution_count": null,
   "metadata": {
    "ExecuteTime": {
     "end_time": "2022-05-06T20:47:35.223369Z",
     "start_time": "2022-05-06T20:47:35.223353Z"
    }
   },
   "outputs": [],
   "source": [
    "df_results.style.highlight_max( color='lightgreen', axis=1 )"
   ]
  },
  {
   "cell_type": "code",
   "execution_count": null,
   "metadata": {
    "ExecuteTime": {
     "end_time": "2022-05-06T20:47:35.224799Z",
     "start_time": "2022-05-06T20:47:35.224786Z"
    }
   },
   "outputs": [],
   "source": [
    "df_results.style.highlight_max( color='lightgreen', axis=1 )"
   ]
  },
  {
   "cell_type": "markdown",
   "metadata": {},
   "source": [
    "## 7.6. Silhouette Analysis"
   ]
  },
  {
   "cell_type": "code",
   "execution_count": null,
   "metadata": {
    "ExecuteTime": {
     "end_time": "2022-05-06T20:47:35.225754Z",
     "start_time": "2022-05-06T20:47:35.225743Z"
    }
   },
   "outputs": [],
   "source": [
    "fig, ax = plt.subplots( 3, 2 )\n",
    "fig.set_size_inches( 25, 20 )\n",
    "\n",
    "for k in clusters:\n",
    "    q, mod = divmod( k, 2 )\n",
    "    \n",
    "    ax[q-1, mod].set_xlim( [ -0.1, 1] )\n",
    "    ax[q-1, mod].set_ylim( [ 0, len( X ) + ( k+1 )*10] )\n",
    "    \n",
    "    # model definition & training\n",
    "    hc_model = hc.linkage( X, 'ward' )\n",
    "\n",
    "    # model predict\n",
    "    labels = hc.fcluster( hc_model, k, criterion='maxclust' )\n",
    "\n",
    "    # performance\n",
    "    ss = m.silhouette_score( X, labels, metric='euclidean' )\n",
    "    print( ' For K = {}. Silhouette Score: {}'.format( k, ss ) )\n",
    "\n",
    "    samples_silhouette_values = m.silhouette_samples( X, labels )\n",
    "\n",
    "    y_lower = 10\n",
    "    for i in range( k ):\n",
    "\n",
    "        # select clusters\n",
    "        ith_samples_silhouette_values = samples_silhouette_values[ labels == i]\n",
    "        \n",
    "        # sort values\n",
    "        ith_samples_silhouette_values.sort()\n",
    "\n",
    "        # size clusters\n",
    "        size_cluster_i = ith_samples_silhouette_values.shape[0]\n",
    "        y_upper = y_lower + size_cluster_i\n",
    "        \n",
    "        cmap = cm.get_cmap( 'Spectral' )\n",
    "        color = cmap( i / k )\n",
    "\n",
    "        ax[q-1, mod].fill_betweenx( np.arange( y_lower, y_upper ), 0, ith_samples_silhouette_values  )\n",
    "        \n",
    "        y_lower = y_upper + 10\n",
    "        \n",
    "    ax[q-1, mod].set_yticks([])\n",
    "    ax[q-1, mod].set_xticks( [-0.1, 0, 0.2, 0.4, 0.6, 0.8, 1])"
   ]
  },
  {
   "cell_type": "markdown",
   "metadata": {},
   "source": [
    "# <font color='red'> 8.0. Model Training </font>"
   ]
  },
  {
   "cell_type": "markdown",
   "metadata": {},
   "source": [
    "## 8.1. Final model"
   ]
  },
  {
   "cell_type": "code",
   "execution_count": null,
   "metadata": {
    "ExecuteTime": {
     "end_time": "2022-05-06T20:47:35.226929Z",
     "start_time": "2022-05-06T20:47:35.226909Z"
    }
   },
   "outputs": [],
   "source": [
    "# model definition\n",
    "k = 8\n",
    "#kmeans = c.KMeans( init='random', n_clusters=k, n_init=10, max_iter=300, random_state=32 )\n",
    "#\n",
    "## model training\n",
    "#kmeans.fit( X )\n",
    "#\n",
    "## clustering\n",
    "#labels = kmeans.labels_"
   ]
  },
  {
   "cell_type": "code",
   "execution_count": null,
   "metadata": {
    "ExecuteTime": {
     "end_time": "2022-05-06T20:47:35.228067Z",
     "start_time": "2022-05-06T20:47:35.228055Z"
    }
   },
   "outputs": [],
   "source": [
    "## model definition\n",
    "gmm_model = mx.GaussianMixture( n_components=k, n_init=300, random_state=32 )\n",
    "\n",
    "# model training\n",
    "gmm_model.fit( X )\n",
    "\n",
    "# model predict\n",
    "labels = gmm_model.predict( X )"
   ]
  },
  {
   "cell_type": "code",
   "execution_count": null,
   "metadata": {
    "ExecuteTime": {
     "end_time": "2022-05-06T20:47:35.229076Z",
     "start_time": "2022-05-06T20:47:35.229057Z"
    }
   },
   "outputs": [],
   "source": [
    "## index of new cluster name\n",
    "#idx = np.argsort( gmm_model.means_.sum( axis=1 ) )\n",
    "#\n",
    "## new cluster label\n",
    "#new_cluster_label = np.zeros_like( idx )\n",
    "#\n",
    "## cluster name\n",
    "#cluster_name = [10, 11, 12, 13, 14, 15, 16, 17]\n",
    "#\n",
    "## assigning new cluster names\n",
    "#new_cluster_label[idx] = cluster_name\n",
    "#labels = new_cluster_label[ labels ]"
   ]
  },
  {
   "cell_type": "code",
   "execution_count": null,
   "metadata": {},
   "outputs": [],
   "source": []
  },
  {
   "cell_type": "markdown",
   "metadata": {},
   "source": [
    "## 8.2. Cluster Validation"
   ]
  },
  {
   "cell_type": "code",
   "execution_count": null,
   "metadata": {
    "ExecuteTime": {
     "end_time": "2022-05-06T20:47:35.230297Z",
     "start_time": "2022-05-06T20:47:35.230283Z"
    }
   },
   "outputs": [],
   "source": [
    "## WSS ( Within-cluster sum of square)\n",
    "#print( 'WSS value: {}'.format( kmeans.inertia_ ) )\n",
    "\n",
    "## SS ( Silhouette Score )\n",
    "print( 'SS value: {}'.format( m.silhouette_score( X, labels, metric='euclidean' ) ) )"
   ]
  },
  {
   "cell_type": "markdown",
   "metadata": {},
   "source": [
    "# <font color='red'> 9.0. Cluster Analysis </font>"
   ]
  },
  {
   "cell_type": "code",
   "execution_count": null,
   "metadata": {
    "ExecuteTime": {
     "end_time": "2022-05-06T20:47:35.231432Z",
     "start_time": "2022-05-06T20:47:35.231415Z"
    }
   },
   "outputs": [],
   "source": [
    "df9 = X.copy()\n",
    "df9['cluster'] = labels"
   ]
  },
  {
   "cell_type": "markdown",
   "metadata": {},
   "source": [
    "## 9.1. Visualization Inspection"
   ]
  },
  {
   "cell_type": "code",
   "execution_count": null,
   "metadata": {
    "ExecuteTime": {
     "end_time": "2022-05-06T20:47:35.232335Z",
     "start_time": "2022-05-06T20:47:35.232323Z"
    }
   },
   "outputs": [],
   "source": [
    "sns.scatterplot( x='embedding_x', y='embedding_y', hue='cluster', data=df9, palette='deep')"
   ]
  },
  {
   "cell_type": "code",
   "execution_count": null,
   "metadata": {
    "ExecuteTime": {
     "end_time": "2022-05-06T20:47:35.233417Z",
     "start_time": "2022-05-06T20:47:35.233404Z"
    }
   },
   "outputs": [],
   "source": [
    "#visualizer = SilhouetteVisualizer( kmeans, colors='yellowbrick' )\n",
    "#visualizer.fit( X )\n",
    "#visualizer.finalize()"
   ]
  },
  {
   "cell_type": "markdown",
   "metadata": {},
   "source": [
    "## 9.2. 2d plot"
   ]
  },
  {
   "cell_type": "code",
   "execution_count": null,
   "metadata": {
    "ExecuteTime": {
     "end_time": "2022-05-06T20:47:35.234191Z",
     "start_time": "2022-05-06T20:47:35.234179Z"
    }
   },
   "outputs": [],
   "source": [
    "#df_viz = df9.drop( columns='customer_id', axis=1 )\n",
    "#sns.pairplot( df_viz, hue='cluster' )"
   ]
  },
  {
   "cell_type": "markdown",
   "metadata": {},
   "source": [
    "## 9.3. UMAP\n"
   ]
  },
  {
   "cell_type": "code",
   "execution_count": null,
   "metadata": {
    "ExecuteTime": {
     "end_time": "2022-05-06T20:47:35.235235Z",
     "start_time": "2022-05-06T20:47:35.235222Z"
    },
    "hide_input": false
   },
   "outputs": [],
   "source": [
    "#reducer = umap.UMAP( n_neighbors=90, random_state=42 )\n",
    "#embedding = reducer.fit_transform( X )\n",
    "#\n",
    "## embedding\n",
    "#df_viz['embedding_x'] = embedding[:, 0]\n",
    "#df_viz['embedding_y'] = embedding[:, 1]\n",
    "#\n",
    "## plot UMAP\n",
    "#sns.scatterplot( x='embedding_x', y='embedding_y', \n",
    "#                 hue='cluster', \n",
    "#                 palette=sns.color_palette( 'hls', n_colors=len( df_viz['cluster'].unique() ) ),\n",
    "#                 data=df_viz )"
   ]
  },
  {
   "cell_type": "markdown",
   "metadata": {},
   "source": [
    "## 9.4. Cluster Profile"
   ]
  },
  {
   "cell_type": "code",
   "execution_count": null,
   "metadata": {
    "ExecuteTime": {
     "end_time": "2022-05-06T20:47:35.236002Z",
     "start_time": "2022-05-06T20:47:35.235990Z"
    }
   },
   "outputs": [],
   "source": [
    "df92 = df4[ cols_selected ].copy()\n",
    "df92['cluster'] = labels\n",
    "df92.head()"
   ]
  },
  {
   "cell_type": "code",
   "execution_count": null,
   "metadata": {
    "ExecuteTime": {
     "end_time": "2022-05-06T20:47:35.237039Z",
     "start_time": "2022-05-06T20:47:35.237007Z"
    }
   },
   "outputs": [],
   "source": [
    "# Number of customer\n",
    "df_cluster = df92[['customer_id', 'cluster']].groupby( 'cluster' ).count().reset_index()\n",
    "df_cluster['perc_customer'] = 100*( df_cluster['customer_id'] / df_cluster['customer_id'].sum() )\n",
    "\n",
    "# Avg Gross revenue\n",
    "df_avg_gross_revenue = df92[['gross_revenue', 'cluster']].groupby( 'cluster' ).mean().reset_index()\n",
    "df_cluster = pd.merge( df_cluster, df_avg_gross_revenue, how='inner', on='cluster' )\n",
    "\n",
    "# Avg recency days\n",
    "df_avg_recency_days = df92[['recency_days', 'cluster']].groupby( 'cluster' ).mean().reset_index()\n",
    "df_cluster = pd.merge( df_cluster, df_avg_recency_days, how='inner', on='cluster' )\n",
    "\n",
    "# Avg invoice_no\n",
    "df_qtde_products = df92[['qtde_products', 'cluster']].groupby( 'cluster' ).mean().reset_index()\n",
    "df_cluster = pd.merge( df_cluster, df_qtde_products, how='inner', on='cluster' )\n",
    "\n",
    "# Frequency\n",
    "df_frequency = df92[['frequency', 'cluster']].groupby( 'cluster' ).mean().reset_index()\n",
    "df_cluster = pd.merge( df_cluster, df_frequency, how='inner', on='cluster' )\n",
    "\n",
    "# Returns\n",
    "df_qtde_returns = df92[['qtde_returns', 'cluster']].groupby( 'cluster' ).mean().reset_index()\n",
    "df_cluster = pd.merge( df_cluster, df_qtde_returns, how='inner', on='cluster' )\n",
    "\n",
    "df_cluster.sort_values( 'gross_revenue', ascending=False )"
   ]
  },
  {
   "cell_type": "code",
   "execution_count": null,
   "metadata": {
    "ExecuteTime": {
     "end_time": "2022-05-06T20:47:35.237970Z",
     "start_time": "2022-05-06T20:47:35.237958Z"
    }
   },
   "outputs": [],
   "source": [
    "# 3 Cluster Insiders\n",
    "# 4 Cluster More Products\n",
    "# 0 Cluster Spend Money \n",
    "# 2 Cluster Even More Products\n",
    "# 5 Cluster Less Days\n",
    "# 7 Cluster Less 1k\n",
    "# 6 Cluster Stop Returners\n",
    "# 1 Cluster More Buy"
   ]
  },
  {
   "cell_type": "markdown",
   "metadata": {},
   "source": [
    "### Cluster 01:  ( Candidato à Insider )\n",
    "    - Número de customers: 468 (16% do customers )\n",
    "    - Faturamento médio: 8836\n",
    "    - Recência média: 21 dias\n",
    "    - Média de Produtos comprados: 424 produtos\n",
    "    - Frequência de Produtos comprados: 0.09 produtos/dia\n",
    "    - Receita em média: $8836.13,00 dólares\n",
    "        \n",
    "### Cluster 02: \n",
    "    - Número de customers: 31 (0.71 do customers )\n",
    "    - Recência em média: 14 dias\n",
    "    - Compras em média: 53 compras\n",
    "    - Receita em média: $40.543,52 dólares\n",
    "        \n",
    "### Cluster 03: \n",
    "    - Número de customers: 4.335 (99% do customers )\n",
    "    - Recência em média: 92 dias\n",
    "    - Compras em média: 5 compras\n",
    "    - Receita em média: $1.372,57 dólares"
   ]
  },
  {
   "cell_type": "markdown",
   "metadata": {},
   "source": [
    "# <font color='red'> 10.0. Análise Exploratória de Dados </font>"
   ]
  },
  {
   "cell_type": "code",
   "execution_count": null,
   "metadata": {
    "ExecuteTime": {
     "end_time": "2022-05-06T20:47:35.239146Z",
     "start_time": "2022-05-06T20:47:35.239134Z"
    }
   },
   "outputs": [],
   "source": [
    "df10 = df92.copy()"
   ]
  },
  {
   "cell_type": "code",
   "execution_count": null,
   "metadata": {
    "ExecuteTime": {
     "end_time": "2022-05-06T20:47:35.240183Z",
     "start_time": "2022-05-06T20:47:35.240172Z"
    }
   },
   "outputs": [],
   "source": [
    "df10.head()"
   ]
  },
  {
   "cell_type": "markdown",
   "metadata": {},
   "source": [
    "## 10.1. MindMap de hipoteses"
   ]
  },
  {
   "cell_type": "markdown",
   "metadata": {
    "ExecuteTime": {
     "end_time": "2021-08-10T21:56:17.794680Z",
     "start_time": "2021-08-10T21:56:17.784407Z"
    }
   },
   "source": [
    "1. Fenomeno\n",
    "2. Entidades ( Customer, Location, Finace, Family, )\n",
    "3. Caracteristicas da Entidade ( Customer=Nome, Idade, salário, escolaridade )"
   ]
  },
  {
   "cell_type": "markdown",
   "metadata": {},
   "source": [
    "## 10.2. Hipóteses de Negócio"
   ]
  },
  {
   "cell_type": "markdown",
   "metadata": {
    "ExecuteTime": {
     "end_time": "2021-08-10T21:56:18.163046Z",
     "start_time": "2021-08-10T21:56:18.155834Z"
    }
   },
   "source": [
    "1. Afirmação\n",
    "2. Comparação entre variáveis.\n",
    "3. Valor base de comparação"
   ]
  },
  {
   "cell_type": "code",
   "execution_count": null,
   "metadata": {
    "ExecuteTime": {
     "end_time": "2022-05-06T20:47:35.241156Z",
     "start_time": "2022-05-06T20:47:35.241141Z"
    }
   },
   "outputs": [],
   "source": [
    "#Cluster | Variável para testar | Base de comparação"
   ]
  },
  {
   "cell_type": "markdown",
   "metadata": {},
   "source": [
    "## Hipóteses Compra"
   ]
  },
  {
   "cell_type": "markdown",
   "metadata": {},
   "source": [
    "1. Os clientes do cluster insiders usam cartão de crédito em 80% das compras.\n",
    "2. Os clientes do cluster insiders possuem um ticket médio de 10% acima do cluster More Products\n",
    "3. Os clientes do cluster insiders possuem um basket size acima de 5 produtos\n",
    "4. **Os clientes do cluster insiders possuem um volume (produtos) de compras acima de 10% do total de compras**\n",
    "5. **Os clientes do cluster insiders possuem um volume (faturamento) de compras acima de 10% do total de compras**\n",
    "6. **Os clientes do cluster insiders tem um número de devolução abaixo da média da base total de clientes**\n",
    "7. **A mediana do faturamento pelos clientes do cluster insider é 10% maior do que a mediana do faturamento geral.**\n",
    "8. **O percentil do gmv pelos clientes insiders.**"
   ]
  },
  {
   "cell_type": "markdown",
   "metadata": {},
   "source": [
    "### H1: **Os clientes do cluster insiders possuem um volume (produtos) de compras acima de 10% do total de compras**\n",
    "**Verdade:** O cluster insider possuem um volume de compra de produtos de 48.69%"
   ]
  },
  {
   "cell_type": "code",
   "execution_count": null,
   "metadata": {
    "ExecuteTime": {
     "end_time": "2022-05-06T20:47:35.242108Z",
     "start_time": "2022-05-06T20:47:35.242096Z"
    }
   },
   "outputs": [],
   "source": [
    "# soma da qtde de produtos do insiders\n",
    "df_sales_insiders = df10.loc[df10['cluster'] == 4, 'qtde_products'].sum()\n",
    "df_sales_total = df10.loc[:, 'qtde_products'].sum()\n",
    "\n",
    "# soma da qtde de produtos total\n",
    "print( '% Sales Insiders: {:.2f}%'.format( 100*df_sales_insiders / df_sales_total ) )"
   ]
  },
  {
   "cell_type": "markdown",
   "metadata": {},
   "source": [
    "### H2. **Os clientes do cluster insiders possuem um volume (faturamento) de compras acima de 10% do total de compras**\n",
    "**Verdadeiro:** O cluster insider possuem um volume de GMV de 49.01%"
   ]
  },
  {
   "cell_type": "code",
   "execution_count": null,
   "metadata": {
    "ExecuteTime": {
     "end_time": "2022-05-06T20:47:35.243092Z",
     "start_time": "2022-05-06T20:47:35.243081Z"
    }
   },
   "outputs": [],
   "source": [
    "# soma da qtde de produtos do insiders\n",
    "df_gmv_insiders = df10.loc[df10['cluster'] == 4, 'gross_revenue'].sum()\n",
    "df_gmv_total = df10.loc[:, 'gross_revenue'].sum()\n",
    "\n",
    "# soma da qtde de produtos total\n",
    "print( '% GMV Insiders: {:.2f}%'.format( 100*df_gmv_insiders / df_gmv_total ) )"
   ]
  },
  {
   "cell_type": "markdown",
   "metadata": {},
   "source": [
    "### H3. **Os clientes do cluster insiders tem um número de devolução médio abaixo da média da base total de clientes**\n",
    "**Falso**: O cluser insiders tem a média de devoluções acima da média geral"
   ]
  },
  {
   "cell_type": "code",
   "execution_count": null,
   "metadata": {
    "ExecuteTime": {
     "end_time": "2022-05-06T20:47:35.244100Z",
     "start_time": "2022-05-06T20:47:35.244087Z"
    }
   },
   "outputs": [],
   "source": [
    "# media de devolucao do cluster insider\n",
    "df_avg_return_insiders = df10.loc[df10['cluster'] == 3, 'qtde_returns'].mean()\n",
    "\n",
    "# media de devolucao do total\n",
    "df_avg_return_all = df10['qtde_returns'].mean()\n",
    "\n",
    "#\n",
    "print( 'Avg Return Insiders: {} vs Avg Return All:{}'.format( np.round( df_avg_return_insiders, 0 ), \n",
    "                                                              np.round( df_avg_return_all, 0 ) ) )"
   ]
  },
  {
   "cell_type": "markdown",
   "metadata": {},
   "source": [
    "### H4. **A mediana do faturamento pelos clientes do cluster insider é 10% maior do que a  mediana do faturamento geral.**\n",
    "**Verdadeiro**. A mediana do faturamento é 276% acima da média."
   ]
  },
  {
   "cell_type": "code",
   "execution_count": null,
   "metadata": {
    "ExecuteTime": {
     "end_time": "2022-05-06T20:47:35.244953Z",
     "start_time": "2022-05-06T20:47:35.244941Z"
    }
   },
   "outputs": [],
   "source": [
    "# mediana de gmv do insiders\n",
    "df_median_gmv_insiders = df10.loc[df10['cluster'] == 3, 'gross_revenue'].median()\n",
    "\n",
    "# mediana de gmv do total\n",
    "df_median_gmv_total = df10.loc[:, 'gross_revenue'].median()\n",
    "\n",
    "gmv_diff = ( df_median_gmv_insiders - df_median_gmv_total ) / df_median_gmv_total\n",
    "print( 'Median Diff: {:.2f}%'.format( 100*gmv_diff ) )"
   ]
  },
  {
   "cell_type": "markdown",
   "metadata": {},
   "source": [
    "### H5. **A GMV dos clientes insiders esta concentrados no 3 quartil**\n",
    "**Falso**. O faturamento do cluster insiders está concentrada na quartil 1"
   ]
  },
  {
   "cell_type": "code",
   "execution_count": null,
   "metadata": {
    "ExecuteTime": {
     "end_time": "2022-05-06T20:47:35.245891Z",
     "start_time": "2022-05-06T20:47:35.245880Z"
    }
   },
   "outputs": [],
   "source": [
    "np.percentile( df10.loc[df10['cluster'] == 1, 'gross_revenue'], q=0.1 )"
   ]
  },
  {
   "cell_type": "code",
   "execution_count": null,
   "metadata": {
    "ExecuteTime": {
     "end_time": "2022-05-06T20:47:35.246870Z",
     "start_time": "2022-05-06T20:47:35.246858Z"
    }
   },
   "outputs": [],
   "source": [
    "np.percentile( df10.loc[df10['cluster'] == 1, 'gross_revenue'], q=0.9 )"
   ]
  },
  {
   "cell_type": "code",
   "execution_count": null,
   "metadata": {
    "ExecuteTime": {
     "end_time": "2022-05-06T20:47:35.247574Z",
     "start_time": "2022-05-06T20:47:35.247563Z"
    },
    "cell_style": "split"
   },
   "outputs": [],
   "source": [
    "sns.boxplot( x=df_aux )"
   ]
  },
  {
   "cell_type": "code",
   "execution_count": null,
   "metadata": {
    "ExecuteTime": {
     "end_time": "2022-05-06T20:47:35.248484Z",
     "start_time": "2022-05-06T20:47:35.248472Z"
    },
    "cell_style": "split"
   },
   "outputs": [],
   "source": [
    "df_aux = df10.loc[(df10['cluster'] == 1) & (df10['gross_revenue'] < 10000 ), 'gross_revenue'];\n",
    "sns.violinplot( x=df_aux )"
   ]
  },
  {
   "cell_type": "markdown",
   "metadata": {},
   "source": [
    "## Hipóteses Cliente"
   ]
  },
  {
   "cell_type": "markdown",
   "metadata": {},
   "source": [
    "1. 60% dos clientes do cluster insiders possuem o estado civil de solteiro.\n",
    "2. 10% dos clientes do cluster insiders estão na faixa de 24-35 anos.\n",
    "3. 40% das localidades de entrega do cluster insiders estão dentro de um raio de 50km.\n",
    "4.  5% dos clientes do cluster insiders recebem mais de 100 mil dólares anualmente.\n",
    "5. 90% dos clientes do cluster insiders tem ensino superior completo."
   ]
  },
  {
   "cell_type": "markdown",
   "metadata": {},
   "source": [
    "## Hipóteses Produto"
   ]
  },
  {
   "cell_type": "markdown",
   "metadata": {},
   "source": [
    "1. 30% de todos os produtos em pacotes grandes são comprados pelos clientes do cluster insiders.\n",
    "2. A mediana dos preços dos produtos comprados pelos clientes do cluster insider é 10% maior do que a mediana de todos os preços dos produtos.\n",
    "3. O percentil do preço dos produtos comprados pelos clientes insiders.\n",
    "4. O peso médio dos produtos comprados pelos clientes do cluster insiders é maior do que o peso médio dos outros clusters.\n",
    "5. A idade média dos produtos comprados pelos clientes do cluster insiders é menor do que 15 dias."
   ]
  },
  {
   "cell_type": "markdown",
   "metadata": {},
   "source": [
    "## Perguntas de Negócio"
   ]
  },
  {
   "cell_type": "code",
   "execution_count": null,
   "metadata": {
    "ExecuteTime": {
     "end_time": "2022-05-06T20:47:35.249350Z",
     "start_time": "2022-05-06T20:47:35.249339Z"
    }
   },
   "outputs": [],
   "source": [
    "df10.head()"
   ]
  },
  {
   "cell_type": "markdown",
   "metadata": {},
   "source": [
    "### **1. Quem são as pessoas elegíveis para participar do programa de Insiders ?**"
   ]
  },
  {
   "cell_type": "code",
   "execution_count": null,
   "metadata": {
    "ExecuteTime": {
     "end_time": "2022-05-06T20:47:35.250423Z",
     "start_time": "2022-05-06T20:47:35.250410Z"
    }
   },
   "outputs": [],
   "source": [
    "df10.loc[df10['cluster'] == 1, 'customer_id'].head()"
   ]
  },
  {
   "cell_type": "markdown",
   "metadata": {},
   "source": [
    "### **2. Quantos clientes farão parte do grupo?**"
   ]
  },
  {
   "cell_type": "code",
   "execution_count": null,
   "metadata": {
    "ExecuteTime": {
     "end_time": "2022-05-06T20:47:35.251238Z",
     "start_time": "2022-05-06T20:47:35.251228Z"
    }
   },
   "outputs": [],
   "source": [
    "df10.loc[df10['cluster'] == 1, 'customer_id'].size"
   ]
  },
  {
   "cell_type": "markdown",
   "metadata": {},
   "source": [
    "### 3. Quais as principais características desses clientes ?###"
   ]
  },
  {
   "cell_type": "markdown",
   "metadata": {
    "ExecuteTime": {
     "end_time": "2021-08-18T00:37:45.708778Z",
     "start_time": "2021-08-18T00:37:45.702459Z"
    }
   },
   "source": [
    "#### Cluster Insider\n",
    "    - Número de customers: 468 (16% do customers )\n",
    "    - Faturamento médio: 8836\n",
    "    - Recência média: 21 dias\n",
    "    - Média de Produtos comprados: 424 produtos\n",
    "    - Frequência de Produtos comprados: 0.09 produtos/dia\n",
    "    - Receita em média: $8836.13,00 dólares"
   ]
  },
  {
   "cell_type": "markdown",
   "metadata": {},
   "source": [
    "## **4. Qual a porcentagem de contribuição do faturamento, vinda do Insiders ?**"
   ]
  },
  {
   "cell_type": "code",
   "execution_count": null,
   "metadata": {
    "ExecuteTime": {
     "end_time": "2022-05-06T20:47:35.252233Z",
     "start_time": "2022-05-06T20:47:35.252220Z"
    }
   },
   "outputs": [],
   "source": [
    "df_insiders_gmv = df10.loc[df10['cluster'] == 1, 'gross_reveneu'].sum()\n",
    "df_all_gmv = df10.loc[:, 'gross_reveneu'].sum()\n",
    "\n",
    "print( '% GMV from Insiders: {}'.format( df_insiders_gmv / df_all_gmv ) )"
   ]
  },
  {
   "cell_type": "markdown",
   "metadata": {},
   "source": [
    "## **5. Qual a expectativa de faturamento desse grupo para os próximos meses ?**"
   ]
  },
  {
   "cell_type": "markdown",
   "metadata": {},
   "source": [
    "## **6. Quais as condições para uma pessoa ser elegível ao Insiders ?**"
   ]
  },
  {
   "cell_type": "markdown",
   "metadata": {},
   "source": [
    "### **7. Quais as condições para uma pessoa ser removida do Insiders ?**"
   ]
  },
  {
   "cell_type": "markdown",
   "metadata": {},
   "source": [
    "8. Qual a garantia que o programa Insiders é melhor que o restante da base ?"
   ]
  },
  {
   "cell_type": "markdown",
   "metadata": {},
   "source": [
    "9. Quais ações o time de marketing pode realizar para aumentar o faturamento?"
   ]
  },
  {
   "cell_type": "markdown",
   "metadata": {},
   "source": [
    "## 10.3. Priorização das Hipóteses"
   ]
  },
  {
   "cell_type": "markdown",
   "metadata": {
    "heading_collapsed": true
   },
   "source": [
    "## 10.4. Validação das Hipóteses"
   ]
  },
  {
   "cell_type": "markdown",
   "metadata": {},
   "source": [
    "## 10.5. Quadro de Respostas"
   ]
  },
  {
   "cell_type": "code",
   "execution_count": null,
   "metadata": {},
   "outputs": [],
   "source": []
  },
  {
   "cell_type": "code",
   "execution_count": null,
   "metadata": {},
   "outputs": [],
   "source": []
  },
  {
   "cell_type": "code",
   "execution_count": null,
   "metadata": {},
   "outputs": [],
   "source": []
  },
  {
   "cell_type": "code",
   "execution_count": null,
   "metadata": {},
   "outputs": [],
   "source": []
  },
  {
   "cell_type": "code",
   "execution_count": null,
   "metadata": {},
   "outputs": [],
   "source": []
  },
  {
   "cell_type": "code",
   "execution_count": null,
   "metadata": {},
   "outputs": [],
   "source": []
  },
  {
   "cell_type": "code",
   "execution_count": null,
   "metadata": {},
   "outputs": [],
   "source": []
  },
  {
   "cell_type": "markdown",
   "metadata": {},
   "source": [
    "# <font color='red'> 11.0. Deploy To Production </font>"
   ]
  },
  {
   "cell_type": "code",
   "execution_count": null,
   "metadata": {
    "ExecuteTime": {
     "end_time": "2022-05-06T20:47:35.253049Z",
     "start_time": "2022-05-06T20:47:35.253038Z"
    }
   },
   "outputs": [],
   "source": [
    "# plano\n",
    "# TMUX"
   ]
  }
 ],
 "metadata": {
  "kernelspec": {
   "display_name": "Python 3 (ipykernel)",
   "language": "python",
   "name": "python3"
  },
  "language_info": {
   "codemirror_mode": {
    "name": "ipython",
    "version": 3
   },
   "file_extension": ".py",
   "mimetype": "text/x-python",
   "name": "python",
   "nbconvert_exporter": "python",
   "pygments_lexer": "ipython3",
   "version": "3.9.12"
  }
 },
 "nbformat": 4,
 "nbformat_minor": 4
}
